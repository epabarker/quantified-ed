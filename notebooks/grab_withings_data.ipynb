{
 "cells": [
  {
   "cell_type": "code",
   "execution_count": 1,
   "id": "initial_id",
   "metadata": {
    "collapsed": true,
    "ExecuteTime": {
     "end_time": "2024-03-14T13:53:20.165114Z",
     "start_time": "2024-03-14T13:53:19.598344Z"
    }
   },
   "outputs": [],
   "source": [
    "from ast import literal_eval\n",
    "from withings_api import WithingsAuth, WithingsApi, AuthScope\n",
    "from withings_api.common import get_measure_value, MeasureType"
   ]
  },
  {
   "cell_type": "code",
   "outputs": [],
   "source": [
    "with open('creds_withings.json') as f:\n",
    "    CLIENT = literal_eval(f.read())\n",
    "CLIENT = CLIENT['CLIENT']\n",
    "CLIENT_ID = CLIENT['CLIENT_ID']\n",
    "CLIENT_SECRET = CLIENT['CLIENT_SECRET']\n",
    "CALLBACK_URL = CLIENT['CALLBACK_URL']"
   ],
   "metadata": {
    "collapsed": false,
    "ExecuteTime": {
     "end_time": "2024-03-14T13:53:20.170612Z",
     "start_time": "2024-03-14T13:53:20.166123Z"
    }
   },
   "id": "8b441c86a65cf13f",
   "execution_count": 2
  },
  {
   "cell_type": "code",
   "outputs": [],
   "source": [
    "auth = WithingsAuth(\n",
    "    client_id=CLIENT_ID,\n",
    "    consumer_secret=CLIENT_SECRET,\n",
    "    callback_uri=CALLBACK_URL,\n",
    "    scope=(\n",
    "        AuthScope.USER_ACTIVITY,\n",
    "        AuthScope.USER_METRICS,\n",
    "        AuthScope.USER_INFO,\n",
    "        AuthScope.USER_SLEEP_EVENTS,\n",
    "    )\n",
    ")"
   ],
   "metadata": {
    "collapsed": false,
    "ExecuteTime": {
     "end_time": "2024-03-14T13:53:20.183137Z",
     "start_time": "2024-03-14T13:53:20.171634Z"
    }
   },
   "id": "d6e285ed561b9154",
   "execution_count": 3
  },
  {
   "cell_type": "code",
   "outputs": [
    {
     "name": "stdout",
     "output_type": "stream",
     "text": [
      "Go to this URL and authorize the app: https://account.withings.com/oauth2_user/authorize2?response_type=code&client_id=f66210c979df098aa8143fc9a66a416c977dbc6d79b38a3ea4993e814af359e4&redirect_uri=https%3A%2F%2Fedbarker.me&scope=user.activity%2Cuser.metrics%2Cuser.info%2Cuser.sleepevents&state=VwAIPokeueoTjHXuHp7pMeUlUw845l\n"
     ]
    }
   ],
   "source": [
    "authorize_url = auth.get_authorize_url()\n",
    "print(f\"Go to this URL and authorize the app: {authorize_url}\")"
   ],
   "metadata": {
    "collapsed": false,
    "ExecuteTime": {
     "end_time": "2024-03-14T13:53:22.051515Z",
     "start_time": "2024-03-14T13:53:22.047732Z"
    }
   },
   "id": "65f3b9d10a11a4dd",
   "execution_count": 4
  },
  {
   "cell_type": "code",
   "outputs": [],
   "source": [
    "code = '9fa61c3ffbcd699b789246587abf7af6f2b53631&state=VwAIPokeueoTjHXuHp7pMeUlUw845l'"
   ],
   "metadata": {
    "collapsed": false,
    "ExecuteTime": {
     "end_time": "2024-03-14T13:53:59.926891Z",
     "start_time": "2024-03-14T13:53:59.922911Z"
    }
   },
   "id": "efe87ba9ded60c87",
   "execution_count": 5
  },
  {
   "cell_type": "code",
   "outputs": [
    {
     "ename": "CustomOAuth2Error",
     "evalue": "(0) ",
     "output_type": "error",
     "traceback": [
      "\u001B[1;31m---------------------------------------------------------------------------\u001B[0m",
      "\u001B[1;31mCustomOAuth2Error\u001B[0m                         Traceback (most recent call last)",
      "Cell \u001B[1;32mIn[6], line 1\u001B[0m\n\u001B[1;32m----> 1\u001B[0m credentials \u001B[38;5;241m=\u001B[39m \u001B[43mauth\u001B[49m\u001B[38;5;241;43m.\u001B[39;49m\u001B[43mget_credentials\u001B[49m\u001B[43m(\u001B[49m\u001B[43mcode\u001B[49m\u001B[43m)\u001B[49m\n",
      "File \u001B[1;32mP:\\Projects\\QuantifiedEd\\venv\\Lib\\site-packages\\withings_api\\__init__.py:419\u001B[0m, in \u001B[0;36mWithingsAuth.get_credentials\u001B[1;34m(self, code)\u001B[0m\n\u001B[0;32m    417\u001B[0m \u001B[38;5;28;01mdef\u001B[39;00m \u001B[38;5;21mget_credentials\u001B[39m(\u001B[38;5;28mself\u001B[39m, code: \u001B[38;5;28mstr\u001B[39m) \u001B[38;5;241m-\u001B[39m\u001B[38;5;241m>\u001B[39m Credentials2:\n\u001B[0;32m    418\u001B[0m \u001B[38;5;250m    \u001B[39m\u001B[38;5;124;03m\"\"\"Get the oauth credentials.\"\"\"\u001B[39;00m\n\u001B[1;32m--> 419\u001B[0m     response: Final \u001B[38;5;241m=\u001B[39m \u001B[38;5;28;43mself\u001B[39;49m\u001B[38;5;241;43m.\u001B[39;49m\u001B[43m_session\u001B[49m\u001B[38;5;241;43m.\u001B[39;49m\u001B[43mfetch_token\u001B[49m\u001B[43m(\u001B[49m\n\u001B[0;32m    420\u001B[0m \u001B[43m        \u001B[49m\u001B[38;5;124;43m\"\u001B[39;49m\u001B[38;5;132;43;01m%s\u001B[39;49;00m\u001B[38;5;124;43m/\u001B[39;49m\u001B[38;5;132;43;01m%s\u001B[39;49;00m\u001B[38;5;124;43m\"\u001B[39;49m\u001B[43m \u001B[49m\u001B[38;5;241;43m%\u001B[39;49m\u001B[43m \u001B[49m\u001B[43m(\u001B[49m\u001B[43mAbstractWithingsApi\u001B[49m\u001B[38;5;241;43m.\u001B[39;49m\u001B[43mURL\u001B[49m\u001B[43m,\u001B[49m\u001B[43m \u001B[49m\u001B[38;5;28;43mself\u001B[39;49m\u001B[38;5;241;43m.\u001B[39;49m\u001B[43mPATH_V2_OAUTH2\u001B[49m\u001B[43m)\u001B[49m\u001B[43m,\u001B[49m\n\u001B[0;32m    421\u001B[0m \u001B[43m        \u001B[49m\u001B[43mcode\u001B[49m\u001B[38;5;241;43m=\u001B[39;49m\u001B[43mcode\u001B[49m\u001B[43m,\u001B[49m\n\u001B[0;32m    422\u001B[0m \u001B[43m        \u001B[49m\u001B[43mclient_secret\u001B[49m\u001B[38;5;241;43m=\u001B[39;49m\u001B[38;5;28;43mself\u001B[39;49m\u001B[38;5;241;43m.\u001B[39;49m\u001B[43m_consumer_secret\u001B[49m\u001B[43m,\u001B[49m\n\u001B[0;32m    423\u001B[0m \u001B[43m        \u001B[49m\u001B[43minclude_client_id\u001B[49m\u001B[38;5;241;43m=\u001B[39;49m\u001B[38;5;28;43;01mTrue\u001B[39;49;00m\u001B[43m,\u001B[49m\n\u001B[0;32m    424\u001B[0m \u001B[43m        \u001B[49m\u001B[43maction\u001B[49m\u001B[38;5;241;43m=\u001B[39;49m\u001B[38;5;124;43m\"\u001B[39;49m\u001B[38;5;124;43mrequesttoken\u001B[39;49m\u001B[38;5;124;43m\"\u001B[39;49m\u001B[43m,\u001B[49m\n\u001B[0;32m    425\u001B[0m \u001B[43m    \u001B[49m\u001B[43m)\u001B[49m\n\u001B[0;32m    427\u001B[0m     \u001B[38;5;28;01mreturn\u001B[39;00m Credentials2(\n\u001B[0;32m    428\u001B[0m         \u001B[38;5;241m*\u001B[39m\u001B[38;5;241m*\u001B[39m{\n\u001B[0;32m    429\u001B[0m             \u001B[38;5;241m*\u001B[39m\u001B[38;5;241m*\u001B[39mresponse,\n\u001B[1;32m   (...)\u001B[0m\n\u001B[0;32m    433\u001B[0m         }\n\u001B[0;32m    434\u001B[0m     )\n",
      "File \u001B[1;32mP:\\Projects\\QuantifiedEd\\venv\\Lib\\site-packages\\requests_oauthlib\\oauth2_session.py:366\u001B[0m, in \u001B[0;36mOAuth2Session.fetch_token\u001B[1;34m(self, token_url, code, authorization_response, body, auth, username, password, method, force_querystring, timeout, headers, verify, proxies, include_client_id, client_secret, cert, **kwargs)\u001B[0m\n\u001B[0;32m    363\u001B[0m     log\u001B[38;5;241m.\u001B[39mdebug(\u001B[38;5;124m\"\u001B[39m\u001B[38;5;124mInvoking hook \u001B[39m\u001B[38;5;132;01m%s\u001B[39;00m\u001B[38;5;124m.\u001B[39m\u001B[38;5;124m\"\u001B[39m, hook)\n\u001B[0;32m    364\u001B[0m     r \u001B[38;5;241m=\u001B[39m hook(r)\n\u001B[1;32m--> 366\u001B[0m \u001B[38;5;28;43mself\u001B[39;49m\u001B[38;5;241;43m.\u001B[39;49m\u001B[43m_client\u001B[49m\u001B[38;5;241;43m.\u001B[39;49m\u001B[43mparse_request_body_response\u001B[49m\u001B[43m(\u001B[49m\u001B[43mr\u001B[49m\u001B[38;5;241;43m.\u001B[39;49m\u001B[43mtext\u001B[49m\u001B[43m,\u001B[49m\u001B[43m \u001B[49m\u001B[43mscope\u001B[49m\u001B[38;5;241;43m=\u001B[39;49m\u001B[38;5;28;43mself\u001B[39;49m\u001B[38;5;241;43m.\u001B[39;49m\u001B[43mscope\u001B[49m\u001B[43m)\u001B[49m\n\u001B[0;32m    367\u001B[0m \u001B[38;5;28mself\u001B[39m\u001B[38;5;241m.\u001B[39mtoken \u001B[38;5;241m=\u001B[39m \u001B[38;5;28mself\u001B[39m\u001B[38;5;241m.\u001B[39m_client\u001B[38;5;241m.\u001B[39mtoken\n\u001B[0;32m    368\u001B[0m log\u001B[38;5;241m.\u001B[39mdebug(\u001B[38;5;124m\"\u001B[39m\u001B[38;5;124mObtained token \u001B[39m\u001B[38;5;132;01m%s\u001B[39;00m\u001B[38;5;124m.\u001B[39m\u001B[38;5;124m\"\u001B[39m, \u001B[38;5;28mself\u001B[39m\u001B[38;5;241m.\u001B[39mtoken)\n",
      "File \u001B[1;32mP:\\Projects\\QuantifiedEd\\venv\\Lib\\site-packages\\oauthlib\\oauth2\\rfc6749\\clients\\base.py:427\u001B[0m, in \u001B[0;36mClient.parse_request_body_response\u001B[1;34m(self, body, scope, **kwargs)\u001B[0m\n\u001B[0;32m    379\u001B[0m \u001B[38;5;250m\u001B[39m\u001B[38;5;124;03m\"\"\"Parse the JSON response body.\u001B[39;00m\n\u001B[0;32m    380\u001B[0m \n\u001B[0;32m    381\u001B[0m \u001B[38;5;124;03mIf the access token request is valid and authorized, the\u001B[39;00m\n\u001B[1;32m   (...)\u001B[0m\n\u001B[0;32m    424\u001B[0m \u001B[38;5;124;03m.. _`Section 7.1`: https://tools.ietf.org/html/rfc6749#section-7.1\u001B[39;00m\n\u001B[0;32m    425\u001B[0m \u001B[38;5;124;03m\"\"\"\u001B[39;00m\n\u001B[0;32m    426\u001B[0m scope \u001B[38;5;241m=\u001B[39m \u001B[38;5;28mself\u001B[39m\u001B[38;5;241m.\u001B[39mscope \u001B[38;5;28;01mif\u001B[39;00m scope \u001B[38;5;129;01mis\u001B[39;00m \u001B[38;5;28;01mNone\u001B[39;00m \u001B[38;5;28;01melse\u001B[39;00m scope\n\u001B[1;32m--> 427\u001B[0m \u001B[38;5;28mself\u001B[39m\u001B[38;5;241m.\u001B[39mtoken \u001B[38;5;241m=\u001B[39m \u001B[43mparse_token_response\u001B[49m\u001B[43m(\u001B[49m\u001B[43mbody\u001B[49m\u001B[43m,\u001B[49m\u001B[43m \u001B[49m\u001B[43mscope\u001B[49m\u001B[38;5;241;43m=\u001B[39;49m\u001B[43mscope\u001B[49m\u001B[43m)\u001B[49m\n\u001B[0;32m    428\u001B[0m \u001B[38;5;28mself\u001B[39m\u001B[38;5;241m.\u001B[39mpopulate_token_attributes(\u001B[38;5;28mself\u001B[39m\u001B[38;5;241m.\u001B[39mtoken)\n\u001B[0;32m    429\u001B[0m \u001B[38;5;28;01mreturn\u001B[39;00m \u001B[38;5;28mself\u001B[39m\u001B[38;5;241m.\u001B[39mtoken\n",
      "File \u001B[1;32mP:\\Projects\\QuantifiedEd\\venv\\Lib\\site-packages\\oauthlib\\oauth2\\rfc6749\\parameters.py:441\u001B[0m, in \u001B[0;36mparse_token_response\u001B[1;34m(body, scope)\u001B[0m\n\u001B[0;32m    438\u001B[0m         params[\u001B[38;5;124m'\u001B[39m\u001B[38;5;124mexpires_at\u001B[39m\u001B[38;5;124m'\u001B[39m] \u001B[38;5;241m=\u001B[39m time\u001B[38;5;241m.\u001B[39mtime() \u001B[38;5;241m+\u001B[39m \u001B[38;5;28mint\u001B[39m(params[\u001B[38;5;124m'\u001B[39m\u001B[38;5;124mexpires_in\u001B[39m\u001B[38;5;124m'\u001B[39m])\n\u001B[0;32m    440\u001B[0m params \u001B[38;5;241m=\u001B[39m OAuth2Token(params, old_scope\u001B[38;5;241m=\u001B[39mscope)\n\u001B[1;32m--> 441\u001B[0m \u001B[43mvalidate_token_parameters\u001B[49m\u001B[43m(\u001B[49m\u001B[43mparams\u001B[49m\u001B[43m)\u001B[49m\n\u001B[0;32m    442\u001B[0m \u001B[38;5;28;01mreturn\u001B[39;00m params\n",
      "File \u001B[1;32mP:\\Projects\\QuantifiedEd\\venv\\Lib\\site-packages\\oauthlib\\oauth2\\rfc6749\\parameters.py:448\u001B[0m, in \u001B[0;36mvalidate_token_parameters\u001B[1;34m(params)\u001B[0m\n\u001B[0;32m    446\u001B[0m \u001B[38;5;250m\u001B[39m\u001B[38;5;124;03m\"\"\"Ensures token presence, token type, expiration and scope in params.\"\"\"\u001B[39;00m\n\u001B[0;32m    447\u001B[0m \u001B[38;5;28;01mif\u001B[39;00m \u001B[38;5;124m'\u001B[39m\u001B[38;5;124merror\u001B[39m\u001B[38;5;124m'\u001B[39m \u001B[38;5;129;01min\u001B[39;00m params:\n\u001B[1;32m--> 448\u001B[0m     \u001B[43mraise_from_error\u001B[49m\u001B[43m(\u001B[49m\u001B[43mparams\u001B[49m\u001B[38;5;241;43m.\u001B[39;49m\u001B[43mget\u001B[49m\u001B[43m(\u001B[49m\u001B[38;5;124;43m'\u001B[39;49m\u001B[38;5;124;43merror\u001B[39;49m\u001B[38;5;124;43m'\u001B[39;49m\u001B[43m)\u001B[49m\u001B[43m,\u001B[49m\u001B[43m \u001B[49m\u001B[43mparams\u001B[49m\u001B[43m)\u001B[49m\n\u001B[0;32m    450\u001B[0m \u001B[38;5;28;01mif\u001B[39;00m \u001B[38;5;129;01mnot\u001B[39;00m \u001B[38;5;124m'\u001B[39m\u001B[38;5;124maccess_token\u001B[39m\u001B[38;5;124m'\u001B[39m \u001B[38;5;129;01min\u001B[39;00m params:\n\u001B[0;32m    451\u001B[0m     \u001B[38;5;28;01mraise\u001B[39;00m MissingTokenError(description\u001B[38;5;241m=\u001B[39m\u001B[38;5;124m\"\u001B[39m\u001B[38;5;124mMissing access token parameter.\u001B[39m\u001B[38;5;124m\"\u001B[39m)\n",
      "File \u001B[1;32mP:\\Projects\\QuantifiedEd\\venv\\Lib\\site-packages\\oauthlib\\oauth2\\rfc6749\\errors.py:400\u001B[0m, in \u001B[0;36mraise_from_error\u001B[1;34m(error, params)\u001B[0m\n\u001B[0;32m    398\u001B[0m     \u001B[38;5;28;01mif\u001B[39;00m \u001B[38;5;28mcls\u001B[39m\u001B[38;5;241m.\u001B[39merror \u001B[38;5;241m==\u001B[39m error:\n\u001B[0;32m    399\u001B[0m         \u001B[38;5;28;01mraise\u001B[39;00m \u001B[38;5;28mcls\u001B[39m(\u001B[38;5;241m*\u001B[39m\u001B[38;5;241m*\u001B[39mkwargs)\n\u001B[1;32m--> 400\u001B[0m \u001B[38;5;28;01mraise\u001B[39;00m CustomOAuth2Error(error\u001B[38;5;241m=\u001B[39merror, \u001B[38;5;241m*\u001B[39m\u001B[38;5;241m*\u001B[39mkwargs)\n",
      "\u001B[1;31mCustomOAuth2Error\u001B[0m: (0) "
     ]
    }
   ],
   "source": [
    "credentials = auth.get_credentials(code)"
   ],
   "metadata": {
    "collapsed": false,
    "ExecuteTime": {
     "end_time": "2024-03-14T13:54:08.438556Z",
     "start_time": "2024-03-14T13:54:01.060886Z"
    }
   },
   "id": "a4a651b925370c72",
   "execution_count": 6
  },
  {
   "cell_type": "code",
   "outputs": [],
   "source": [
    "\n",
    "api = WithingsApi(credentials)\n",
    "meas_result = api.measure_get_meas()\n",
    "weight_or_none = get_measure_value(meas_result, with_measure_type=MeasureType.WEIGHT)"
   ],
   "metadata": {
    "collapsed": false
   },
   "id": "6b0a407e05f1c0c0",
   "execution_count": null
  },
  {
   "cell_type": "code",
   "outputs": [],
   "source": [],
   "metadata": {
    "collapsed": false
   },
   "id": "5c1c10a49f5797e4"
  }
 ],
 "metadata": {
  "kernelspec": {
   "display_name": "Python 3",
   "language": "python",
   "name": "python3"
  },
  "language_info": {
   "codemirror_mode": {
    "name": "ipython",
    "version": 2
   },
   "file_extension": ".py",
   "mimetype": "text/x-python",
   "name": "python",
   "nbconvert_exporter": "python",
   "pygments_lexer": "ipython2",
   "version": "2.7.6"
  }
 },
 "nbformat": 4,
 "nbformat_minor": 5
}
