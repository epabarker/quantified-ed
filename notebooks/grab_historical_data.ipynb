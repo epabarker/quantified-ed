{
 "cells": [
  {
   "cell_type": "code",
   "execution_count": null,
   "id": "initial_id",
   "metadata": {
    "ExecuteTime": {
     "end_time": "2024-03-09T20:45:33.607684800Z",
     "start_time": "2024-03-09T20:45:31.605606800Z"
    }
   },
   "outputs": [],
   "source": [
    "import fitbit\n",
    "import json\n",
    "\n",
    "import pandas as pd\n",
    "import cherrypy\n",
    "import os\n",
    "import sys\n",
    "import threading\n",
    "import traceback\n",
    "import webbrowser\n",
    "import time\n",
    "from pydlc import dense_lines\n",
    "from matplotlib import pyplot as plt\n",
    "import plotly.express as px\n",
    "from scipy.signal import savgol_filter\n",
    "import numpy as np\n",
    "\n",
    "from urllib.parse import urlparse\n",
    "from base64 import b64encode\n",
    "from fitbit.api import Fitbit\n",
    "from oauthlib.oauth2.rfc6749.errors import MismatchingStateError, MissingTokenError\n",
    "from datetime import datetime, date, timedelta\n",
    "from ast import literal_eval\n",
    "from scipy.interpolate import interp1d"
   ]
  },
  {
   "cell_type": "code",
   "execution_count": null,
   "id": "35df498acdc9eafe",
   "metadata": {
    "ExecuteTime": {
     "end_time": "2024-03-09T20:25:09.791716500Z",
     "start_time": "2024-03-09T20:25:09.775717200Z"
    },
    "collapsed": false,
    "jupyter": {
     "outputs_hidden": false
    }
   },
   "outputs": [],
   "source": [
    "class OAuth2Server:\n",
    "    def __init__(self, client_id, client_secret,\n",
    "                 redirect_uri='http://127.0.0.1:8080/'):\n",
    "        \"\"\" Initialize the FitbitOauth2Client \"\"\"\n",
    "        self.success_html = \"\"\"\n",
    "            <h1>You are now authorized to access the Fitbit API!</h1>\n",
    "            <br/><h3>You can close this window</h3>\"\"\"\n",
    "        self.failure_html = \"\"\"\n",
    "            <h1>ERROR: %s</h1><br/><h3>You can close this window</h3>%s\"\"\"\n",
    "\n",
    "        self.fitbit = Fitbit(\n",
    "            client_id,\n",
    "            client_secret,\n",
    "            redirect_uri=redirect_uri,\n",
    "            timeout=10,\n",
    "        )\n",
    "\n",
    "        self.redirect_uri = redirect_uri\n",
    "\n",
    "    def browser_authorize(self):\n",
    "        \"\"\"\n",
    "        Open a browser to the authorization url and spool up a CherryPy\n",
    "        server to accept the response\n",
    "        \"\"\"\n",
    "        url, _ = self.fitbit.client.authorize_token_url()\n",
    "        # Open the web browser in a new thread for command-line browser support\n",
    "        threading.Timer(1, webbrowser.open, args=(url,)).start()\n",
    "\n",
    "        # Same with redirect_uri hostname and port.\n",
    "        urlparams = urlparse(self.redirect_uri)\n",
    "        cherrypy.config.update({'server.socket_host': urlparams.hostname,\n",
    "                                'server.socket_port': urlparams.port})\n",
    "\n",
    "        cherrypy.quickstart(self)\n",
    "\n",
    "    @cherrypy.expose\n",
    "    def index(self, state, code=None, error=None):\n",
    "        \"\"\"\n",
    "        Receive a Fitbit response containing a verification code. Use the code\n",
    "        to fetch the access_token.\n",
    "        \"\"\"\n",
    "        error = None\n",
    "        if code:\n",
    "            try:\n",
    "                self.fitbit.client.fetch_access_token(code)\n",
    "            except MissingTokenError:\n",
    "                error = self._fmt_failure(\n",
    "                    'Missing access token parameter.</br>Please check that '\n",
    "                    'you are using the correct client_secret')\n",
    "            except MismatchingStateError:\n",
    "                error = self._fmt_failure('CSRF Warning! Mismatching state')\n",
    "        else:\n",
    "            error = self._fmt_failure('Unknown error while authenticating')\n",
    "        # Use a thread to shutdown cherrypy so we can return HTML first\n",
    "        self._shutdown_cherrypy()\n",
    "        return error if error else self.success_html\n",
    "\n",
    "    def _fmt_failure(self, message):\n",
    "        tb = traceback.format_tb(sys.exc_info()[2])\n",
    "        tb_html = '<pre>%s</pre>' % ('\\n'.join(tb)) if tb else ''\n",
    "        return self.failure_html % (message, tb_html)\n",
    "\n",
    "    def _shutdown_cherrypy(self):\n",
    "        \"\"\" Shutdown cherrypy in one second, if it's running \"\"\"\n",
    "        if cherrypy.engine.state == cherrypy.engine.states.STARTED:\n",
    "            threading.Timer(1, cherrypy.engine.exit).start()"
   ]
  },
  {
   "cell_type": "code",
   "execution_count": null,
   "id": "e02a15882190e64a",
   "metadata": {
    "ExecuteTime": {
     "end_time": "2024-03-09T20:25:25.462366500Z",
     "start_time": "2024-03-09T20:25:09.783714100Z"
    },
    "collapsed": false,
    "jupyter": {
     "outputs_hidden": false
    }
   },
   "outputs": [],
   "source": [
    "with open('fitbit_tokens.json') as f:\n",
    "    TOKENS = literal_eval(f.read())\n",
    "CLIENT = TOKENS['CLIENT']\n",
    "CLIENT_ID = CLIENT['CLIENT_ID']\n",
    "CLIENT_SECRET = CLIENT['CLIENT_SECRET']\n",
    "REDIRECT_URI = 'http://127.0.0.1:8080/'\n",
    "server = OAuth2Server(CLIENT_ID,CLIENT_SECRET)\n",
    "server.browser_authorize()\n",
    "profile = server.fitbit.user_profile_get()\n",
    "TOKENS = server.fitbit.client.session.token\n",
    "TOKENS = server.fitbit.client.session.token\n",
    "ACCESS_TOKEN = TOKENS['access_token']\n",
    "REFRESH_TOKEN = TOKENS['refresh_token']\n",
    "EXPIRES_AT = TOKENS['expires_at']\n",
    "client = Fitbit(\n",
    "    client_id=CLIENT_ID,\n",
    "    client_secret=CLIENT_SECRET,\n",
    "    access_token=ACCESS_TOKEN,\n",
    "    refresh_token=REFRESH_TOKEN,\n",
    "    expires_at=EXPIRES_AT,\n",
    "    redirect_uri=REDIRECT_URI\n",
    ")"
   ]
  },
  {
   "cell_type": "code",
   "execution_count": null,
   "id": "1e72a768866cb630",
   "metadata": {
    "ExecuteTime": {
     "end_time": "2024-03-09T20:25:25.480698600Z",
     "start_time": "2024-03-09T20:25:25.464646700Z"
    },
    "collapsed": false,
    "jupyter": {
     "outputs_hidden": false
    }
   },
   "outputs": [],
   "source": [
    "end_date = date.today()"
   ]
  },
  {
   "cell_type": "code",
   "execution_count": null,
   "id": "8171f52d3206b11c",
   "metadata": {
    "ExecuteTime": {
     "end_time": "2024-03-09T20:25:25.481697500Z",
     "start_time": "2024-03-09T20:25:25.469160800Z"
    },
    "collapsed": false,
    "jupyter": {
     "outputs_hidden": false
    }
   },
   "outputs": [],
   "source": [
    "start_date = end_date - timedelta(days=365)"
   ]
  },
  {
   "cell_type": "code",
   "execution_count": null,
   "id": "59bcba9c2e352b85",
   "metadata": {
    "ExecuteTime": {
     "end_time": "2024-03-09T20:25:25.495781Z",
     "start_time": "2024-03-09T20:25:25.483698100Z"
    },
    "collapsed": false,
    "jupyter": {
     "outputs_hidden": false
    }
   },
   "outputs": [],
   "source": [
    "date_range = [start_date + timedelta(days=x) for x in range((end_date - start_date).days +1)]"
   ]
  },
  {
   "cell_type": "code",
   "execution_count": null,
   "id": "b678e9a5e2edb917",
   "metadata": {
    "ExecuteTime": {
     "end_time": "2024-03-09T20:25:25.516920700Z",
     "start_time": "2024-03-09T20:25:25.488782600Z"
    },
    "collapsed": false,
    "jupyter": {
     "outputs_hidden": false
    }
   },
   "outputs": [],
   "source": [
    "date_range"
   ]
  },
  {
   "cell_type": "code",
   "execution_count": null,
   "id": "dd91c41af4983d2b",
   "metadata": {
    "ExecuteTime": {
     "end_time": "2024-03-09T20:43:03.031307900Z",
     "start_time": "2024-03-09T20:25:31.645477300Z"
    },
    "collapsed": false,
    "jupyter": {
     "outputs_hidden": false
    }
   },
   "outputs": [],
   "source": [
    "all_hr_df = pd.DataFrame()\n",
    "\n",
    "for date in date_range:\n",
    "    print(date.strftime(\"%Y-%m-%d\"))\n",
    "    day_hr = client.intraday_time_series('activities/heart',base_date=date)['activities-heart-intraday']['dataset']\n",
    "    day_hr_df = pd.DataFrame(day_hr)\n",
    "    day_hr_df['time'] = pd.to_datetime(day_hr_df['time'],format='%H:%M:%S').dt.time\n",
    "    day_hr_df['time'] = day_hr_df.apply(lambda row: datetime.combine(date,row['time']),axis=1)\n",
    "    all_hr_df = pd.concat([all_hr_df,day_hr_df],ignore_index=True)\n",
    "    time.sleep(27)"
   ]
  },
  {
   "cell_type": "code",
   "execution_count": null,
   "id": "a64add9dc18273e7",
   "metadata": {
    "ExecuteTime": {
     "end_time": "2024-03-09T20:45:23.560656500Z",
     "start_time": "2024-03-09T20:45:23.509816400Z"
    },
    "collapsed": false,
    "jupyter": {
     "outputs_hidden": false
    }
   },
   "outputs": [],
   "source": [
    "all_hr_df['date'] = all_hr_df['time'].dt.date\n",
    "all_hr_df['daytime'] = all_hr_df['time'].dt.time\n",
    "all_hr_df['time'] = all_hr_df['daytime']\n",
    "all_hr_df.drop(columns='daytime',inplace=True)"
   ]
  },
  {
   "cell_type": "code",
   "execution_count": null,
   "id": "4361576208a2a8bd",
   "metadata": {
    "ExecuteTime": {
     "end_time": "2024-03-09T20:45:41.918856Z",
     "start_time": "2024-03-09T20:45:38.065867800Z"
    },
    "collapsed": false,
    "jupyter": {
     "outputs_hidden": false
    }
   },
   "outputs": [],
   "source": [
    "fig = px.line(all_hr_df,x='time',y='value',color='date')\n",
    "fig.update_traces(connectgaps=False)\n",
    "fig.show()"
   ]
  },
  {
   "cell_type": "code",
   "execution_count": null,
   "id": "1fe4fd8d3e0d325c",
   "metadata": {
    "ExecuteTime": {
     "end_time": "2024-03-09T20:45:51.050931800Z",
     "start_time": "2024-03-09T20:45:50.943468400Z"
    },
    "collapsed": false,
    "jupyter": {
     "outputs_hidden": false
    }
   },
   "outputs": [],
   "source": [
    "pivoted_df = all_hr_df.pivot(index='date',columns='time',values='value')"
   ]
  },
  {
   "cell_type": "code",
   "execution_count": null,
   "id": "b21bf4fca2c9d3f0",
   "metadata": {
    "ExecuteTime": {
     "end_time": "2024-03-09T20:47:43.166950900Z",
     "start_time": "2024-03-09T20:47:42.725028500Z"
    },
    "collapsed": false,
    "jupyter": {
     "outputs_hidden": false
    }
   },
   "outputs": [],
   "source": [
    "list_of_arrays = pivoted_df.values.tolist()\n",
    "interp_arrays = []\n",
    "x = np.array([*range(0,1440,1)])\n",
    "for y in list_of_arrays:\n",
    "    array = np.array(y)\n",
    "    valid = ~np.isnan(array)\n",
    "    x_valid = x[valid]\n",
    "    y_valid = array[valid]\n",
    "    interp_function = interp1d(x_valid,y_valid,kind='linear',fill_value='extrapolate')\n",
    "    y_interpolated = interp_function(x)\n",
    "    array[~valid] = y_interpolated[~valid]\n",
    "    array = savgol_filter(array,30,2)\n",
    "    interp_arrays.append(array)"
   ]
  },
  {
   "cell_type": "code",
   "execution_count": null,
   "id": "c002d94972c28ab9",
   "metadata": {
    "ExecuteTime": {
     "end_time": "2024-03-09T20:47:43.349392500Z",
     "start_time": "2024-03-09T20:47:43.246467500Z"
    },
    "collapsed": false,
    "jupyter": {
     "outputs_hidden": false
    }
   },
   "outputs": [],
   "source": [
    "for i,array in enumerate(interp_arrays):\n",
    "    if (pd.isnull(array).sum()) > 0:\n",
    "        print(array)\n",
    "        print('NULL')\n",
    "    for num in array:\n",
    "        if abs(num) > 200:\n",
    "            print(f'array {i} has num:{num}')"
   ]
  },
  {
   "cell_type": "code",
   "execution_count": null,
   "id": "cd054c7055d2fd25",
   "metadata": {
    "ExecuteTime": {
     "end_time": "2024-03-09T20:49:15.397665200Z",
     "start_time": "2024-03-09T20:49:15.139209400Z"
    },
    "collapsed": false,
    "jupyter": {
     "outputs_hidden": false
    }
   },
   "outputs": [],
   "source": [
    "idx = 4\n",
    "original = list_of_arrays[idx]\n",
    "inter_smooth = interp_arrays[idx]\n",
    "\n",
    "plt.plot(original, label='Original',color='blue')\n",
    "plt.plot(inter_smooth, label='Interpolated & Smoothed', color='red')\n",
    "plt.show()"
   ]
  },
  {
   "cell_type": "code",
   "execution_count": null,
   "id": "4d13a76affdf7bb4",
   "metadata": {
    "collapsed": false,
    "jupyter": {
     "outputs_hidden": false
    }
   },
   "outputs": [],
   "source": [
    "interp"
   ]
  },
  {
   "cell_type": "code",
   "execution_count": null,
   "id": "9d7477ef6a486e75",
   "metadata": {
    "ExecuteTime": {
     "end_time": "2024-03-09T20:49:27.759743300Z",
     "start_time": "2024-03-09T20:49:27.045182300Z"
    },
    "collapsed": false,
    "jupyter": {
     "outputs_hidden": false
    }
   },
   "outputs": [],
   "source": [
    "fig,ax = plt.subplots()\n",
    "fig.set_figheight(10)\n",
    "fig.set_figwidth(25)\n",
    "im = dense_lines(ys=interp_arrays,ax=ax,cmap='twilight_shifted')"
   ]
  },
  {
   "cell_type": "code",
   "execution_count": null,
   "id": "8453f352f5babecc",
   "metadata": {
    "collapsed": false,
    "jupyter": {
     "outputs_hidden": false
    }
   },
   "outputs": [],
   "source": []
  }
 ],
 "metadata": {
  "kernelspec": {
   "display_name": "Python 3 (ipykernel)",
   "language": "python",
   "name": "python3"
  },
  "language_info": {
   "codemirror_mode": {
    "name": "ipython",
    "version": 3
   },
   "file_extension": ".py",
   "mimetype": "text/x-python",
   "name": "python",
   "nbconvert_exporter": "python",
   "pygments_lexer": "ipython3",
   "version": "3.8.18"
  }
 },
 "nbformat": 4,
 "nbformat_minor": 5
}
