{
 "cells": [
  {
   "cell_type": "markdown",
   "source": [
    "# Get Fitbit Data\n",
    "## Independent variables\n",
    "### Sleep data"
   ],
   "metadata": {
    "collapsed": false
   },
   "id": "2c7635b6917f5212"
  },
  {
   "cell_type": "code",
   "outputs": [],
   "source": [
    "import fitbit\n",
    "import json\n",
    "from datetime import datetime, date, timedelta\n",
    "from ast import literal_eval\n",
    "import pandas as pd"
   ],
   "metadata": {
    "collapsed": false,
    "ExecuteTime": {
     "end_time": "2024-03-14T13:59:59.870009Z",
     "start_time": "2024-03-14T13:59:57.245203Z"
    }
   },
   "id": "10a148899a474f80",
   "execution_count": 1
  },
  {
   "cell_type": "code",
   "outputs": [],
   "source": [
    "#!/usr/bin/env python\n",
    "import cherrypy\n",
    "import os\n",
    "import sys\n",
    "import threading\n",
    "import traceback\n",
    "import webbrowser\n",
    "\n",
    "from urllib.parse import urlparse\n",
    "from base64 import b64encode\n",
    "from fitbit.api import Fitbit\n",
    "from oauthlib.oauth2.rfc6749.errors import MismatchingStateError, MissingTokenError"
   ],
   "metadata": {
    "collapsed": false,
    "ExecuteTime": {
     "end_time": "2024-03-14T14:00:00.725626Z",
     "start_time": "2024-03-14T13:59:59.871072Z"
    }
   },
   "id": "6236cd581d4d316e",
   "execution_count": 2
  },
  {
   "cell_type": "code",
   "outputs": [],
   "source": [
    "class OAuth2Server:\n",
    "    def __init__(self, client_id, client_secret,\n",
    "                 redirect_uri='http://127.0.0.1:8080/'):\n",
    "        \"\"\" Initialize the FitbitOauth2Client \"\"\"\n",
    "        self.success_html = \"\"\"\n",
    "            <h1>You are now authorized to access the Fitbit API!</h1>\n",
    "            <br/><h3>You can close this window</h3>\"\"\"\n",
    "        self.failure_html = \"\"\"\n",
    "            <h1>ERROR: %s</h1><br/><h3>You can close this window</h3>%s\"\"\"\n",
    "\n",
    "        self.fitbit = Fitbit(\n",
    "            client_id,\n",
    "            client_secret,\n",
    "            redirect_uri=redirect_uri,\n",
    "            timeout=10,\n",
    "        )\n",
    "\n",
    "        self.redirect_uri = redirect_uri\n",
    "\n",
    "    def browser_authorize(self):\n",
    "        \"\"\"\n",
    "        Open a browser to the authorization url and spool up a CherryPy\n",
    "        server to accept the response\n",
    "        \"\"\"\n",
    "        url, _ = self.fitbit.client.authorize_token_url()\n",
    "        # Open the web browser in a new thread for command-line browser support\n",
    "        threading.Timer(1, webbrowser.open, args=(url,)).start()\n",
    "\n",
    "        # Same with redirect_uri hostname and port.\n",
    "        urlparams = urlparse(self.redirect_uri)\n",
    "        cherrypy.config.update({'server.socket_host': urlparams.hostname,\n",
    "                                'server.socket_port': urlparams.port})\n",
    "\n",
    "        cherrypy.quickstart(self)\n",
    "\n",
    "    @cherrypy.expose\n",
    "    def index(self, state, code=None, error=None):\n",
    "        \"\"\"\n",
    "        Receive a Fitbit response containing a verification code. Use the code\n",
    "        to fetch the access_token.\n",
    "        \"\"\"\n",
    "        error = None\n",
    "        if code:\n",
    "            try:\n",
    "                self.fitbit.client.fetch_access_token(code)\n",
    "            except MissingTokenError:\n",
    "                error = self._fmt_failure(\n",
    "                    'Missing access token parameter.</br>Please check that '\n",
    "                    'you are using the correct client_secret')\n",
    "            except MismatchingStateError:\n",
    "                error = self._fmt_failure('CSRF Warning! Mismatching state')\n",
    "        else:\n",
    "            error = self._fmt_failure('Unknown error while authenticating')\n",
    "        # Use a thread to shutdown cherrypy so we can return HTML first\n",
    "        self._shutdown_cherrypy()\n",
    "        return error if error else self.success_html\n",
    "\n",
    "    def _fmt_failure(self, message):\n",
    "        tb = traceback.format_tb(sys.exc_info()[2])\n",
    "        tb_html = '<pre>%s</pre>' % ('\\n'.join(tb)) if tb else ''\n",
    "        return self.failure_html % (message, tb_html)\n",
    "\n",
    "    def _shutdown_cherrypy(self):\n",
    "        \"\"\" Shutdown cherrypy in one second, if it's running \"\"\"\n",
    "        if cherrypy.engine.state == cherrypy.engine.states.STARTED:\n",
    "            threading.Timer(1, cherrypy.engine.exit).start()\n"
   ],
   "metadata": {
    "collapsed": false,
    "ExecuteTime": {
     "end_time": "2024-03-14T14:00:00.768048Z",
     "start_time": "2024-03-14T14:00:00.726758Z"
    }
   },
   "id": "ec632aba2c8861ce",
   "execution_count": 3
  },
  {
   "cell_type": "code",
   "outputs": [],
   "source": [
    "with open('fitbit_tokens.json') as f:\n",
    "    TOKENS = literal_eval(f.read())\n",
    "CLIENT = TOKENS['CLIENT']\n",
    "CLIENT_ID = CLIENT['CLIENT_ID']\n",
    "CLIENT_SECRET = CLIENT['CLIENT_SECRET']\n",
    "REDIRECT_URI = 'http://127.0.0.1:8080/'"
   ],
   "metadata": {
    "collapsed": false,
    "ExecuteTime": {
     "end_time": "2024-03-14T14:00:00.782307Z",
     "start_time": "2024-03-14T14:00:00.769282Z"
    }
   },
   "id": "def08149ae2bcbed",
   "execution_count": 4
  },
  {
   "cell_type": "code",
   "outputs": [
    {
     "name": "stderr",
     "output_type": "stream",
     "text": [
      "[14/Mar/2024:14:00:00] ENGINE Listening for SIGTERM.\n",
      "[14/Mar/2024:14:00:00] ENGINE Bus STARTING\n",
      "CherryPy Checker:\n",
      "The Application mounted at '' has an empty config.\n",
      "\n",
      "[14/Mar/2024:14:00:00] ENGINE Set handler for console events.\n",
      "[14/Mar/2024:14:00:00] ENGINE Started monitor thread 'Autoreloader'.\n",
      "[14/Mar/2024:14:00:01] ENGINE Serving on http://127.0.0.1:8080\n",
      "[14/Mar/2024:14:00:01] ENGINE Bus STARTED\n"
     ]
    },
    {
     "name": "stdout",
     "output_type": "stream",
     "text": [
      "127.0.0.1 - - [14/Mar/2024:14:00:10] \"GET /?code=ee319272e94876e364a1a5e0cb6a535203f232da&state=whqKjUrMySDHbwCAjVI3PQVOlec8DP HTTP/1.1\" 200 122 \"\" \"Mozilla/5.0 (Windows NT 10.0; Win64; x64; rv:123.0) Gecko/20100101 Firefox/123.0\"\n",
      "127.0.0.1 - - [14/Mar/2024:14:00:10] \"GET /favicon.ico HTTP/1.1\" 200 1406 \"http://127.0.0.1:8080/?code=ee319272e94876e364a1a5e0cb6a535203f232da&state=whqKjUrMySDHbwCAjVI3PQVOlec8DP\" \"Mozilla/5.0 (Windows NT 10.0; Win64; x64; rv:123.0) Gecko/20100101 Firefox/123.0\"\n"
     ]
    },
    {
     "name": "stderr",
     "output_type": "stream",
     "text": [
      "[14/Mar/2024:14:00:11] ENGINE Bus STOPPING\n",
      "[14/Mar/2024:14:00:11] ENGINE HTTP Server cherrypy._cpwsgi_server.CPWSGIServer(('127.0.0.1', 8080)) shut down\n",
      "[14/Mar/2024:14:00:11] ENGINE Removed handler for console events.\n",
      "[14/Mar/2024:14:00:11] ENGINE Stopped thread 'Autoreloader'.\n",
      "[14/Mar/2024:14:00:11] ENGINE Bus STOPPED\n",
      "[14/Mar/2024:14:00:11] ENGINE Bus EXITING\n",
      "[14/Mar/2024:14:00:11] ENGINE Waiting for child threads to terminate...\n",
      "[14/Mar/2024:14:00:11] ENGINE Bus EXITED\n",
      "[14/Mar/2024:14:00:11] ENGINE Waiting for thread Thread-18.\n"
     ]
    }
   ],
   "source": [
    "server = OAuth2Server(CLIENT_ID,CLIENT_SECRET)\n",
    "server.browser_authorize()\n",
    "\n",
    "profile = server.fitbit.user_profile_get()\n",
    "TOKENS = server.fitbit.client.session.token"
   ],
   "metadata": {
    "collapsed": false,
    "ExecuteTime": {
     "end_time": "2024-03-14T14:00:12.048318Z",
     "start_time": "2024-03-14T14:00:00.782366Z"
    }
   },
   "id": "48a483988176f116",
   "execution_count": 5
  },
  {
   "cell_type": "code",
   "outputs": [],
   "source": [
    "ACCESS_TOKEN = TOKENS['access_token']\n",
    "REFRESH_TOKEN = TOKENS['refresh_token']\n",
    "EXPIRES_AT = TOKENS['expires_at']"
   ],
   "metadata": {
    "collapsed": false,
    "ExecuteTime": {
     "end_time": "2024-03-14T14:00:14.736034Z",
     "start_time": "2024-03-14T14:00:14.732528Z"
    }
   },
   "id": "bbb1e76b922f4e4d",
   "execution_count": 6
  },
  {
   "cell_type": "code",
   "outputs": [],
   "source": [
    "client = Fitbit(\n",
    "    client_id=CLIENT_ID,\n",
    "    client_secret=CLIENT_SECRET,\n",
    "    access_token=ACCESS_TOKEN,\n",
    "    refresh_token=REFRESH_TOKEN,\n",
    "    expires_at=EXPIRES_AT,\n",
    "    redirect_uri=REDIRECT_URI\n",
    ")"
   ],
   "metadata": {
    "collapsed": false,
    "ExecuteTime": {
     "end_time": "2024-03-14T14:00:16.323044Z",
     "start_time": "2024-03-14T14:00:16.319804Z"
    }
   },
   "id": "5bc0edb786d21e01",
   "execution_count": 7
  },
  {
   "cell_type": "code",
   "outputs": [],
   "source": [
    "yesterday = date.today() - timedelta(days=1)"
   ],
   "metadata": {
    "collapsed": false,
    "ExecuteTime": {
     "end_time": "2024-03-14T14:00:17.649059Z",
     "start_time": "2024-03-14T14:00:17.646113Z"
    }
   },
   "id": "2ac696056d84bfa8",
   "execution_count": 8
  },
  {
   "cell_type": "code",
   "outputs": [],
   "source": [
    "sleep = client.sleep(date=yesterday)['sleep'][0]\n",
    "bedtime = pd.to_datetime(sleep['startTime'])\n",
    "waketime = pd.to_datetime(sleep['endTime'])\n",
    "sleep_duration = round(sleep['minutesAsleep'] / 60,2)"
   ],
   "metadata": {
    "collapsed": false,
    "ExecuteTime": {
     "end_time": "2024-03-14T14:00:25.105016Z",
     "start_time": "2024-03-14T14:00:18.625296Z"
    }
   },
   "id": "964d24fb9a942b4a",
   "execution_count": 9
  },
  {
   "cell_type": "markdown",
   "source": [
    "### Exercise data"
   ],
   "metadata": {
    "collapsed": false
   },
   "id": "fd3190c5001eb991"
  },
  {
   "cell_type": "code",
   "outputs": [],
   "source": [
    "example = client.intraday_time_series('activities/heart',base_date=yesterday)['activities-heart-intraday']['dataset']"
   ],
   "metadata": {
    "collapsed": false,
    "ExecuteTime": {
     "end_time": "2024-03-09T15:20:23.900281900Z",
     "start_time": "2024-03-09T15:20:23.531616200Z"
    }
   },
   "id": "4f9e29f2f5dfe6",
   "execution_count": 19
  },
  {
   "cell_type": "code",
   "outputs": [
    {
     "data": {
      "text/plain": "[{'time': '00:00:00', 'value': 112},\n {'time': '00:01:00', 'value': 119},\n {'time': '00:02:00', 'value': 123},\n {'time': '00:03:00', 'value': 122},\n {'time': '00:04:00', 'value': 131},\n {'time': '00:05:00', 'value': 146},\n {'time': '00:06:00', 'value': 118},\n {'time': '00:07:00', 'value': 112},\n {'time': '00:08:00', 'value': 112},\n {'time': '00:09:00', 'value': 113},\n {'time': '00:10:00', 'value': 111},\n {'time': '00:11:00', 'value': 112},\n {'time': '00:12:00', 'value': 105},\n {'time': '00:13:00', 'value': 104},\n {'time': '00:14:00', 'value': 89},\n {'time': '00:15:00', 'value': 102},\n {'time': '00:16:00', 'value': 105},\n {'time': '00:17:00', 'value': 111},\n {'time': '00:18:00', 'value': 108},\n {'time': '00:19:00', 'value': 110},\n {'time': '00:20:00', 'value': 120},\n {'time': '00:21:00', 'value': 122},\n {'time': '00:22:00', 'value': 122},\n {'time': '00:23:00', 'value': 107},\n {'time': '00:24:00', 'value': 97},\n {'time': '00:25:00', 'value': 92},\n {'time': '00:26:00', 'value': 91},\n {'time': '00:27:00', 'value': 90},\n {'time': '00:28:00', 'value': 90},\n {'time': '00:29:00', 'value': 90},\n {'time': '00:30:00', 'value': 89},\n {'time': '00:31:00', 'value': 89},\n {'time': '00:32:00', 'value': 91},\n {'time': '00:33:00', 'value': 90},\n {'time': '00:34:00', 'value': 91},\n {'time': '00:35:00', 'value': 88},\n {'time': '00:36:00', 'value': 88},\n {'time': '00:37:00', 'value': 89},\n {'time': '00:38:00', 'value': 90},\n {'time': '00:39:00', 'value': 86},\n {'time': '00:40:00', 'value': 86},\n {'time': '00:41:00', 'value': 86},\n {'time': '00:42:00', 'value': 86},\n {'time': '00:43:00', 'value': 86},\n {'time': '00:44:00', 'value': 85},\n {'time': '00:45:00', 'value': 86},\n {'time': '00:46:00', 'value': 85},\n {'time': '00:47:00', 'value': 83},\n {'time': '00:48:00', 'value': 84},\n {'time': '00:49:00', 'value': 86},\n {'time': '00:50:00', 'value': 86},\n {'time': '00:51:00', 'value': 87},\n {'time': '00:52:00', 'value': 92},\n {'time': '00:53:00', 'value': 98},\n {'time': '00:54:00', 'value': 96},\n {'time': '00:55:00', 'value': 103},\n {'time': '00:56:00', 'value': 95},\n {'time': '00:57:00', 'value': 85},\n {'time': '00:58:00', 'value': 82},\n {'time': '00:59:00', 'value': 80},\n {'time': '01:00:00', 'value': 86},\n {'time': '01:01:00', 'value': 98},\n {'time': '01:02:00', 'value': 100},\n {'time': '01:03:00', 'value': 102},\n {'time': '01:04:00', 'value': 100},\n {'time': '01:05:00', 'value': 97},\n {'time': '01:06:00', 'value': 95},\n {'time': '01:07:00', 'value': 99},\n {'time': '01:08:00', 'value': 101},\n {'time': '01:09:00', 'value': 99},\n {'time': '01:10:00', 'value': 102},\n {'time': '01:11:00', 'value': 98},\n {'time': '01:12:00', 'value': 93},\n {'time': '01:13:00', 'value': 90},\n {'time': '01:14:00', 'value': 89},\n {'time': '01:15:00', 'value': 89},\n {'time': '01:16:00', 'value': 88},\n {'time': '01:17:00', 'value': 88},\n {'time': '01:18:00', 'value': 87},\n {'time': '01:19:00', 'value': 87},\n {'time': '01:20:00', 'value': 87},\n {'time': '01:21:00', 'value': 88},\n {'time': '01:22:00', 'value': 88},\n {'time': '01:23:00', 'value': 82},\n {'time': '01:24:00', 'value': 80},\n {'time': '01:25:00', 'value': 83},\n {'time': '01:26:00', 'value': 83},\n {'time': '01:27:00', 'value': 84},\n {'time': '01:28:00', 'value': 84},\n {'time': '01:29:00', 'value': 84},\n {'time': '01:30:00', 'value': 85},\n {'time': '01:31:00', 'value': 84},\n {'time': '01:32:00', 'value': 87},\n {'time': '01:33:00', 'value': 84},\n {'time': '01:34:00', 'value': 81},\n {'time': '01:35:00', 'value': 81},\n {'time': '01:36:00', 'value': 81},\n {'time': '01:37:00', 'value': 81},\n {'time': '01:38:00', 'value': 81},\n {'time': '01:39:00', 'value': 82},\n {'time': '01:40:00', 'value': 82},\n {'time': '01:41:00', 'value': 82},\n {'time': '01:42:00', 'value': 81},\n {'time': '01:43:00', 'value': 81},\n {'time': '01:44:00', 'value': 81},\n {'time': '01:45:00', 'value': 82},\n {'time': '01:46:00', 'value': 82},\n {'time': '01:47:00', 'value': 82},\n {'time': '01:48:00', 'value': 83},\n {'time': '01:49:00', 'value': 82},\n {'time': '01:50:00', 'value': 83},\n {'time': '01:51:00', 'value': 83},\n {'time': '01:52:00', 'value': 83},\n {'time': '01:53:00', 'value': 85},\n {'time': '01:54:00', 'value': 90},\n {'time': '01:55:00', 'value': 85},\n {'time': '01:56:00', 'value': 82},\n {'time': '01:57:00', 'value': 82},\n {'time': '01:58:00', 'value': 82},\n {'time': '01:59:00', 'value': 82},\n {'time': '02:00:00', 'value': 81},\n {'time': '02:01:00', 'value': 80},\n {'time': '02:02:00', 'value': 79},\n {'time': '02:03:00', 'value': 80},\n {'time': '02:04:00', 'value': 79},\n {'time': '02:05:00', 'value': 79},\n {'time': '02:06:00', 'value': 80},\n {'time': '02:07:00', 'value': 80},\n {'time': '02:08:00', 'value': 80},\n {'time': '02:09:00', 'value': 80},\n {'time': '02:10:00', 'value': 79},\n {'time': '02:11:00', 'value': 80},\n {'time': '02:12:00', 'value': 80},\n {'time': '02:13:00', 'value': 80},\n {'time': '02:14:00', 'value': 80},\n {'time': '02:15:00', 'value': 80},\n {'time': '02:16:00', 'value': 79},\n {'time': '02:17:00', 'value': 79},\n {'time': '02:18:00', 'value': 79},\n {'time': '02:19:00', 'value': 79},\n {'time': '02:20:00', 'value': 79},\n {'time': '02:21:00', 'value': 79},\n {'time': '02:22:00', 'value': 79},\n {'time': '02:23:00', 'value': 79},\n {'time': '02:24:00', 'value': 80},\n {'time': '02:25:00', 'value': 79},\n {'time': '02:26:00', 'value': 79},\n {'time': '02:27:00', 'value': 79},\n {'time': '02:28:00', 'value': 79},\n {'time': '02:29:00', 'value': 79},\n {'time': '02:30:00', 'value': 79},\n {'time': '02:31:00', 'value': 79},\n {'time': '02:32:00', 'value': 79},\n {'time': '02:33:00', 'value': 78},\n {'time': '02:34:00', 'value': 78},\n {'time': '02:35:00', 'value': 78},\n {'time': '02:36:00', 'value': 79},\n {'time': '02:37:00', 'value': 78},\n {'time': '02:38:00', 'value': 79},\n {'time': '02:39:00', 'value': 80},\n {'time': '02:40:00', 'value': 80},\n {'time': '02:41:00', 'value': 79},\n {'time': '02:42:00', 'value': 79},\n {'time': '02:43:00', 'value': 78},\n {'time': '02:44:00', 'value': 79},\n {'time': '02:45:00', 'value': 78},\n {'time': '02:46:00', 'value': 78},\n {'time': '02:47:00', 'value': 79},\n {'time': '02:48:00', 'value': 78},\n {'time': '02:49:00', 'value': 79},\n {'time': '02:50:00', 'value': 79},\n {'time': '02:51:00', 'value': 79},\n {'time': '02:52:00', 'value': 79},\n {'time': '02:53:00', 'value': 79},\n {'time': '02:54:00', 'value': 80},\n {'time': '02:55:00', 'value': 80},\n {'time': '02:56:00', 'value': 80},\n {'time': '02:57:00', 'value': 80},\n {'time': '02:58:00', 'value': 80},\n {'time': '02:59:00', 'value': 79},\n {'time': '03:00:00', 'value': 83},\n {'time': '03:01:00', 'value': 81},\n {'time': '03:02:00', 'value': 81},\n {'time': '03:03:00', 'value': 80},\n {'time': '03:04:00', 'value': 79},\n {'time': '03:05:00', 'value': 80},\n {'time': '03:06:00', 'value': 80},\n {'time': '03:07:00', 'value': 79},\n {'time': '03:08:00', 'value': 80},\n {'time': '03:09:00', 'value': 78},\n {'time': '03:10:00', 'value': 78},\n {'time': '03:11:00', 'value': 78},\n {'time': '03:12:00', 'value': 77},\n {'time': '03:13:00', 'value': 78},\n {'time': '03:14:00', 'value': 78},\n {'time': '03:15:00', 'value': 80},\n {'time': '03:16:00', 'value': 77},\n {'time': '03:17:00', 'value': 79},\n {'time': '03:18:00', 'value': 78},\n {'time': '03:19:00', 'value': 79},\n {'time': '03:20:00', 'value': 79},\n {'time': '03:21:00', 'value': 78},\n {'time': '03:22:00', 'value': 78},\n {'time': '03:23:00', 'value': 79},\n {'time': '03:24:00', 'value': 83},\n {'time': '03:25:00', 'value': 81},\n {'time': '03:26:00', 'value': 80},\n {'time': '03:27:00', 'value': 81},\n {'time': '03:28:00', 'value': 79},\n {'time': '03:29:00', 'value': 82},\n {'time': '03:30:00', 'value': 81},\n {'time': '03:31:00', 'value': 82},\n {'time': '03:32:00', 'value': 82},\n {'time': '03:33:00', 'value': 82},\n {'time': '03:34:00', 'value': 83},\n {'time': '03:35:00', 'value': 80},\n {'time': '03:36:00', 'value': 81},\n {'time': '03:37:00', 'value': 83},\n {'time': '03:38:00', 'value': 83},\n {'time': '03:39:00', 'value': 82},\n {'time': '03:40:00', 'value': 79},\n {'time': '03:41:00', 'value': 79},\n {'time': '03:42:00', 'value': 81},\n {'time': '03:43:00', 'value': 80},\n {'time': '03:44:00', 'value': 82},\n {'time': '03:45:00', 'value': 83},\n {'time': '03:46:00', 'value': 81},\n {'time': '03:47:00', 'value': 80},\n {'time': '03:48:00', 'value': 80},\n {'time': '03:49:00', 'value': 83},\n {'time': '03:50:00', 'value': 83},\n {'time': '03:51:00', 'value': 81},\n {'time': '03:52:00', 'value': 80},\n {'time': '03:53:00', 'value': 80},\n {'time': '03:54:00', 'value': 80},\n {'time': '03:55:00', 'value': 80},\n {'time': '03:56:00', 'value': 79},\n {'time': '03:57:00', 'value': 79},\n {'time': '03:58:00', 'value': 79},\n {'time': '03:59:00', 'value': 81},\n {'time': '04:00:00', 'value': 81},\n {'time': '04:01:00', 'value': 79},\n {'time': '04:02:00', 'value': 80},\n {'time': '04:03:00', 'value': 78},\n {'time': '04:04:00', 'value': 79},\n {'time': '04:05:00', 'value': 78},\n {'time': '04:06:00', 'value': 79},\n {'time': '04:07:00', 'value': 79},\n {'time': '04:08:00', 'value': 77},\n {'time': '04:09:00', 'value': 79},\n {'time': '04:10:00', 'value': 78},\n {'time': '04:11:00', 'value': 79},\n {'time': '04:12:00', 'value': 79},\n {'time': '04:13:00', 'value': 78},\n {'time': '04:14:00', 'value': 79},\n {'time': '04:15:00', 'value': 79},\n {'time': '04:16:00', 'value': 79},\n {'time': '04:17:00', 'value': 79},\n {'time': '04:18:00', 'value': 79},\n {'time': '04:19:00', 'value': 79},\n {'time': '04:20:00', 'value': 79},\n {'time': '04:21:00', 'value': 79},\n {'time': '04:22:00', 'value': 79},\n {'time': '04:23:00', 'value': 78},\n {'time': '04:24:00', 'value': 79},\n {'time': '04:25:00', 'value': 79},\n {'time': '04:26:00', 'value': 80},\n {'time': '04:27:00', 'value': 79},\n {'time': '04:28:00', 'value': 80},\n {'time': '04:29:00', 'value': 80},\n {'time': '04:30:00', 'value': 79},\n {'time': '04:31:00', 'value': 79},\n {'time': '04:32:00', 'value': 79},\n {'time': '04:33:00', 'value': 79},\n {'time': '04:34:00', 'value': 79},\n {'time': '04:35:00', 'value': 79},\n {'time': '04:36:00', 'value': 79},\n {'time': '04:37:00', 'value': 79},\n {'time': '04:38:00', 'value': 79},\n {'time': '04:39:00', 'value': 78},\n {'time': '04:40:00', 'value': 79},\n {'time': '04:41:00', 'value': 79},\n {'time': '04:42:00', 'value': 79},\n {'time': '04:43:00', 'value': 79},\n {'time': '04:44:00', 'value': 79},\n {'time': '04:45:00', 'value': 82},\n {'time': '04:46:00', 'value': 83},\n {'time': '04:47:00', 'value': 82},\n {'time': '04:48:00', 'value': 79},\n {'time': '04:49:00', 'value': 76},\n {'time': '04:50:00', 'value': 76},\n {'time': '04:51:00', 'value': 76},\n {'time': '04:52:00', 'value': 74},\n {'time': '04:53:00', 'value': 74},\n {'time': '04:54:00', 'value': 73},\n {'time': '04:55:00', 'value': 74},\n {'time': '04:56:00', 'value': 74},\n {'time': '04:57:00', 'value': 73},\n {'time': '04:58:00', 'value': 73},\n {'time': '04:59:00', 'value': 74},\n {'time': '05:00:00', 'value': 73},\n {'time': '05:01:00', 'value': 73},\n {'time': '05:02:00', 'value': 75},\n {'time': '05:03:00', 'value': 74},\n {'time': '05:04:00', 'value': 74},\n {'time': '05:05:00', 'value': 74},\n {'time': '05:06:00', 'value': 75},\n {'time': '05:07:00', 'value': 74},\n {'time': '05:08:00', 'value': 74},\n {'time': '05:09:00', 'value': 75},\n {'time': '05:10:00', 'value': 74},\n {'time': '05:11:00', 'value': 74},\n {'time': '05:12:00', 'value': 74},\n {'time': '05:13:00', 'value': 78},\n {'time': '05:14:00', 'value': 80},\n {'time': '05:15:00', 'value': 77},\n {'time': '05:16:00', 'value': 73},\n {'time': '05:17:00', 'value': 74},\n {'time': '05:18:00', 'value': 76},\n {'time': '05:19:00', 'value': 75},\n {'time': '05:20:00', 'value': 77},\n {'time': '05:21:00', 'value': 78},\n {'time': '05:22:00', 'value': 81},\n {'time': '05:23:00', 'value': 79},\n {'time': '05:24:00', 'value': 83},\n {'time': '05:25:00', 'value': 82},\n {'time': '05:26:00', 'value': 76},\n {'time': '05:27:00', 'value': 77},\n {'time': '05:28:00', 'value': 74},\n {'time': '05:29:00', 'value': 74},\n {'time': '05:30:00', 'value': 73},\n {'time': '05:31:00', 'value': 77},\n {'time': '05:32:00', 'value': 77},\n {'time': '05:33:00', 'value': 78},\n {'time': '05:34:00', 'value': 76},\n {'time': '05:35:00', 'value': 76},\n {'time': '05:36:00', 'value': 77},\n {'time': '05:37:00', 'value': 78},\n {'time': '05:38:00', 'value': 78},\n {'time': '05:39:00', 'value': 76},\n {'time': '05:40:00', 'value': 79},\n {'time': '05:41:00', 'value': 76},\n {'time': '05:42:00', 'value': 76},\n {'time': '05:43:00', 'value': 80},\n {'time': '05:44:00', 'value': 78},\n {'time': '05:45:00', 'value': 77},\n {'time': '05:46:00', 'value': 79},\n {'time': '05:47:00', 'value': 76},\n {'time': '05:48:00', 'value': 77},\n {'time': '05:49:00', 'value': 77},\n {'time': '05:50:00', 'value': 76},\n {'time': '05:51:00', 'value': 71},\n {'time': '05:52:00', 'value': 78},\n {'time': '05:53:00', 'value': 78},\n {'time': '05:54:00', 'value': 80},\n {'time': '05:55:00', 'value': 73},\n {'time': '05:56:00', 'value': 75},\n {'time': '05:57:00', 'value': 74},\n {'time': '05:58:00', 'value': 73},\n {'time': '05:59:00', 'value': 73},\n {'time': '06:00:00', 'value': 74},\n {'time': '06:01:00', 'value': 72},\n {'time': '06:02:00', 'value': 74},\n {'time': '06:03:00', 'value': 72},\n {'time': '06:04:00', 'value': 71},\n {'time': '06:05:00', 'value': 72},\n {'time': '06:06:00', 'value': 72},\n {'time': '06:07:00', 'value': 73},\n {'time': '06:08:00', 'value': 72},\n {'time': '06:09:00', 'value': 74},\n {'time': '06:10:00', 'value': 73},\n {'time': '06:11:00', 'value': 73},\n {'time': '06:12:00', 'value': 73},\n {'time': '06:13:00', 'value': 74},\n {'time': '06:14:00', 'value': 74},\n {'time': '06:15:00', 'value': 73},\n {'time': '06:16:00', 'value': 73},\n {'time': '06:17:00', 'value': 73},\n {'time': '06:18:00', 'value': 73},\n {'time': '06:19:00', 'value': 72},\n {'time': '06:20:00', 'value': 73},\n {'time': '06:21:00', 'value': 73},\n {'time': '06:22:00', 'value': 72},\n {'time': '06:23:00', 'value': 72},\n {'time': '06:24:00', 'value': 72},\n {'time': '06:25:00', 'value': 72},\n {'time': '06:26:00', 'value': 72},\n {'time': '06:27:00', 'value': 72},\n {'time': '06:28:00', 'value': 73},\n {'time': '06:29:00', 'value': 73},\n {'time': '06:30:00', 'value': 72},\n {'time': '06:31:00', 'value': 72},\n {'time': '06:32:00', 'value': 72},\n {'time': '06:33:00', 'value': 72},\n {'time': '06:34:00', 'value': 72},\n {'time': '06:35:00', 'value': 73},\n {'time': '06:36:00', 'value': 72},\n {'time': '06:37:00', 'value': 73},\n {'time': '06:38:00', 'value': 76},\n {'time': '06:39:00', 'value': 69},\n {'time': '06:40:00', 'value': 71},\n {'time': '06:41:00', 'value': 77},\n {'time': '06:42:00', 'value': 73},\n {'time': '06:43:00', 'value': 71},\n {'time': '06:44:00', 'value': 71},\n {'time': '06:45:00', 'value': 72},\n {'time': '06:46:00', 'value': 71},\n {'time': '06:47:00', 'value': 71},\n {'time': '06:48:00', 'value': 73},\n {'time': '06:49:00', 'value': 68},\n {'time': '06:50:00', 'value': 70},\n {'time': '06:51:00', 'value': 70},\n {'time': '06:52:00', 'value': 72},\n {'time': '06:53:00', 'value': 76},\n {'time': '06:54:00', 'value': 74},\n {'time': '06:55:00', 'value': 73},\n {'time': '06:56:00', 'value': 75},\n {'time': '06:57:00', 'value': 74},\n {'time': '06:58:00', 'value': 73},\n {'time': '06:59:00', 'value': 70},\n {'time': '07:00:00', 'value': 72},\n {'time': '07:01:00', 'value': 71},\n {'time': '07:02:00', 'value': 72},\n {'time': '07:03:00', 'value': 73},\n {'time': '07:04:00', 'value': 73},\n {'time': '07:05:00', 'value': 75},\n {'time': '07:06:00', 'value': 73},\n {'time': '07:07:00', 'value': 75},\n {'time': '07:08:00', 'value': 71},\n {'time': '07:09:00', 'value': 73},\n {'time': '07:10:00', 'value': 74},\n {'time': '07:11:00', 'value': 73},\n {'time': '07:12:00', 'value': 74},\n {'time': '07:13:00', 'value': 74},\n {'time': '07:14:00', 'value': 73},\n {'time': '07:15:00', 'value': 73},\n {'time': '07:16:00', 'value': 75},\n {'time': '07:17:00', 'value': 74},\n {'time': '07:18:00', 'value': 76},\n {'time': '07:19:00', 'value': 77},\n {'time': '07:20:00', 'value': 77},\n {'time': '07:21:00', 'value': 81},\n {'time': '07:22:00', 'value': 79},\n {'time': '07:23:00', 'value': 77},\n {'time': '07:24:00', 'value': 76},\n {'time': '07:25:00', 'value': 74},\n {'time': '07:26:00', 'value': 74},\n {'time': '07:27:00', 'value': 74},\n {'time': '07:28:00', 'value': 72},\n {'time': '07:29:00', 'value': 71},\n {'time': '07:30:00', 'value': 75},\n {'time': '07:31:00', 'value': 74},\n {'time': '07:32:00', 'value': 73},\n {'time': '07:33:00', 'value': 76},\n {'time': '07:34:00', 'value': 76},\n {'time': '07:35:00', 'value': 74},\n {'time': '07:36:00', 'value': 73},\n {'time': '07:37:00', 'value': 75},\n {'time': '07:38:00', 'value': 72},\n {'time': '07:39:00', 'value': 72},\n {'time': '07:40:00', 'value': 75},\n {'time': '07:41:00', 'value': 71},\n {'time': '07:42:00', 'value': 72},\n {'time': '07:43:00', 'value': 72},\n {'time': '07:44:00', 'value': 72},\n {'time': '07:45:00', 'value': 72},\n {'time': '07:46:00', 'value': 72},\n {'time': '07:47:00', 'value': 73},\n {'time': '07:48:00', 'value': 73},\n {'time': '07:49:00', 'value': 72},\n {'time': '07:50:00', 'value': 72},\n {'time': '07:51:00', 'value': 72},\n {'time': '07:52:00', 'value': 74},\n {'time': '07:53:00', 'value': 72},\n {'time': '07:54:00', 'value': 75},\n {'time': '07:55:00', 'value': 70},\n {'time': '07:56:00', 'value': 71},\n {'time': '07:57:00', 'value': 70},\n {'time': '07:58:00', 'value': 71},\n {'time': '07:59:00', 'value': 71},\n {'time': '08:00:00', 'value': 72},\n {'time': '08:01:00', 'value': 72},\n {'time': '08:02:00', 'value': 71},\n {'time': '08:03:00', 'value': 73},\n {'time': '08:04:00', 'value': 72},\n {'time': '08:05:00', 'value': 73},\n {'time': '08:06:00', 'value': 73},\n {'time': '08:07:00', 'value': 73},\n {'time': '08:08:00', 'value': 72},\n {'time': '08:09:00', 'value': 70},\n {'time': '08:10:00', 'value': 71},\n {'time': '08:11:00', 'value': 73},\n {'time': '08:12:00', 'value': 73},\n {'time': '08:13:00', 'value': 73},\n {'time': '08:14:00', 'value': 73},\n {'time': '08:15:00', 'value': 73},\n {'time': '08:16:00', 'value': 73},\n {'time': '08:17:00', 'value': 73},\n {'time': '08:18:00', 'value': 73},\n {'time': '08:19:00', 'value': 74},\n {'time': '08:20:00', 'value': 73},\n {'time': '08:21:00', 'value': 72},\n {'time': '08:22:00', 'value': 73},\n {'time': '08:23:00', 'value': 73},\n {'time': '08:24:00', 'value': 72},\n {'time': '08:25:00', 'value': 72},\n {'time': '08:26:00', 'value': 73},\n {'time': '08:27:00', 'value': 72},\n {'time': '08:28:00', 'value': 72},\n {'time': '08:29:00', 'value': 72},\n {'time': '08:30:00', 'value': 72},\n {'time': '08:31:00', 'value': 72},\n {'time': '08:32:00', 'value': 73},\n {'time': '08:33:00', 'value': 72},\n {'time': '08:34:00', 'value': 81},\n {'time': '08:35:00', 'value': 94},\n {'time': '08:36:00', 'value': 99},\n {'time': '08:37:00', 'value': 83},\n {'time': '08:38:00', 'value': 82},\n {'time': '08:39:00', 'value': 82},\n {'time': '08:40:00', 'value': 81},\n {'time': '08:41:00', 'value': 80},\n {'time': '08:42:00', 'value': 78},\n {'time': '08:43:00', 'value': 78},\n {'time': '08:44:00', 'value': 77},\n {'time': '08:45:00', 'value': 77},\n {'time': '08:46:00', 'value': 80},\n {'time': '08:47:00', 'value': 77},\n {'time': '08:48:00', 'value': 78},\n {'time': '08:49:00', 'value': 80},\n {'time': '08:50:00', 'value': 84},\n {'time': '08:51:00', 'value': 80},\n {'time': '08:52:00', 'value': 85},\n {'time': '08:53:00', 'value': 87},\n {'time': '08:54:00', 'value': 84},\n {'time': '08:55:00', 'value': 84},\n {'time': '08:56:00', 'value': 95},\n {'time': '08:57:00', 'value': 82},\n {'time': '08:58:00', 'value': 83},\n {'time': '08:59:00', 'value': 77},\n {'time': '09:00:00', 'value': 73},\n {'time': '09:01:00', 'value': 82},\n {'time': '09:02:00', 'value': 89},\n {'time': '09:03:00', 'value': 88},\n {'time': '09:04:00', 'value': 78},\n {'time': '09:05:00', 'value': 75},\n {'time': '09:06:00', 'value': 79},\n {'time': '09:07:00', 'value': 78},\n {'time': '09:08:00', 'value': 82},\n {'time': '09:09:00', 'value': 89},\n {'time': '09:10:00', 'value': 88},\n {'time': '09:11:00', 'value': 83},\n {'time': '09:12:00', 'value': 90},\n {'time': '09:13:00', 'value': 94},\n {'time': '09:14:00', 'value': 91},\n {'time': '09:15:00', 'value': 88},\n {'time': '09:16:00', 'value': 82},\n {'time': '09:17:00', 'value': 81},\n {'time': '09:18:00', 'value': 87},\n {'time': '09:19:00', 'value': 85},\n {'time': '09:20:00', 'value': 82},\n {'time': '09:21:00', 'value': 84},\n {'time': '09:22:00', 'value': 85},\n {'time': '09:23:00', 'value': 86},\n {'time': '09:24:00', 'value': 89},\n {'time': '09:25:00', 'value': 88},\n {'time': '09:26:00', 'value': 92},\n {'time': '09:27:00', 'value': 93},\n {'time': '09:28:00', 'value': 90},\n {'time': '09:29:00', 'value': 87},\n {'time': '09:30:00', 'value': 88},\n {'time': '09:31:00', 'value': 89},\n {'time': '09:32:00', 'value': 88},\n {'time': '09:33:00', 'value': 95},\n {'time': '09:34:00', 'value': 91},\n {'time': '09:35:00', 'value': 92},\n {'time': '09:36:00', 'value': 91},\n {'time': '09:37:00', 'value': 89},\n {'time': '09:38:00', 'value': 88},\n {'time': '09:39:00', 'value': 85},\n {'time': '09:40:00', 'value': 89},\n {'time': '09:41:00', 'value': 89},\n {'time': '09:42:00', 'value': 87},\n {'time': '09:43:00', 'value': 90},\n {'time': '09:44:00', 'value': 89},\n {'time': '09:45:00', 'value': 90},\n {'time': '09:46:00', 'value': 83},\n {'time': '09:47:00', 'value': 90},\n {'time': '09:48:00', 'value': 96},\n {'time': '09:49:00', 'value': 101},\n {'time': '09:50:00', 'value': 98},\n {'time': '09:51:00', 'value': 95},\n {'time': '09:52:00', 'value': 92},\n {'time': '09:53:00', 'value': 95},\n {'time': '09:54:00', 'value': 92},\n {'time': '09:55:00', 'value': 92},\n {'time': '09:56:00', 'value': 90},\n {'time': '09:57:00', 'value': 92},\n {'time': '09:58:00', 'value': 90},\n {'time': '09:59:00', 'value': 90},\n {'time': '10:00:00', 'value': 92},\n {'time': '10:01:00', 'value': 92},\n {'time': '10:02:00', 'value': 90},\n {'time': '10:03:00', 'value': 93},\n {'time': '10:04:00', 'value': 97},\n {'time': '10:05:00', 'value': 97},\n {'time': '10:06:00', 'value': 96},\n {'time': '10:07:00', 'value': 93},\n {'time': '10:08:00', 'value': 91},\n {'time': '10:09:00', 'value': 92},\n {'time': '10:10:00', 'value': 93},\n {'time': '10:11:00', 'value': 93},\n {'time': '10:12:00', 'value': 98},\n {'time': '10:13:00', 'value': 94},\n {'time': '10:14:00', 'value': 96},\n {'time': '10:15:00', 'value': 96},\n {'time': '10:16:00', 'value': 93},\n {'time': '10:17:00', 'value': 93},\n {'time': '10:18:00', 'value': 96},\n {'time': '10:19:00', 'value': 96},\n {'time': '10:20:00', 'value': 96},\n {'time': '10:21:00', 'value': 96},\n {'time': '10:22:00', 'value': 89},\n {'time': '10:23:00', 'value': 97},\n {'time': '10:24:00', 'value': 96},\n {'time': '10:25:00', 'value': 98},\n {'time': '10:26:00', 'value': 96},\n {'time': '10:27:00', 'value': 97},\n {'time': '10:28:00', 'value': 94},\n {'time': '10:29:00', 'value': 92},\n {'time': '10:30:00', 'value': 96},\n {'time': '10:31:00', 'value': 96},\n {'time': '10:32:00', 'value': 92},\n {'time': '10:33:00', 'value': 95},\n {'time': '10:34:00', 'value': 92},\n {'time': '10:35:00', 'value': 95},\n {'time': '10:36:00', 'value': 90},\n {'time': '10:37:00', 'value': 89},\n {'time': '10:38:00', 'value': 91},\n {'time': '10:39:00', 'value': 94},\n {'time': '10:40:00', 'value': 93},\n {'time': '10:41:00', 'value': 92},\n {'time': '10:42:00', 'value': 95},\n {'time': '10:43:00', 'value': 96},\n {'time': '10:44:00', 'value': 94},\n {'time': '10:45:00', 'value': 93},\n {'time': '10:46:00', 'value': 96},\n {'time': '10:47:00', 'value': 94},\n {'time': '10:48:00', 'value': 93},\n {'time': '10:49:00', 'value': 93},\n {'time': '10:50:00', 'value': 95},\n {'time': '10:51:00', 'value': 93},\n {'time': '10:52:00', 'value': 98},\n {'time': '10:53:00', 'value': 96},\n {'time': '10:54:00', 'value': 96},\n {'time': '10:55:00', 'value': 94},\n {'time': '10:56:00', 'value': 94},\n {'time': '10:57:00', 'value': 93},\n {'time': '10:58:00', 'value': 92},\n {'time': '10:59:00', 'value': 92},\n {'time': '11:00:00', 'value': 92},\n {'time': '11:01:00', 'value': 92},\n {'time': '11:02:00', 'value': 93},\n {'time': '11:03:00', 'value': 92},\n {'time': '11:04:00', 'value': 94},\n {'time': '11:05:00', 'value': 88},\n {'time': '11:06:00', 'value': 90},\n {'time': '11:07:00', 'value': 88},\n {'time': '11:08:00', 'value': 97},\n {'time': '11:09:00', 'value': 92},\n {'time': '11:10:00', 'value': 93},\n {'time': '11:11:00', 'value': 90},\n {'time': '11:12:00', 'value': 90},\n {'time': '11:13:00', 'value': 91},\n {'time': '11:14:00', 'value': 94},\n {'time': '11:15:00', 'value': 88},\n {'time': '11:16:00', 'value': 90},\n {'time': '11:17:00', 'value': 89},\n {'time': '11:18:00', 'value': 89},\n {'time': '11:19:00', 'value': 93},\n {'time': '11:20:00', 'value': 90},\n {'time': '11:21:00', 'value': 88},\n {'time': '11:22:00', 'value': 89},\n {'time': '11:23:00', 'value': 91},\n {'time': '11:24:00', 'value': 96},\n {'time': '11:25:00', 'value': 95},\n {'time': '11:26:00', 'value': 94},\n {'time': '11:27:00', 'value': 92},\n {'time': '11:28:00', 'value': 90},\n {'time': '11:29:00', 'value': 90},\n {'time': '11:30:00', 'value': 89},\n {'time': '11:31:00', 'value': 91},\n {'time': '11:32:00', 'value': 92},\n {'time': '11:33:00', 'value': 94},\n {'time': '11:34:00', 'value': 98},\n {'time': '11:35:00', 'value': 95},\n {'time': '11:36:00', 'value': 91},\n {'time': '11:37:00', 'value': 89},\n {'time': '11:38:00', 'value': 87},\n {'time': '11:39:00', 'value': 93},\n {'time': '11:40:00', 'value': 91},\n {'time': '11:41:00', 'value': 91},\n {'time': '11:42:00', 'value': 91},\n {'time': '11:43:00', 'value': 90},\n {'time': '11:44:00', 'value': 89},\n {'time': '11:45:00', 'value': 88},\n {'time': '11:46:00', 'value': 93},\n {'time': '11:47:00', 'value': 88},\n {'time': '11:48:00', 'value': 87},\n {'time': '11:49:00', 'value': 89},\n {'time': '11:50:00', 'value': 91},\n {'time': '11:51:00', 'value': 92},\n {'time': '11:52:00', 'value': 91},\n {'time': '11:53:00', 'value': 92},\n {'time': '11:54:00', 'value': 91},\n {'time': '11:55:00', 'value': 93},\n {'time': '11:56:00', 'value': 89},\n {'time': '11:57:00', 'value': 91},\n {'time': '11:58:00', 'value': 92},\n {'time': '11:59:00', 'value': 91},\n {'time': '12:00:00', 'value': 91},\n {'time': '12:01:00', 'value': 89},\n {'time': '12:02:00', 'value': 90},\n {'time': '12:03:00', 'value': 91},\n {'time': '12:04:00', 'value': 89},\n {'time': '12:05:00', 'value': 89},\n {'time': '12:06:00', 'value': 90},\n {'time': '12:07:00', 'value': 91},\n {'time': '12:08:00', 'value': 94},\n {'time': '12:09:00', 'value': 90},\n {'time': '12:10:00', 'value': 92},\n {'time': '12:11:00', 'value': 100},\n {'time': '12:12:00', 'value': 98},\n {'time': '12:13:00', 'value': 98},\n {'time': '12:14:00', 'value': 95},\n {'time': '12:15:00', 'value': 95},\n {'time': '12:16:00', 'value': 95},\n {'time': '12:17:00', 'value': 94},\n {'time': '12:18:00', 'value': 94},\n {'time': '12:19:00', 'value': 93},\n {'time': '12:20:00', 'value': 93},\n {'time': '12:21:00', 'value': 96},\n {'time': '12:22:00', 'value': 95},\n {'time': '12:23:00', 'value': 95},\n {'time': '12:24:00', 'value': 98},\n {'time': '12:25:00', 'value': 97},\n {'time': '12:26:00', 'value': 90},\n {'time': '12:27:00', 'value': 89},\n {'time': '12:28:00', 'value': 88},\n {'time': '12:29:00', 'value': 85},\n {'time': '12:30:00', 'value': 90},\n {'time': '12:31:00', 'value': 94},\n {'time': '12:32:00', 'value': 98},\n {'time': '12:33:00', 'value': 93},\n {'time': '12:34:00', 'value': 94},\n {'time': '12:35:00', 'value': 97},\n {'time': '12:36:00', 'value': 97},\n {'time': '12:37:00', 'value': 96},\n {'time': '12:38:00', 'value': 93},\n {'time': '12:39:00', 'value': 96},\n {'time': '12:40:00', 'value': 91},\n {'time': '12:41:00', 'value': 90},\n {'time': '12:42:00', 'value': 87},\n {'time': '12:43:00', 'value': 90},\n {'time': '12:44:00', 'value': 89},\n {'time': '12:45:00', 'value': 88},\n {'time': '12:46:00', 'value': 89},\n {'time': '12:47:00', 'value': 88},\n {'time': '12:48:00', 'value': 91},\n {'time': '12:49:00', 'value': 85},\n {'time': '12:50:00', 'value': 88},\n {'time': '12:51:00', 'value': 89},\n {'time': '12:52:00', 'value': 88},\n {'time': '12:53:00', 'value': 92},\n {'time': '12:54:00', 'value': 92},\n {'time': '12:55:00', 'value': 94},\n {'time': '12:56:00', 'value': 91},\n {'time': '12:57:00', 'value': 96},\n {'time': '12:58:00', 'value': 95},\n {'time': '12:59:00', 'value': 94},\n {'time': '13:00:00', 'value': 96},\n {'time': '13:01:00', 'value': 92},\n {'time': '13:02:00', 'value': 91},\n {'time': '13:03:00', 'value': 93},\n {'time': '13:04:00', 'value': 96},\n {'time': '13:05:00', 'value': 92},\n {'time': '13:06:00', 'value': 93},\n {'time': '13:07:00', 'value': 93},\n {'time': '13:08:00', 'value': 92},\n {'time': '13:09:00', 'value': 96},\n {'time': '13:10:00', 'value': 96},\n {'time': '13:11:00', 'value': 98},\n {'time': '13:12:00', 'value': 95},\n {'time': '13:13:00', 'value': 93},\n {'time': '13:14:00', 'value': 94},\n {'time': '13:15:00', 'value': 93},\n {'time': '13:16:00', 'value': 94},\n {'time': '13:17:00', 'value': 93},\n {'time': '13:18:00', 'value': 90},\n {'time': '13:19:00', 'value': 86},\n {'time': '13:20:00', 'value': 90},\n {'time': '13:21:00', 'value': 90},\n {'time': '13:22:00', 'value': 87},\n {'time': '13:23:00', 'value': 87},\n {'time': '13:24:00', 'value': 86},\n {'time': '13:25:00', 'value': 86},\n {'time': '13:26:00', 'value': 85},\n {'time': '13:27:00', 'value': 87},\n {'time': '13:28:00', 'value': 88},\n {'time': '13:29:00', 'value': 89},\n {'time': '13:30:00', 'value': 88},\n {'time': '13:31:00', 'value': 94},\n {'time': '13:32:00', 'value': 94},\n {'time': '13:33:00', 'value': 89},\n {'time': '13:34:00', 'value': 88},\n {'time': '13:35:00', 'value': 90},\n {'time': '13:36:00', 'value': 89},\n {'time': '13:37:00', 'value': 91},\n {'time': '13:38:00', 'value': 90},\n {'time': '13:39:00', 'value': 89},\n {'time': '13:40:00', 'value': 91},\n {'time': '13:41:00', 'value': 88},\n {'time': '13:42:00', 'value': 89},\n {'time': '13:43:00', 'value': 89},\n {'time': '13:44:00', 'value': 91},\n {'time': '13:45:00', 'value': 92},\n {'time': '13:46:00', 'value': 89},\n {'time': '13:47:00', 'value': 89},\n {'time': '13:48:00', 'value': 92},\n {'time': '13:49:00', 'value': 90},\n {'time': '13:50:00', 'value': 89},\n {'time': '13:51:00', 'value': 93},\n {'time': '13:52:00', 'value': 90},\n {'time': '13:53:00', 'value': 90},\n {'time': '13:54:00', 'value': 91},\n {'time': '13:55:00', 'value': 96},\n {'time': '13:56:00', 'value': 99},\n {'time': '13:57:00', 'value': 97},\n {'time': '13:58:00', 'value': 96},\n {'time': '13:59:00', 'value': 97},\n {'time': '14:00:00', 'value': 96},\n {'time': '14:01:00', 'value': 92},\n {'time': '14:02:00', 'value': 95},\n {'time': '14:03:00', 'value': 99},\n {'time': '14:04:00', 'value': 94},\n {'time': '14:05:00', 'value': 100},\n {'time': '14:06:00', 'value': 100},\n {'time': '14:07:00', 'value': 103},\n {'time': '14:08:00', 'value': 100},\n {'time': '14:09:00', 'value': 96},\n {'time': '14:10:00', 'value': 97},\n {'time': '14:11:00', 'value': 98},\n {'time': '14:12:00', 'value': 96},\n {'time': '14:13:00', 'value': 97},\n {'time': '14:14:00', 'value': 94},\n {'time': '14:15:00', 'value': 98},\n {'time': '14:16:00', 'value': 93},\n {'time': '14:17:00', 'value': 96},\n {'time': '14:18:00', 'value': 95},\n {'time': '14:19:00', 'value': 96},\n {'time': '14:20:00', 'value': 99},\n {'time': '14:21:00', 'value': 93},\n {'time': '14:22:00', 'value': 97},\n {'time': '14:23:00', 'value': 97},\n {'time': '14:24:00', 'value': 98},\n {'time': '14:25:00', 'value': 97},\n {'time': '14:26:00', 'value': 99},\n {'time': '14:27:00', 'value': 99},\n {'time': '14:28:00', 'value': 100},\n {'time': '14:29:00', 'value': 90},\n {'time': '14:30:00', 'value': 96},\n {'time': '14:31:00', 'value': 97},\n {'time': '14:32:00', 'value': 93},\n {'time': '14:33:00', 'value': 89},\n {'time': '14:34:00', 'value': 99},\n {'time': '14:35:00', 'value': 98},\n {'time': '14:36:00', 'value': 90},\n {'time': '14:37:00', 'value': 91},\n {'time': '14:38:00', 'value': 96},\n {'time': '14:39:00', 'value': 97},\n {'time': '14:40:00', 'value': 97},\n {'time': '14:41:00', 'value': 92},\n {'time': '14:42:00', 'value': 88},\n {'time': '14:43:00', 'value': 92},\n {'time': '14:44:00', 'value': 90},\n {'time': '14:45:00', 'value': 93},\n {'time': '14:46:00', 'value': 88},\n {'time': '14:47:00', 'value': 93},\n {'time': '14:48:00', 'value': 93},\n {'time': '14:49:00', 'value': 89},\n {'time': '14:50:00', 'value': 91},\n {'time': '14:51:00', 'value': 94},\n {'time': '14:52:00', 'value': 95},\n {'time': '14:53:00', 'value': 93},\n {'time': '14:54:00', 'value': 97},\n {'time': '14:55:00', 'value': 96},\n {'time': '14:56:00', 'value': 95},\n {'time': '14:57:00', 'value': 93},\n {'time': '14:58:00', 'value': 95},\n {'time': '14:59:00', 'value': 99},\n {'time': '15:00:00', 'value': 97},\n {'time': '15:01:00', 'value': 97},\n {'time': '15:02:00', 'value': 97},\n {'time': '15:03:00', 'value': 98},\n {'time': '15:04:00', 'value': 96},\n {'time': '15:05:00', 'value': 98},\n {'time': '15:06:00', 'value': 97},\n {'time': '15:07:00', 'value': 98},\n {'time': '15:08:00', 'value': 91},\n {'time': '15:09:00', 'value': 95},\n {'time': '15:10:00', 'value': 94},\n {'time': '15:11:00', 'value': 92},\n {'time': '15:12:00', 'value': 91},\n {'time': '15:13:00', 'value': 88},\n {'time': '15:14:00', 'value': 91},\n {'time': '15:15:00', 'value': 90},\n {'time': '15:16:00', 'value': 88},\n {'time': '15:17:00', 'value': 89},\n {'time': '15:18:00', 'value': 88},\n {'time': '15:19:00', 'value': 89},\n {'time': '15:20:00', 'value': 89},\n {'time': '15:21:00', 'value': 86},\n {'time': '15:22:00', 'value': 88},\n {'time': '15:23:00', 'value': 90},\n {'time': '15:24:00', 'value': 86},\n {'time': '15:25:00', 'value': 87},\n {'time': '15:26:00', 'value': 90},\n {'time': '15:27:00', 'value': 88},\n {'time': '15:28:00', 'value': 91},\n {'time': '15:29:00', 'value': 93},\n {'time': '15:30:00', 'value': 91},\n {'time': '15:31:00', 'value': 95},\n {'time': '15:32:00', 'value': 90},\n {'time': '15:33:00', 'value': 93},\n {'time': '15:34:00', 'value': 92},\n {'time': '15:35:00', 'value': 90},\n {'time': '15:36:00', 'value': 91},\n {'time': '15:37:00', 'value': 87},\n {'time': '15:38:00', 'value': 89},\n {'time': '15:39:00', 'value': 87},\n {'time': '15:40:00', 'value': 86},\n {'time': '15:41:00', 'value': 85},\n {'time': '15:42:00', 'value': 86},\n {'time': '15:43:00', 'value': 87},\n {'time': '15:44:00', 'value': 89},\n {'time': '15:45:00', 'value': 87},\n {'time': '15:46:00', 'value': 85},\n {'time': '15:47:00', 'value': 87},\n {'time': '15:48:00', 'value': 90},\n {'time': '15:49:00', 'value': 90},\n {'time': '15:50:00', 'value': 88},\n {'time': '15:51:00', 'value': 89},\n {'time': '15:52:00', 'value': 89},\n {'time': '15:53:00', 'value': 89},\n {'time': '15:54:00', 'value': 88},\n {'time': '15:55:00', 'value': 89},\n {'time': '15:56:00', 'value': 91},\n {'time': '15:57:00', 'value': 90},\n {'time': '15:58:00', 'value': 93},\n {'time': '15:59:00', 'value': 88},\n {'time': '16:00:00', 'value': 91},\n {'time': '16:01:00', 'value': 91},\n {'time': '16:02:00', 'value': 92},\n {'time': '16:03:00', 'value': 92},\n {'time': '16:04:00', 'value': 90},\n {'time': '16:05:00', 'value': 86},\n {'time': '16:06:00', 'value': 90},\n {'time': '16:07:00', 'value': 89},\n {'time': '16:08:00', 'value': 90},\n {'time': '16:09:00', 'value': 89},\n {'time': '16:10:00', 'value': 89},\n {'time': '16:11:00', 'value': 90},\n {'time': '16:12:00', 'value': 90},\n {'time': '16:13:00', 'value': 90},\n {'time': '16:14:00', 'value': 89},\n {'time': '16:15:00', 'value': 90},\n {'time': '16:16:00', 'value': 86},\n {'time': '16:17:00', 'value': 84},\n {'time': '16:18:00', 'value': 91},\n {'time': '16:19:00', 'value': 89},\n {'time': '16:20:00', 'value': 89},\n {'time': '16:21:00', 'value': 91},\n {'time': '16:22:00', 'value': 89},\n {'time': '16:23:00', 'value': 86},\n {'time': '16:24:00', 'value': 85},\n {'time': '16:25:00', 'value': 87},\n {'time': '16:26:00', 'value': 87},\n {'time': '16:27:00', 'value': 89},\n {'time': '16:28:00', 'value': 88},\n {'time': '16:29:00', 'value': 88},\n {'time': '16:30:00', 'value': 94},\n {'time': '16:31:00', 'value': 89},\n {'time': '16:32:00', 'value': 89},\n {'time': '16:33:00', 'value': 88},\n {'time': '16:34:00', 'value': 92},\n {'time': '16:35:00', 'value': 96},\n {'time': '16:36:00', 'value': 87},\n {'time': '16:37:00', 'value': 91},\n {'time': '16:38:00', 'value': 89},\n {'time': '16:39:00', 'value': 88},\n ...]"
     },
     "execution_count": 20,
     "metadata": {},
     "output_type": "execute_result"
    }
   ],
   "source": [
    "example"
   ],
   "metadata": {
    "collapsed": false,
    "ExecuteTime": {
     "end_time": "2024-03-09T15:20:24.048778300Z",
     "start_time": "2024-03-09T15:20:24.025187900Z"
    }
   },
   "id": "3f43c7b95eed3fec",
   "execution_count": 20
  },
  {
   "cell_type": "code",
   "outputs": [],
   "source": [
    "hr_df = pd.DataFrame(example)\n",
    "hr_df['time'] = pd.to_datetime(hr_df['time'],format='%H:%M:%S').dt.time\n",
    "hr_df['time'] = hr_df.apply(lambda row: datetime.combine(yesterday,row['time']),axis=1)"
   ],
   "metadata": {
    "collapsed": false,
    "ExecuteTime": {
     "end_time": "2024-03-09T15:24:08.017538500Z",
     "start_time": "2024-03-09T15:24:07.903330400Z"
    }
   },
   "id": "22ebf596f52a5099",
   "execution_count": 23
  },
  {
   "cell_type": "code",
   "outputs": [
    {
     "data": {
      "text/plain": "                    time  value\n0    2024-03-08 00:00:00    112\n1    2024-03-08 00:01:00    119\n2    2024-03-08 00:02:00    123\n3    2024-03-08 00:03:00    122\n4    2024-03-08 00:04:00    131\n...                  ...    ...\n1435 2024-03-08 23:55:00     76\n1436 2024-03-08 23:56:00     71\n1437 2024-03-08 23:57:00     73\n1438 2024-03-08 23:58:00     73\n1439 2024-03-08 23:59:00     72\n\n[1440 rows x 2 columns]",
      "text/html": "<div>\n<style scoped>\n    .dataframe tbody tr th:only-of-type {\n        vertical-align: middle;\n    }\n\n    .dataframe tbody tr th {\n        vertical-align: top;\n    }\n\n    .dataframe thead th {\n        text-align: right;\n    }\n</style>\n<table border=\"1\" class=\"dataframe\">\n  <thead>\n    <tr style=\"text-align: right;\">\n      <th></th>\n      <th>time</th>\n      <th>value</th>\n    </tr>\n  </thead>\n  <tbody>\n    <tr>\n      <th>0</th>\n      <td>2024-03-08 00:00:00</td>\n      <td>112</td>\n    </tr>\n    <tr>\n      <th>1</th>\n      <td>2024-03-08 00:01:00</td>\n      <td>119</td>\n    </tr>\n    <tr>\n      <th>2</th>\n      <td>2024-03-08 00:02:00</td>\n      <td>123</td>\n    </tr>\n    <tr>\n      <th>3</th>\n      <td>2024-03-08 00:03:00</td>\n      <td>122</td>\n    </tr>\n    <tr>\n      <th>4</th>\n      <td>2024-03-08 00:04:00</td>\n      <td>131</td>\n    </tr>\n    <tr>\n      <th>...</th>\n      <td>...</td>\n      <td>...</td>\n    </tr>\n    <tr>\n      <th>1435</th>\n      <td>2024-03-08 23:55:00</td>\n      <td>76</td>\n    </tr>\n    <tr>\n      <th>1436</th>\n      <td>2024-03-08 23:56:00</td>\n      <td>71</td>\n    </tr>\n    <tr>\n      <th>1437</th>\n      <td>2024-03-08 23:57:00</td>\n      <td>73</td>\n    </tr>\n    <tr>\n      <th>1438</th>\n      <td>2024-03-08 23:58:00</td>\n      <td>73</td>\n    </tr>\n    <tr>\n      <th>1439</th>\n      <td>2024-03-08 23:59:00</td>\n      <td>72</td>\n    </tr>\n  </tbody>\n</table>\n<p>1440 rows × 2 columns</p>\n</div>"
     },
     "execution_count": 24,
     "metadata": {},
     "output_type": "execute_result"
    }
   ],
   "source": [
    "hr_df"
   ],
   "metadata": {
    "collapsed": false,
    "ExecuteTime": {
     "end_time": "2024-03-09T15:24:09.277647300Z",
     "start_time": "2024-03-09T15:24:09.254931200Z"
    }
   },
   "id": "31ab53f0c0fc9dbc",
   "execution_count": 24
  },
  {
   "cell_type": "code",
   "outputs": [],
   "source": [
    "doubled = pd.concat([hr_df,hr_df],ignore_index=True)"
   ],
   "metadata": {
    "collapsed": false,
    "ExecuteTime": {
     "end_time": "2024-03-09T15:26:51.846488100Z",
     "start_time": "2024-03-09T15:26:51.740315800Z"
    }
   },
   "id": "ebbd2213ce2d971c",
   "execution_count": 26
  },
  {
   "cell_type": "markdown",
   "source": [
    "## Dependent variables\n",
    "### Heart rate"
   ],
   "metadata": {
    "collapsed": false
   },
   "id": "6da5a7f3f84cc345"
  },
  {
   "cell_type": "code",
   "outputs": [],
   "source": [
    "hr = client.time_series('activities/heart',base_date=yesterday,period='1d')['activities-heart-intraday']['dataset']\n",
    "hr_df = pd.DataFrame(hr)\n",
    "hr_df['time'] = pd.to_datetime(hr_df['time'],format='%H:%M:%S').dt.time\n",
    "hr_df['datetime'] = hr_df.apply(lambda row: datetime.combine(yesterday,row['time']),axis=1)\n",
    "hr_df['30MinRollingAvg'] = hr_df['value'].rolling(window=30).mean()\n",
    "rhr = round(hr_df['30MinRollingAvg'].min(),1)"
   ],
   "metadata": {
    "collapsed": false
   },
   "id": "6a8eb9849827e720",
   "execution_count": null
  },
  {
   "cell_type": "code",
   "outputs": [],
   "source": [
    "activities_data = client.activities(date=yesterday)"
   ],
   "metadata": {
    "collapsed": false
   },
   "id": "e3431ce25cc443c3",
   "execution_count": null
  },
  {
   "cell_type": "code",
   "outputs": [],
   "source": [
    "summary = activities_data['summary']"
   ],
   "metadata": {
    "collapsed": false
   },
   "id": "5b6fd0694357d907",
   "execution_count": null
  },
  {
   "cell_type": "code",
   "outputs": [],
   "source": [
    "steps = summary['steps']"
   ],
   "metadata": {
    "collapsed": false
   },
   "id": "2f2781608d79627e",
   "execution_count": null
  },
  {
   "cell_type": "code",
   "outputs": [],
   "source": [
    "sedentary_hours = round(summary['sedentaryMinutes'] / 60,2)"
   ],
   "metadata": {
    "collapsed": false
   },
   "id": "917fc8e5944de2a6",
   "execution_count": null
  },
  {
   "cell_type": "markdown",
   "source": [
    "Maximum Heart Rate (MHR) is 208 - Age * 0.7 "
   ],
   "metadata": {
    "collapsed": false
   },
   "id": "81739a74b83118fe"
  },
  {
   "cell_type": "code",
   "outputs": [],
   "source": [
    "mhr = 208 - 31 * 0.7"
   ],
   "metadata": {
    "collapsed": false
   },
   "id": "7818e40f66a350b1",
   "execution_count": null
  },
  {
   "cell_type": "markdown",
   "source": [
    "Moderate intensity exercise = 50% - 70% of MHR\n",
    "Vigorous intensity exercise = 70% - 85% of MHR"
   ],
   "metadata": {
    "collapsed": false
   },
   "id": "586454bbeecd5e79"
  },
  {
   "cell_type": "code",
   "outputs": [],
   "source": [
    "mod_hr = (round(0.5*mhr),round(0.7*mhr))"
   ],
   "metadata": {
    "collapsed": false
   },
   "id": "d309560444630138",
   "execution_count": null
  },
  {
   "cell_type": "code",
   "outputs": [],
   "source": [
    "vig_hr = (round(0.7*mhr), round(0.85*mhr))"
   ],
   "metadata": {
    "collapsed": false
   },
   "id": "b4b7ed1ca0847812",
   "execution_count": null
  },
  {
   "cell_type": "code",
   "outputs": [],
   "source": [
    "activities_list = client.activities_list()['categories']"
   ],
   "metadata": {
    "collapsed": false
   },
   "id": "bdd61d6c7a7f3fca",
   "execution_count": null
  },
  {
   "cell_type": "code",
   "outputs": [],
   "source": [
    "keep = ['Yoga','Dancing','Sports and Workouts','Walking']\n",
    "keep_activities = []\n",
    "for activity in activities_list:\n",
    "    if activity['name'] in keep:\n",
    "        keep_activities.append(activity)"
   ],
   "metadata": {
    "collapsed": false
   },
   "id": "dc2ecb2ce9d48854",
   "execution_count": null
  },
  {
   "cell_type": "code",
   "outputs": [],
   "source": [
    "data = {'date':yesterday, 'sleep_duration': sleep_duration, 'bedtime':bedtime, 'waketime':waketime, 'rhr':rhr, 'steps':steps, 'sedentary_hours':sedentary_hours}"
   ],
   "metadata": {
    "collapsed": false
   },
   "id": "e87c4d8e23c3b791",
   "execution_count": null
  },
  {
   "cell_type": "code",
   "outputs": [],
   "source": [
    "row = pd.Series(data)"
   ],
   "metadata": {
    "collapsed": false
   },
   "id": "6d7371d0f7e4a667",
   "execution_count": null
  },
  {
   "cell_type": "code",
   "outputs": [],
   "source": [
    "row"
   ],
   "metadata": {
    "collapsed": false
   },
   "id": "e752f9b32b00009d",
   "execution_count": null
  },
  {
   "cell_type": "code",
   "outputs": [],
   "source": [
    "df"
   ],
   "metadata": {
    "collapsed": false
   },
   "id": "1bbb512c6d45cffb",
   "execution_count": null
  },
  {
   "cell_type": "code",
   "outputs": [],
   "source": [
    "import gspread\n",
    "from oauth2client.service_account import ServiceAccountCredentials\n",
    "from pprint import pprint as pp"
   ],
   "metadata": {
    "collapsed": false
   },
   "id": "2116547d95af8b04",
   "execution_count": null
  },
  {
   "cell_type": "code",
   "outputs": [],
   "source": [
    "scope = [\"https://spreadsheets.google.com/feeds\",'https://www.googleapis.com/auth/spreadsheets',\"https://www.googleapis.com/auth/drive.file\",\"https://www.googleapis.com/auth/drive\"]"
   ],
   "metadata": {
    "collapsed": false
   },
   "id": "64525c4d952707ef",
   "execution_count": null
  },
  {
   "cell_type": "code",
   "outputs": [],
   "source": [
    "creds = ServiceAccountCredentials.from_json_keyfile_name('creds.json',scope)\n",
    "client = gspread.authorize(creds)"
   ],
   "metadata": {
    "collapsed": false
   },
   "id": "e6808137821f46ac",
   "execution_count": null
  },
  {
   "cell_type": "code",
   "outputs": [],
   "source": [
    "sheet = client.open('quantified_ed').sheet1"
   ],
   "metadata": {
    "collapsed": false
   },
   "id": "aa8b44856449d5df",
   "execution_count": null
  },
  {
   "cell_type": "code",
   "outputs": [],
   "source": [
    "row = yesterday.strftime(\"%m/%d/%Y\"), sleep_duration, bedtime.strftime(\"%m/%d/%Y, %H:%M:%S\"), waketime.strftime(\"%m/%d/%Y, %H:%M:%S\"), rhr, steps, sedentary_hours"
   ],
   "metadata": {
    "collapsed": false
   },
   "id": "371dcfed6481ccb9",
   "execution_count": null
  },
  {
   "cell_type": "code",
   "outputs": [],
   "source": [
    "sheet.insert_row(row,2)"
   ],
   "metadata": {
    "collapsed": false
   },
   "id": "6fca432ca2edc664",
   "execution_count": null
  },
  {
   "cell_type": "code",
   "outputs": [],
   "source": [
    "hr_df"
   ],
   "metadata": {
    "collapsed": false
   },
   "id": "1109e5fa373c826f",
   "execution_count": null
  },
  {
   "cell_type": "code",
   "outputs": [],
   "source": [
    "import plotly.express as px\n",
    "fig = px.line(hr_df,x='datetime',y='value')\n",
    "fig.add_vline(x = waketime, line_color='green', line_width=1, line_dash=\"dash\")\n",
    "fig.add_vline(x = bedtime, line_color='purple', line_width=1, line_dash=\"dash\")\n",
    "fig.add_\n",
    "fig.show()"
   ],
   "metadata": {
    "collapsed": false
   },
   "id": "d287ab097fe8b4a4",
   "execution_count": null
  },
  {
   "cell_type": "code",
   "outputs": [],
   "source": [
    "hr_df"
   ],
   "metadata": {
    "collapsed": false
   },
   "id": "52d394e626cb6af0",
   "execution_count": null
  },
  {
   "cell_type": "code",
   "outputs": [],
   "source": [],
   "metadata": {
    "collapsed": false
   },
   "id": "62798156a07fab69",
   "execution_count": null
  },
  {
   "cell_type": "code",
   "outputs": [],
   "source": [
    "import matplotlib.pyplot as plt\n",
    "\n",
    "plt.figure(figsize=(15,7))\n",
    "plt.plot(hr_df['datetime'],hr_df['value'], label='Original Heart Rate', color='red')\n",
    "plt.plot(hr_df['datetime'],hr_df['30MinRollingAvg'], label='30-Point Rolling Average', color='blue', linestyle='--')\n",
    "end_highlight = hr_df['datetime'][411]\n",
    "start_highlight = hr_df['datetime'][381]\n",
    "plt.axvspan(start_highlight,end_highlight,color='yellow',alpha=0.3)\n",
    "\n",
    "plt.axvline(x=waketime,color='green',linestyle='--', label='Wake time')\n",
    "plt.axvline(x=bedtime,color='purple',linestyle='--', label='Sleep time')\n",
    "\n",
    "# Customizing the plot\n",
    "plt.title('Heart Rate and Rolling Average Over 24 Hours')\n",
    "plt.xlabel('Time')\n",
    "plt.ylabel('Heart Rate (bpm)')\n",
    "plt.legend()\n",
    "plt.xticks(rotation=45)  # Rotate labels if needed\n",
    "plt.tight_layout()\n",
    "\n",
    "# Show plot\n",
    "plt.show()"
   ],
   "metadata": {
    "collapsed": false
   },
   "id": "c4b04f02b3041b34",
   "execution_count": null
  },
  {
   "cell_type": "code",
   "outputs": [],
   "source": [
    "rhr"
   ],
   "metadata": {
    "collapsed": false
   },
   "id": "6e004bb9d4860a8",
   "execution_count": null
  },
  {
   "cell_type": "markdown",
   "source": [
    "## Get weight & Body fat"
   ],
   "metadata": {
    "collapsed": false
   },
   "id": "3fa219371faf13d4"
  },
  {
   "cell_type": "code",
   "outputs": [],
   "source": [
    "body_weights = []"
   ],
   "metadata": {
    "collapsed": false,
    "ExecuteTime": {
     "end_time": "2024-03-14T14:18:27.217605Z",
     "start_time": "2024-03-14T14:18:27.214587Z"
    }
   },
   "id": "22644f0f36c0e69b",
   "execution_count": 80
  },
  {
   "cell_type": "code",
   "outputs": [],
   "source": [
    "base_date = date.today() - timedelta(days=365)"
   ],
   "metadata": {
    "collapsed": false,
    "ExecuteTime": {
     "end_time": "2024-03-14T14:18:27.515579Z",
     "start_time": "2024-03-14T14:18:27.511892Z"
    }
   },
   "id": "24154ced16f05a87",
   "execution_count": 81
  },
  {
   "cell_type": "code",
   "outputs": [],
   "source": [
    "for month in range(1,13):\n",
    "    new_date = base_date + timedelta(days=30*month)\n",
    "    body_weight = client.get_bodyweight(base_date = new_date, period='1m')\n",
    "    body_weights.append(body_weight)"
   ],
   "metadata": {
    "collapsed": false,
    "ExecuteTime": {
     "end_time": "2024-03-14T14:18:33.047094Z",
     "start_time": "2024-03-14T14:18:30.683698Z"
    }
   },
   "id": "636914d0c032589",
   "execution_count": 83
  },
  {
   "cell_type": "code",
   "outputs": [],
   "source": [
    "flattened_data = [entry for sublist in body_weights for entry in sublist['weight']]"
   ],
   "metadata": {
    "collapsed": false,
    "ExecuteTime": {
     "end_time": "2024-03-14T14:31:43.279610Z",
     "start_time": "2024-03-14T14:31:43.276237Z"
    }
   },
   "id": "6a9bedb4ebbab47a",
   "execution_count": 112
  },
  {
   "cell_type": "code",
   "outputs": [],
   "source": [
    "df = pd.DataFrame(flattened_data)"
   ],
   "metadata": {
    "collapsed": false,
    "ExecuteTime": {
     "end_time": "2024-03-14T14:31:58.717483Z",
     "start_time": "2024-03-14T14:31:58.713379Z"
    }
   },
   "id": "e8ee5c537f491cae",
   "execution_count": 114
  },
  {
   "cell_type": "code",
   "outputs": [],
   "source": [
    "df.to_csv('output/csv/weight.csv',index=False)"
   ],
   "metadata": {
    "collapsed": false,
    "ExecuteTime": {
     "end_time": "2024-03-14T14:34:32.141534Z",
     "start_time": "2024-03-14T14:34:32.133976Z"
    }
   },
   "id": "e49827b102d720f6",
   "execution_count": 117
  },
  {
   "cell_type": "code",
   "outputs": [],
   "source": [
    "df.to_pickle('output/pickle/weight.pkl')"
   ],
   "metadata": {
    "collapsed": false,
    "ExecuteTime": {
     "end_time": "2024-03-14T14:34:46.506356Z",
     "start_time": "2024-03-14T14:34:46.501475Z"
    }
   },
   "id": "cb75df3f9d1c5f43",
   "execution_count": 118
  },
  {
   "cell_type": "code",
   "outputs": [],
   "source": [],
   "metadata": {
    "collapsed": false
   },
   "id": "911b5b35d7948c43"
  }
 ],
 "metadata": {
  "kernelspec": {
   "display_name": "Python 3",
   "language": "python",
   "name": "python3"
  },
  "language_info": {
   "codemirror_mode": {
    "name": "ipython",
    "version": 2
   },
   "file_extension": ".py",
   "mimetype": "text/x-python",
   "name": "python",
   "nbconvert_exporter": "python",
   "pygments_lexer": "ipython2",
   "version": "2.7.6"
  }
 },
 "nbformat": 4,
 "nbformat_minor": 5
}
