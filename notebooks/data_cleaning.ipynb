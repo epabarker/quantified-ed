{
 "cells": [
  {
   "cell_type": "markdown",
   "source": [
    "# Data Cleaning\n",
    "## Libraries"
   ],
   "metadata": {
    "collapsed": false
   },
   "id": "2a2308446650b304"
  },
  {
   "cell_type": "code",
   "outputs": [],
   "source": [
    "import pandas as pd"
   ],
   "metadata": {
    "collapsed": true,
    "ExecuteTime": {
     "end_time": "2024-03-18T20:20:35.486209Z",
     "start_time": "2024-03-18T20:20:35.035546Z"
    }
   },
   "id": "initial_id",
   "execution_count": 1
  },
  {
   "cell_type": "markdown",
   "source": [
    "## Date Conversion"
   ],
   "metadata": {
    "collapsed": false
   },
   "id": "24801bc9d0e269d1"
  },
  {
   "cell_type": "code",
   "outputs": [],
   "source": [
    "df_dict = pd.read_pickle('../data/processed/pickle/fitbit_data.pkl')"
   ],
   "metadata": {
    "collapsed": false,
    "ExecuteTime": {
     "end_time": "2024-03-18T20:20:36.440066Z",
     "start_time": "2024-03-18T20:20:35.774267Z"
    }
   },
   "id": "c86a017f39fadf10",
   "execution_count": 2
  },
  {
   "cell_type": "code",
   "outputs": [],
   "source": [
    "params_dict = {\n",
    "    'rr': {'columns': ['timestamp'], 'time_format': [None]},\n",
    "    'vo2_max': {'columns': ['dateTime'], 'time_format': ['%m/%d/%y %H:%M:%S']},\n",
    "    'ox_var': {'columns': ['timestamp'], 'time_format': ['%m/%d/%y %H:%M:%S']},\n",
    "    'spo2_daily': {'columns': ['timestamp'], 'time_format': [None]},\n",
    "    'spo2_intraday': {'columns': ['timestamp'], 'time_format': [None]},\n",
    "    'afib_ecg': {'columns': ['reading_time'], 'time_format': [None]},\n",
    "    'hr': {'columns': ['dateTime'], 'time_format': ['%m/%d/%y %H:%M:%S']},\n",
    "    'hrv_summary': {'columns': ['timestamp'], 'time_format': ['%Y-%m-%dT%H:%M:%S']},\n",
    "    'hrv_histogram': {'columns': ['timestamp'], 'time_format': ['%Y-%m-%dT%H:%M:%S']},\n",
    "    'hrv_details': {'columns': ['timestamp'], 'time_format': ['%Y-%m-%dT%H:%M:%S']},\n",
    "    'time_in_hr_zones': {'columns': ['dateTime'], 'time_format': ['%m/%d/%y %H:%M:%S']},\n",
    "    'sleep_profile': {'columns': ['creation_date'], 'time_format': ['%Y-%m-%d']},\n",
    "    'sleep_score': {'columns': ['timestamp'], 'time_format': ['%Y-%m-%dT%H:%M:%SZ']},\n",
    "    'sleep_json': {'columns': ['dateOfSleep','startTime','endTime'], 'time_format': ['%Y-%m-%d','%Y-%m-%dT%H:%M:%S.%f','%Y-%m-%dT%H:%M:%S.%f']},\n",
    "    'stress': {'columns': ['DATE','UPDATED_AT'], 'time_format': ['%Y-%m-%dT%H:%M:%S','%Y-%m-%dT%H:%M:%S.%f']},\n",
    "    'weight': {'columns':['date','time'] ,'time_format':['%m/%d/%y','%H:%M:%S']}\n",
    "}"
   ],
   "metadata": {
    "collapsed": false,
    "ExecuteTime": {
     "end_time": "2024-03-18T20:21:16.141805Z",
     "start_time": "2024-03-18T20:21:16.130591Z"
    }
   },
   "id": "8d3be50accfb0435",
   "execution_count": 5
  },
  {
   "cell_type": "code",
   "outputs": [],
   "source": [
    "def datetime_conversion(df,columns,time_format):\n",
    "    for col,fmt in zip(columns,time_format):\n",
    "        df[col] = pd.to_datetime(df[col],format=fmt)\n",
    "        df['date'] = pd.to_datetime(df[col].dt.date)\n",
    "        df.set_index('date',inplace=True)\n",
    "        return df"
   ],
   "metadata": {
    "collapsed": false,
    "ExecuteTime": {
     "end_time": "2024-03-18T20:21:17.212242Z",
     "start_time": "2024-03-18T20:21:17.203240Z"
    }
   },
   "id": "5cd434046ebe459a",
   "execution_count": 6
  },
  {
   "cell_type": "code",
   "outputs": [],
   "source": [
    "for name,params in params_dict.items():\n",
    "    df_dict[name] = datetime_conversion(df_dict[name],**params)"
   ],
   "metadata": {
    "collapsed": false,
    "ExecuteTime": {
     "end_time": "2024-03-18T20:21:30.596836Z",
     "start_time": "2024-03-18T20:21:18.401258Z"
    }
   },
   "id": "9b94de81fe272b53",
   "execution_count": 7
  },
  {
   "cell_type": "markdown",
   "source": [
    "## Intraday to daily"
   ],
   "metadata": {
    "collapsed": false
   },
   "id": "8b67a6312067cca5"
  },
  {
   "cell_type": "code",
   "outputs": [
    {
     "name": "stderr",
     "output_type": "stream",
     "text": [
      "C:\\Users\\Ed\\AppData\\Local\\Temp\\ipykernel_20732\\4087804141.py:1: FutureWarning: The default value of numeric_only in DataFrameGroupBy.mean is deprecated. In a future version, numeric_only will default to False. Either specify numeric_only or select only columns which should be valid for the function.\n",
      "  df_dict['hr'] = df_dict['hr'].resample('D').mean()\n"
     ]
    }
   ],
   "source": [
    "df_dict['hr'] = df_dict['hr'].resample('D').mean()"
   ],
   "metadata": {
    "collapsed": false,
    "ExecuteTime": {
     "end_time": "2024-03-18T20:21:30.707038Z",
     "start_time": "2024-03-18T20:21:30.599699Z"
    }
   },
   "id": "919e178457774d2c",
   "execution_count": 8
  },
  {
   "cell_type": "code",
   "outputs": [
    {
     "name": "stderr",
     "output_type": "stream",
     "text": [
      "C:\\Users\\Ed\\AppData\\Local\\Temp\\ipykernel_20732\\880682297.py:1: FutureWarning: The default value of numeric_only in DataFrameGroupBy.mean is deprecated. In a future version, numeric_only will default to False. Either specify numeric_only or select only columns which should be valid for the function.\n",
      "  df_dict['ox_var'] = df_dict['ox_var'].resample('D').mean()\n"
     ]
    }
   ],
   "source": [
    "df_dict['ox_var'] = df_dict['ox_var'].resample('D').mean()"
   ],
   "metadata": {
    "collapsed": false,
    "ExecuteTime": {
     "end_time": "2024-03-18T20:21:30.739066Z",
     "start_time": "2024-03-18T20:21:30.708039Z"
    }
   },
   "id": "1249808500464053",
   "execution_count": 9
  },
  {
   "cell_type": "markdown",
   "source": [
    "## Granularity\n",
    "### Less than daily \n",
    "- Profile\n",
    "- Sleep Profile\n",
    "### Daily\n",
    "- Respiration rate\n",
    "- Vo2 Max\n",
    "- Spo2 daily\n",
    "- Afib ECG\n",
    "- HRV summary\n",
    "- HRV histogram\n",
    "- Time in HR Zones\n",
    "- Sleep score\n",
    "- Sleep json\n",
    "- Stress\n",
    "- Weight\n",
    "### Intraday\n",
    "- Oxygen variation\n",
    "- Spo2 intraday\n",
    "- Heart rate\n",
    "- HRV details"
   ],
   "metadata": {
    "collapsed": false
   },
   "id": "9968de7ed7971989"
  },
  {
   "cell_type": "markdown",
   "source": [
    "## Joining"
   ],
   "metadata": {
    "collapsed": false
   },
   "id": "59bf672f7060fe79"
  },
  {
   "cell_type": "code",
   "outputs": [],
   "source": [
    "daily_dfs = ['rr','hr','ox_var','vo2_max','spo2_daily','afib_ecg','hrv_summary','hrv_histogram','time_in_hr_zones','sleep_score','sleep_json','stress','weight']"
   ],
   "metadata": {
    "collapsed": false,
    "ExecuteTime": {
     "end_time": "2024-03-18T20:21:30.754220Z",
     "start_time": "2024-03-18T20:21:30.742065Z"
    }
   },
   "id": "82321548ea2116c4",
   "execution_count": 10
  },
  {
   "cell_type": "code",
   "outputs": [],
   "source": [
    "de_duplicated_dfs = [] \n",
    "for name in daily_dfs:\n",
    "    df = df_dict[name].copy()\n",
    "    df = df[~df.index.duplicated(keep='first')]\n",
    "    df = df.add_prefix((name+'.'))\n",
    "    de_duplicated_dfs.append(df)"
   ],
   "metadata": {
    "collapsed": false,
    "ExecuteTime": {
     "end_time": "2024-03-18T20:21:31.779489Z",
     "start_time": "2024-03-18T20:21:31.751903Z"
    }
   },
   "id": "a5d2d103a628a14",
   "execution_count": 11
  },
  {
   "cell_type": "code",
   "outputs": [],
   "source": [
    "df_final = pd.concat(de_duplicated_dfs,axis=1, join='outer')"
   ],
   "metadata": {
    "collapsed": false,
    "ExecuteTime": {
     "end_time": "2024-03-18T20:21:34.246381Z",
     "start_time": "2024-03-18T20:21:34.223365Z"
    }
   },
   "id": "70460e615b46c4f5",
   "execution_count": 12
  },
  {
   "cell_type": "code",
   "outputs": [
    {
     "data": {
      "text/plain": "                  rr.timestamp  rr.full_sleep_breathing_rate  \\\ndate                                                           \n2022-01-12                 NaT                           NaN   \n2022-01-13 2022-01-13 06:43:00                          14.0   \n2022-01-14 2022-01-14 06:07:00                          13.4   \n2022-01-15 2022-01-15 08:59:00                          13.8   \n2022-01-16 2022-01-16 08:57:00                          14.8   \n...                        ...                           ...   \n2024-03-11 2024-03-11 06:24:30                          13.6   \n2024-03-12 2024-03-12 09:01:30                          13.0   \n2024-03-13 2024-03-13 08:24:30                          12.8   \n2024-03-14 2024-03-14 08:27:30                          14.0   \n2024-03-15 2024-03-15 07:11:00                          13.8   \n\n            rr.full_sleep_standard_deviation  rr.full_sleep_signal_to_noise  \\\ndate                                                                          \n2022-01-12                               NaN                            NaN   \n2022-01-13                               0.9                          9.564   \n2022-01-14                               1.1                          9.308   \n2022-01-15                               0.9                          9.985   \n2022-01-16                               1.0                         11.748   \n...                                      ...                            ...   \n2024-03-11                               1.3                         10.727   \n2024-03-12                               0.9                         11.367   \n2024-03-13                               0.8                          6.631   \n2024-03-14                               1.2                         10.598   \n2024-03-15                               0.8                          9.486   \n\n            rr.deep_sleep_breathing_rate  rr.deep_sleep_standard_deviation  \\\ndate                                                                         \n2022-01-12                           NaN                               NaN   \n2022-01-13                          14.0                               0.9   \n2022-01-14                          13.4                               1.1   \n2022-01-15                          13.8                               0.9   \n2022-01-16                          14.8                               1.0   \n...                                  ...                               ...   \n2024-03-11                          13.6                               1.3   \n2024-03-12                          13.0                               0.9   \n2024-03-13                          12.8                               0.8   \n2024-03-14                          14.0                               1.2   \n2024-03-15                          13.8                               0.8   \n\n            rr.deep_sleep_signal_to_noise  rr.light_sleep_breathing_rate  \\\ndate                                                                       \n2022-01-12                            NaN                            NaN   \n2022-01-13                          9.564                           12.6   \n2022-01-14                          9.308                           12.4   \n2022-01-15                          9.985                           12.6   \n2022-01-16                         11.748                           12.4   \n...                                   ...                            ...   \n2024-03-11                         10.727                           13.0   \n2024-03-12                         11.367                           11.4   \n2024-03-13                          6.631                           11.4   \n2024-03-14                         10.598                           11.0   \n2024-03-15                          9.486                           13.0   \n\n            rr.light_sleep_standard_deviation  rr.light_sleep_signal_to_noise  \\\ndate                                                                            \n2022-01-12                                NaN                             NaN   \n2022-01-13                                1.7                          14.518   \n2022-01-14                                1.1                          19.405   \n2022-01-15                                1.2                          12.030   \n2022-01-16                                1.6                          11.046   \n...                                       ...                             ...   \n2024-03-11                                1.2                          12.247   \n2024-03-12                                0.8                           9.491   \n2024-03-13                                1.1                           7.617   \n2024-03-14                                1.1                           8.234   \n2024-03-15                                0.9                           7.096   \n\n            ...  stress.EXERTION_POINTS  stress.MAX_EXERTION_POINTS  \\\ndate        ...                                                       \n2022-01-12  ...                     NaN                         NaN   \n2022-01-13  ...                     NaN                         NaN   \n2022-01-14  ...                     0.0                         0.0   \n2022-01-15  ...                     0.0                         0.0   \n2022-01-16  ...                     0.0                         0.0   \n...         ...                     ...                         ...   \n2024-03-11  ...                    26.0                        40.0   \n2024-03-12  ...                    26.0                        40.0   \n2024-03-13  ...                    21.0                        40.0   \n2024-03-14  ...                    31.0                        40.0   \n2024-03-15  ...                    29.0                        40.0   \n\n                stress.STATUS  stress.CALCULATION_FAILED  weight.logId  \\\ndate                                                                     \n2022-01-12                NaN                        NaN  1.642032e+12   \n2022-01-13                NaN                        NaN  1.642118e+12   \n2022-01-14  READY_NOT_PREMIUM                      False           NaN   \n2022-01-15  READY_NOT_PREMIUM                      False           NaN   \n2022-01-16  READY_NOT_PREMIUM                      False           NaN   \n...                       ...                        ...           ...   \n2024-03-11              READY                      False           NaN   \n2024-03-12              READY                      False           NaN   \n2024-03-13              READY                      False           NaN   \n2024-03-14              READY                      False           NaN   \n2024-03-15              READY                      False           NaN   \n\n            weight.weight weight.bmi  weight.time  weight.source  weight.fat  \ndate                                                                          \n2022-01-12          197.7      23.35     23:59:59            API         NaN  \n2022-01-13          197.9      23.38     23:59:59            API        20.0  \n2022-01-14            NaN        NaN          NaN            NaN         NaN  \n2022-01-15            NaN        NaN          NaN            NaN         NaN  \n2022-01-16            NaN        NaN          NaN            NaN         NaN  \n...                   ...        ...          ...            ...         ...  \n2024-03-11            NaN        NaN          NaN            NaN         NaN  \n2024-03-12            NaN        NaN          NaN            NaN         NaN  \n2024-03-13            NaN        NaN          NaN            NaN         NaN  \n2024-03-14            NaN        NaN          NaN            NaN         NaN  \n2024-03-15            NaN        NaN          NaN            NaN         NaN  \n\n[794 rows x 107 columns]",
      "text/html": "<div>\n<style scoped>\n    .dataframe tbody tr th:only-of-type {\n        vertical-align: middle;\n    }\n\n    .dataframe tbody tr th {\n        vertical-align: top;\n    }\n\n    .dataframe thead th {\n        text-align: right;\n    }\n</style>\n<table border=\"1\" class=\"dataframe\">\n  <thead>\n    <tr style=\"text-align: right;\">\n      <th></th>\n      <th>rr.timestamp</th>\n      <th>rr.full_sleep_breathing_rate</th>\n      <th>rr.full_sleep_standard_deviation</th>\n      <th>rr.full_sleep_signal_to_noise</th>\n      <th>rr.deep_sleep_breathing_rate</th>\n      <th>rr.deep_sleep_standard_deviation</th>\n      <th>rr.deep_sleep_signal_to_noise</th>\n      <th>rr.light_sleep_breathing_rate</th>\n      <th>rr.light_sleep_standard_deviation</th>\n      <th>rr.light_sleep_signal_to_noise</th>\n      <th>...</th>\n      <th>stress.EXERTION_POINTS</th>\n      <th>stress.MAX_EXERTION_POINTS</th>\n      <th>stress.STATUS</th>\n      <th>stress.CALCULATION_FAILED</th>\n      <th>weight.logId</th>\n      <th>weight.weight</th>\n      <th>weight.bmi</th>\n      <th>weight.time</th>\n      <th>weight.source</th>\n      <th>weight.fat</th>\n    </tr>\n    <tr>\n      <th>date</th>\n      <th></th>\n      <th></th>\n      <th></th>\n      <th></th>\n      <th></th>\n      <th></th>\n      <th></th>\n      <th></th>\n      <th></th>\n      <th></th>\n      <th></th>\n      <th></th>\n      <th></th>\n      <th></th>\n      <th></th>\n      <th></th>\n      <th></th>\n      <th></th>\n      <th></th>\n      <th></th>\n      <th></th>\n    </tr>\n  </thead>\n  <tbody>\n    <tr>\n      <th>2022-01-12</th>\n      <td>NaT</td>\n      <td>NaN</td>\n      <td>NaN</td>\n      <td>NaN</td>\n      <td>NaN</td>\n      <td>NaN</td>\n      <td>NaN</td>\n      <td>NaN</td>\n      <td>NaN</td>\n      <td>NaN</td>\n      <td>...</td>\n      <td>NaN</td>\n      <td>NaN</td>\n      <td>NaN</td>\n      <td>NaN</td>\n      <td>1.642032e+12</td>\n      <td>197.7</td>\n      <td>23.35</td>\n      <td>23:59:59</td>\n      <td>API</td>\n      <td>NaN</td>\n    </tr>\n    <tr>\n      <th>2022-01-13</th>\n      <td>2022-01-13 06:43:00</td>\n      <td>14.0</td>\n      <td>0.9</td>\n      <td>9.564</td>\n      <td>14.0</td>\n      <td>0.9</td>\n      <td>9.564</td>\n      <td>12.6</td>\n      <td>1.7</td>\n      <td>14.518</td>\n      <td>...</td>\n      <td>NaN</td>\n      <td>NaN</td>\n      <td>NaN</td>\n      <td>NaN</td>\n      <td>1.642118e+12</td>\n      <td>197.9</td>\n      <td>23.38</td>\n      <td>23:59:59</td>\n      <td>API</td>\n      <td>20.0</td>\n    </tr>\n    <tr>\n      <th>2022-01-14</th>\n      <td>2022-01-14 06:07:00</td>\n      <td>13.4</td>\n      <td>1.1</td>\n      <td>9.308</td>\n      <td>13.4</td>\n      <td>1.1</td>\n      <td>9.308</td>\n      <td>12.4</td>\n      <td>1.1</td>\n      <td>19.405</td>\n      <td>...</td>\n      <td>0.0</td>\n      <td>0.0</td>\n      <td>READY_NOT_PREMIUM</td>\n      <td>False</td>\n      <td>NaN</td>\n      <td>NaN</td>\n      <td>NaN</td>\n      <td>NaN</td>\n      <td>NaN</td>\n      <td>NaN</td>\n    </tr>\n    <tr>\n      <th>2022-01-15</th>\n      <td>2022-01-15 08:59:00</td>\n      <td>13.8</td>\n      <td>0.9</td>\n      <td>9.985</td>\n      <td>13.8</td>\n      <td>0.9</td>\n      <td>9.985</td>\n      <td>12.6</td>\n      <td>1.2</td>\n      <td>12.030</td>\n      <td>...</td>\n      <td>0.0</td>\n      <td>0.0</td>\n      <td>READY_NOT_PREMIUM</td>\n      <td>False</td>\n      <td>NaN</td>\n      <td>NaN</td>\n      <td>NaN</td>\n      <td>NaN</td>\n      <td>NaN</td>\n      <td>NaN</td>\n    </tr>\n    <tr>\n      <th>2022-01-16</th>\n      <td>2022-01-16 08:57:00</td>\n      <td>14.8</td>\n      <td>1.0</td>\n      <td>11.748</td>\n      <td>14.8</td>\n      <td>1.0</td>\n      <td>11.748</td>\n      <td>12.4</td>\n      <td>1.6</td>\n      <td>11.046</td>\n      <td>...</td>\n      <td>0.0</td>\n      <td>0.0</td>\n      <td>READY_NOT_PREMIUM</td>\n      <td>False</td>\n      <td>NaN</td>\n      <td>NaN</td>\n      <td>NaN</td>\n      <td>NaN</td>\n      <td>NaN</td>\n      <td>NaN</td>\n    </tr>\n    <tr>\n      <th>...</th>\n      <td>...</td>\n      <td>...</td>\n      <td>...</td>\n      <td>...</td>\n      <td>...</td>\n      <td>...</td>\n      <td>...</td>\n      <td>...</td>\n      <td>...</td>\n      <td>...</td>\n      <td>...</td>\n      <td>...</td>\n      <td>...</td>\n      <td>...</td>\n      <td>...</td>\n      <td>...</td>\n      <td>...</td>\n      <td>...</td>\n      <td>...</td>\n      <td>...</td>\n      <td>...</td>\n    </tr>\n    <tr>\n      <th>2024-03-11</th>\n      <td>2024-03-11 06:24:30</td>\n      <td>13.6</td>\n      <td>1.3</td>\n      <td>10.727</td>\n      <td>13.6</td>\n      <td>1.3</td>\n      <td>10.727</td>\n      <td>13.0</td>\n      <td>1.2</td>\n      <td>12.247</td>\n      <td>...</td>\n      <td>26.0</td>\n      <td>40.0</td>\n      <td>READY</td>\n      <td>False</td>\n      <td>NaN</td>\n      <td>NaN</td>\n      <td>NaN</td>\n      <td>NaN</td>\n      <td>NaN</td>\n      <td>NaN</td>\n    </tr>\n    <tr>\n      <th>2024-03-12</th>\n      <td>2024-03-12 09:01:30</td>\n      <td>13.0</td>\n      <td>0.9</td>\n      <td>11.367</td>\n      <td>13.0</td>\n      <td>0.9</td>\n      <td>11.367</td>\n      <td>11.4</td>\n      <td>0.8</td>\n      <td>9.491</td>\n      <td>...</td>\n      <td>26.0</td>\n      <td>40.0</td>\n      <td>READY</td>\n      <td>False</td>\n      <td>NaN</td>\n      <td>NaN</td>\n      <td>NaN</td>\n      <td>NaN</td>\n      <td>NaN</td>\n      <td>NaN</td>\n    </tr>\n    <tr>\n      <th>2024-03-13</th>\n      <td>2024-03-13 08:24:30</td>\n      <td>12.8</td>\n      <td>0.8</td>\n      <td>6.631</td>\n      <td>12.8</td>\n      <td>0.8</td>\n      <td>6.631</td>\n      <td>11.4</td>\n      <td>1.1</td>\n      <td>7.617</td>\n      <td>...</td>\n      <td>21.0</td>\n      <td>40.0</td>\n      <td>READY</td>\n      <td>False</td>\n      <td>NaN</td>\n      <td>NaN</td>\n      <td>NaN</td>\n      <td>NaN</td>\n      <td>NaN</td>\n      <td>NaN</td>\n    </tr>\n    <tr>\n      <th>2024-03-14</th>\n      <td>2024-03-14 08:27:30</td>\n      <td>14.0</td>\n      <td>1.2</td>\n      <td>10.598</td>\n      <td>14.0</td>\n      <td>1.2</td>\n      <td>10.598</td>\n      <td>11.0</td>\n      <td>1.1</td>\n      <td>8.234</td>\n      <td>...</td>\n      <td>31.0</td>\n      <td>40.0</td>\n      <td>READY</td>\n      <td>False</td>\n      <td>NaN</td>\n      <td>NaN</td>\n      <td>NaN</td>\n      <td>NaN</td>\n      <td>NaN</td>\n      <td>NaN</td>\n    </tr>\n    <tr>\n      <th>2024-03-15</th>\n      <td>2024-03-15 07:11:00</td>\n      <td>13.8</td>\n      <td>0.8</td>\n      <td>9.486</td>\n      <td>13.8</td>\n      <td>0.8</td>\n      <td>9.486</td>\n      <td>13.0</td>\n      <td>0.9</td>\n      <td>7.096</td>\n      <td>...</td>\n      <td>29.0</td>\n      <td>40.0</td>\n      <td>READY</td>\n      <td>False</td>\n      <td>NaN</td>\n      <td>NaN</td>\n      <td>NaN</td>\n      <td>NaN</td>\n      <td>NaN</td>\n      <td>NaN</td>\n    </tr>\n  </tbody>\n</table>\n<p>794 rows × 107 columns</p>\n</div>"
     },
     "execution_count": 13,
     "metadata": {},
     "output_type": "execute_result"
    }
   ],
   "source": [
    "df_final"
   ],
   "metadata": {
    "collapsed": false,
    "ExecuteTime": {
     "end_time": "2024-03-18T20:21:35.342171Z",
     "start_time": "2024-03-18T20:21:35.309170Z"
    }
   },
   "id": "15316273d2f9e8e",
   "execution_count": 13
  },
  {
   "cell_type": "code",
   "outputs": [],
   "source": [
    "df_final.to_pickle('../data/processed/pickle/fitbit_data_final.pkl')"
   ],
   "metadata": {
    "collapsed": false,
    "ExecuteTime": {
     "end_time": "2024-03-18T20:21:52.433769Z",
     "start_time": "2024-03-18T20:21:52.406770Z"
    }
   },
   "id": "8162a016eb4a1112",
   "execution_count": 14
  }
 ],
 "metadata": {
  "kernelspec": {
   "display_name": "Python 3",
   "language": "python",
   "name": "python3"
  },
  "language_info": {
   "codemirror_mode": {
    "name": "ipython",
    "version": 2
   },
   "file_extension": ".py",
   "mimetype": "text/x-python",
   "name": "python",
   "nbconvert_exporter": "python",
   "pygments_lexer": "ipython2",
   "version": "2.7.6"
  }
 },
 "nbformat": 4,
 "nbformat_minor": 5
}
