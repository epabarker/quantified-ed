{
 "cells": [
  {
   "cell_type": "markdown",
   "source": [
    "# Exploring Fitbit Data Export\n",
    "## Checking datatypes and import\n",
    "### Imports"
   ],
   "metadata": {
    "collapsed": false
   },
   "id": "30790b16d920ac2e"
  },
  {
   "cell_type": "code",
   "outputs": [],
   "source": [
    "import os\n",
    "import pandas as pd\n",
    "import json\n",
    "from csv import DictReader\n",
    "import numpy as np\n",
    "from scipy.interpolate import interp1d\n",
    "from scipy.signal import savgol_filter"
   ],
   "metadata": {
    "collapsed": true,
    "ExecuteTime": {
     "end_time": "2024-03-16T14:11:27.374944Z",
     "start_time": "2024-03-16T14:11:26.219738Z"
    }
   },
   "id": "initial_id",
   "execution_count": 1
  },
  {
   "cell_type": "markdown",
   "source": [
    "## Test functions"
   ],
   "metadata": {
    "collapsed": false
   },
   "id": "366225bf46428bc9"
  },
  {
   "cell_type": "code",
   "outputs": [],
   "source": [
    "import os\n",
    "import pandas as pd\n",
    "import json\n",
    "from csv import DictReader\n",
    "\n",
    "df_dict = {}\n",
    "path_dict = {\n",
    "    'profile': '../data/raw/Profile.csv',\n",
    "    'respiratory_rate': '../data/raw/breath/rr/rr_summary/',\n",
    "    'vo2_max': '../data/raw/breath/demographic_vo2max/',\n",
    "    'oxygen_variation': '../data/raw/breath/oxygen_variation/',\n",
    "    'spo2_daily': '../data/raw/breath/spo2/daily_spo2/',\n",
    "    'spo2_intraday': '../data/raw/breath/spo2/minute_spo2/',\n",
    "    'afib_ecg': '../data/raw/heart/afib_ecg/',\n",
    "    'heart_rate': '../data/raw/heart/hr/',\n",
    "    'hrv_summary': '../data/raw/heart/hrv/hrv_summary/',\n",
    "    'hrv_histogram': '../data/raw/heart/hrv/hrv_histogram/',\n",
    "    'hrv_details': '../data/raw/heart/hrv/hrv_details/',\n",
    "    'time_in_hr_zones': '../data/raw/heart/time_in_hr_zones/',\n",
    "    'sleep_profile': '../data/raw/sleep/Sleep Profile.csv',\n",
    "    'sleep_score': '../data/raw/sleep/sleep_score.csv',\n",
    "    'sleep_json': '../data/raw/sleep/json/',\n",
    "    'stress': '../data/raw/stress/Stress Score.csv',\n",
    "    'weight': '../data/raw/weight/'\n",
    "}\n",
    "\n",
    "\n",
    "# ================================ FUNCTIONS ================================\n",
    "def read_file(filename, directory=None, flatten=False):\n",
    "    filepath = os.path.join(directory, filename) if directory else filename\n",
    "    if filename.endswith('.csv'):\n",
    "        df = pd.read_csv(filepath)\n",
    "    elif filename.endswith('.json'):\n",
    "        with open(filepath, 'r') as file:\n",
    "            data = json.load(file)\n",
    "            df = pd.json_normalize(data)\n",
    "    else:\n",
    "        df = None\n",
    "    return df\n",
    "\n",
    "\n",
    "def fitbit_data_handler(path_string, flatten=False):\n",
    "    # If path is a directory, read all files in the directory\n",
    "    if os.path.isdir(path_string):\n",
    "        directory = path_string\n",
    "        dfs = []\n",
    "        for filename in os.listdir(directory):\n",
    "            df = read_file(filename, directory)\n",
    "            dfs.append(df)\n",
    "        dfs = pd.concat(dfs, ignore_index=True)\n",
    "        return dfs\n",
    "    else:  # Otherwise, just operate on one file\n",
    "        return read_file(filename=path_string)"
   ],
   "metadata": {
    "collapsed": false,
    "ExecuteTime": {
     "end_time": "2024-03-16T14:44:47.655154Z",
     "start_time": "2024-03-16T14:44:47.635155Z"
    }
   },
   "id": "802e8b40d230c41f",
   "execution_count": 127
  },
  {
   "cell_type": "code",
   "outputs": [],
   "source": [
    "for name,path in path_dict.items():\n",
    "    df_dict[name] = fitbit_data_handler(path)"
   ],
   "metadata": {
    "collapsed": false,
    "ExecuteTime": {
     "end_time": "2024-03-16T14:46:21.280577Z",
     "start_time": "2024-03-16T14:45:50.449730Z"
    }
   },
   "id": "3e9556f959017c09",
   "execution_count": 128
  },
  {
   "cell_type": "code",
   "outputs": [],
   "source": [
    "output_directory = '../data/processed/'\n",
    "for name,df in df_dict.items():\n",
    "    df.to_csv(f'{output_directory}{name}.csv', index=False)"
   ],
   "metadata": {
    "collapsed": false,
    "ExecuteTime": {
     "end_time": "2024-03-16T14:50:04.852133Z",
     "start_time": "2024-03-16T14:49:59.209999Z"
    }
   },
   "id": "c7a1a203e620640c",
   "execution_count": 134
  },
  {
   "cell_type": "code",
   "outputs": [],
   "source": [
    "def read_file(filename, directory=None, flatten=False):\n",
    "    filepath = os.path.join(directory, filename) if directory else filename\n",
    "    if filename.endswith('.csv'):\n",
    "        df = pd.read_csv(filepath)\n",
    "    elif filename.endswith('.json'):\n",
    "        with open(filepath, 'r') as file:\n",
    "            data = json.load(file)\n",
    "            df = pd.json_normalize(data)\n",
    "    else:\n",
    "        df = None\n",
    "    return df\n",
    "\n",
    "\n",
    "def fitbit_data_handler(path_string):\n",
    "    # If path is a directory, read all files in the directory\n",
    "    if os.path.isdir(path_string):\n",
    "        directory = path_string\n",
    "        dfs = []\n",
    "        for filename in os.listdir(directory):\n",
    "            df = read_file(filename, directory)\n",
    "            dfs.append(df)\n",
    "        dfs = pd.concat(dfs, ignore_index=True)\n",
    "        return dfs\n",
    "    else: # Otherwise, just operate on one file\n",
    "        return read_file(filename=path_string)"
   ],
   "metadata": {
    "collapsed": false,
    "ExecuteTime": {
     "end_time": "2024-03-16T14:33:13.287531Z",
     "start_time": "2024-03-16T14:33:13.275653Z"
    }
   },
   "id": "f8e6b1f4fafd036d",
   "execution_count": 83
  },
  {
   "cell_type": "code",
   "outputs": [],
   "source": [
    "profile = fitbit_data_handler(path_dict['profile'])"
   ],
   "metadata": {
    "collapsed": false,
    "ExecuteTime": {
     "end_time": "2024-03-16T14:33:14.609596Z",
     "start_time": "2024-03-16T14:33:14.598637Z"
    }
   },
   "id": "e934e7b88336bbe4",
   "execution_count": 84
  },
  {
   "cell_type": "code",
   "outputs": [],
   "source": [
    "rr_summary = fitbit_data_handler(path_dict['respiratory_rate'])"
   ],
   "metadata": {
    "collapsed": false,
    "ExecuteTime": {
     "end_time": "2024-03-16T14:33:27.306495Z",
     "start_time": "2024-03-16T14:33:27.261061Z"
    }
   },
   "id": "958718ee36da6930",
   "execution_count": 86
  },
  {
   "cell_type": "code",
   "outputs": [],
   "source": [
    "vo2_max = fitbit_data_handler(path_dict['vo2_max'])"
   ],
   "metadata": {
    "collapsed": false,
    "ExecuteTime": {
     "end_time": "2024-03-16T14:33:27.942992Z",
     "start_time": "2024-03-16T14:33:27.925245Z"
    }
   },
   "id": "7f6f68144ef5dc95",
   "execution_count": 87
  },
  {
   "cell_type": "code",
   "outputs": [],
   "source": [
    "ox_var = fitbit_data_handler(path_dict['oxygen_variation'])"
   ],
   "metadata": {
    "collapsed": false,
    "ExecuteTime": {
     "end_time": "2024-03-16T14:33:29.482783Z",
     "start_time": "2024-03-16T14:33:28.292901Z"
    }
   },
   "id": "dc8472f2934d6b63",
   "execution_count": 88
  },
  {
   "cell_type": "code",
   "outputs": [],
   "source": [
    "spo2_daily = fitbit_data_handler(path_dict['spo2_daily'])"
   ],
   "metadata": {
    "collapsed": false,
    "ExecuteTime": {
     "end_time": "2024-03-16T14:33:29.513487Z",
     "start_time": "2024-03-16T14:33:29.484924Z"
    }
   },
   "id": "81d68b7534df5270",
   "execution_count": 89
  },
  {
   "cell_type": "code",
   "outputs": [],
   "source": [
    "spo2_intraday = fitbit_data_handler(path_dict['spo2_intraday'])"
   ],
   "metadata": {
    "collapsed": false,
    "ExecuteTime": {
     "end_time": "2024-03-16T14:33:30.663783Z",
     "start_time": "2024-03-16T14:33:29.516910Z"
    }
   },
   "id": "3184a70e2e7daeeb",
   "execution_count": 90
  },
  {
   "cell_type": "code",
   "outputs": [],
   "source": [
    "afib_ecg = fitbit_data_handler(path_dict['afib_ecg'])"
   ],
   "metadata": {
    "collapsed": false,
    "ExecuteTime": {
     "end_time": "2024-03-16T14:33:30.679092Z",
     "start_time": "2024-03-16T14:33:30.666233Z"
    }
   },
   "id": "c61b9686c4df7257",
   "execution_count": 91
  },
  {
   "cell_type": "code",
   "outputs": [],
   "source": [
    "hr = fitbit_data_handler(path_dict['heart_rate'])"
   ],
   "metadata": {
    "collapsed": false,
    "ExecuteTime": {
     "end_time": "2024-03-16T14:33:59.900308Z",
     "start_time": "2024-03-16T14:33:30.681660Z"
    }
   },
   "id": "53418d1b603bd9da",
   "execution_count": 92
  },
  {
   "cell_type": "code",
   "outputs": [],
   "source": [
    "hrv_summary = fitbit_data_handler(path_dict['hrv_summary'])"
   ],
   "metadata": {
    "collapsed": false,
    "ExecuteTime": {
     "end_time": "2024-03-16T14:34:00.649276Z",
     "start_time": "2024-03-16T14:33:59.902449Z"
    }
   },
   "id": "78f4289a16e1680b",
   "execution_count": 93
  },
  {
   "cell_type": "code",
   "outputs": [],
   "source": [
    "hrv_histogram = fitbit_data_handler(path_dict['hrv_histogram'])"
   ],
   "metadata": {
    "collapsed": false,
    "ExecuteTime": {
     "end_time": "2024-03-16T14:34:00.697006Z",
     "start_time": "2024-03-16T14:34:00.650299Z"
    }
   },
   "id": "9d744298fbe71ec7",
   "execution_count": 94
  },
  {
   "cell_type": "code",
   "outputs": [],
   "source": [
    "hrv_details = fitbit_data_handler(path_dict['hrv_details'])"
   ],
   "metadata": {
    "collapsed": false,
    "ExecuteTime": {
     "end_time": "2024-03-16T14:34:01.508340Z",
     "start_time": "2024-03-16T14:34:00.699053Z"
    }
   },
   "id": "a7099763abd086fc",
   "execution_count": 95
  },
  {
   "cell_type": "code",
   "outputs": [],
   "source": [
    "time_in_hr_zones = fitbit_data_handler(path_dict['time_in_hr_zones'])"
   ],
   "metadata": {
    "collapsed": false,
    "ExecuteTime": {
     "end_time": "2024-03-16T14:34:01.916626Z",
     "start_time": "2024-03-16T14:34:01.513063Z"
    }
   },
   "id": "48663b7637c81987",
   "execution_count": 96
  },
  {
   "cell_type": "code",
   "outputs": [],
   "source": [
    "sleep_profile = fitbit_data_handler(path_dict['sleep_profile'])"
   ],
   "metadata": {
    "collapsed": false,
    "ExecuteTime": {
     "end_time": "2024-03-16T14:34:01.932308Z",
     "start_time": "2024-03-16T14:34:01.918773Z"
    }
   },
   "id": "4ac05e2ca5b0aa35",
   "execution_count": 97
  },
  {
   "cell_type": "code",
   "outputs": [],
   "source": [
    "sleep_score = fitbit_data_handler(path_dict['sleep_score'])"
   ],
   "metadata": {
    "collapsed": false,
    "ExecuteTime": {
     "end_time": "2024-03-16T14:28:49.309373Z",
     "start_time": "2024-03-16T14:28:49.299617Z"
    }
   },
   "id": "f1462578b6ed9c2d",
   "execution_count": 73
  },
  {
   "cell_type": "code",
   "outputs": [],
   "source": [
    "sleep_json = fitbit_data_handler(path_dict['sleep_json'])"
   ],
   "metadata": {
    "collapsed": false,
    "ExecuteTime": {
     "end_time": "2024-03-16T14:36:01.320700Z",
     "start_time": "2024-03-16T14:36:01.210803Z"
    }
   },
   "id": "1df89001980e5f90",
   "execution_count": 102
  },
  {
   "cell_type": "code",
   "outputs": [],
   "source": [
    "stress = fitbit_data_handler(path_dict['stress'])"
   ],
   "metadata": {
    "collapsed": false,
    "ExecuteTime": {
     "end_time": "2024-03-16T14:38:43.570682Z",
     "start_time": "2024-03-16T14:38:43.546858Z"
    }
   },
   "id": "f2f9a1f036e67098",
   "execution_count": 116
  },
  {
   "cell_type": "code",
   "outputs": [],
   "source": [
    "weight = fitbit_data_handler(path_dict['weight'])"
   ],
   "metadata": {
    "collapsed": false,
    "ExecuteTime": {
     "end_time": "2024-03-16T14:39:08.727404Z",
     "start_time": "2024-03-16T14:39:08.704406Z"
    }
   },
   "id": "e5265282fd62c15f",
   "execution_count": 120
  },
  {
   "cell_type": "markdown",
   "source": [
    "### Profile"
   ],
   "metadata": {
    "collapsed": false
   },
   "id": "ae70871fd741caf5"
  },
  {
   "cell_type": "code",
   "outputs": [],
   "source": [
    "with open ('../data/raw/Profile.csv', 'r') as file:\n",
    "    reader = DictReader(file)\n",
    "    profile = next(reader)"
   ],
   "metadata": {
    "collapsed": false
   },
   "id": "afbbeee07d1db296",
   "execution_count": null
  },
  {
   "cell_type": "code",
   "outputs": [],
   "source": [
    "profile"
   ],
   "metadata": {
    "collapsed": false
   },
   "id": "6a6980ad2c13547d",
   "execution_count": null
  },
  {
   "cell_type": "markdown",
   "source": [
    "### Breath\n",
    "#### Respiratory Rate\n",
    "##### Respiratory Rate Summary"
   ],
   "metadata": {
    "collapsed": false
   },
   "id": "8a2339eb7dba3f91"
  },
  {
   "cell_type": "code",
   "outputs": [],
   "source": [
    "rr_summary = []"
   ],
   "metadata": {
    "collapsed": false
   },
   "id": "746b6fc58f60a96e",
   "execution_count": null
  },
  {
   "cell_type": "code",
   "outputs": [],
   "source": [
    "directory_path = '../data/raw/breath/rr/rr_summary/'\n",
    "for filename in os.listdir(directory_path):\n",
    "    if filename.endswith('.csv'):\n",
    "        file_path = os.path.join(directory_path, filename)\n",
    "        temp_df = pd.read_csv(file_path)\n",
    "        rr_summary.append(temp_df)       \n",
    "rr_summary = pd.concat(rr_summary,ignore_index=True)"
   ],
   "metadata": {
    "collapsed": false
   },
   "id": "f16c013d7481ea7c",
   "execution_count": null
  },
  {
   "cell_type": "code",
   "outputs": [],
   "source": [
    "rr_summary"
   ],
   "metadata": {
    "collapsed": false
   },
   "id": "f019d4ebfd79ad8",
   "execution_count": null
  },
  {
   "cell_type": "markdown",
   "source": [
    "##### Respiratory Rate Daily Summary"
   ],
   "metadata": {
    "collapsed": false
   },
   "id": "9a3d5ec15687b517"
  },
  {
   "cell_type": "code",
   "outputs": [],
   "source": [
    "directory_path = '../data/raw/breath/rr/daily_rr_summary/'\n",
    "daily_rr_summary = []\n",
    "for filename in os.listdir(directory_path):\n",
    "    if filename.endswith('.csv'):\n",
    "        file_path = os.path.join(directory_path, filename)\n",
    "        temp_df = pd.read_csv(file_path)\n",
    "        daily_rr_summary.append(temp_df)\n",
    "daily_rr_summary = pd.concat(daily_rr_summary,ignore_index=True)"
   ],
   "metadata": {
    "collapsed": false
   },
   "id": "a1e33ef5a03b28b",
   "execution_count": null
  },
  {
   "cell_type": "code",
   "outputs": [],
   "source": [
    "daily_rr_summary"
   ],
   "metadata": {
    "collapsed": false
   },
   "id": "b486a975383c1681",
   "execution_count": null
  },
  {
   "cell_type": "markdown",
   "source": [
    "#### Demographic VO2 Max"
   ],
   "metadata": {
    "collapsed": false
   },
   "id": "97da718f3c3430d1"
  },
  {
   "cell_type": "code",
   "outputs": [],
   "source": [
    "directory_path = '../data/raw/breath/demographic_vo2max/'"
   ],
   "metadata": {
    "collapsed": false,
    "ExecuteTime": {
     "end_time": "2024-03-16T14:18:23.726175Z",
     "start_time": "2024-03-16T14:18:23.714298Z"
    }
   },
   "id": "31da47b9a97ec063",
   "execution_count": 22
  },
  {
   "cell_type": "code",
   "outputs": [],
   "source": [
    "dem_vo2_max = []\n",
    "for filename in os.listdir(directory_path):\n",
    "    if filename.endswith('.json'):\n",
    "        file_path = os.path.join(directory_path, filename)\n",
    "        with open(file_path,'r') as file:\n",
    "            temp_df = pd.DataFrame(json.load(file))\n",
    "        value_df = temp_df['value'].apply(pd.Series)\n",
    "        result_df = pd.concat([temp_df, value_df], axis=1).drop('value', axis=1)\n",
    "        dem_vo2_max.append(result_df)\n",
    "        \n",
    "dem_vo2_max = pd.concat(dem_vo2_max,ignore_index=True)"
   ],
   "metadata": {
    "collapsed": false,
    "ExecuteTime": {
     "end_time": "2024-03-16T14:18:24.180445Z",
     "start_time": "2024-03-16T14:18:24.019875Z"
    }
   },
   "id": "39254cc2d3767ece",
   "execution_count": 23
  },
  {
   "cell_type": "code",
   "outputs": [
    {
     "data": {
      "text/plain": "              dateTime  demographicVO2Max  demographicVO2MaxError  \\\n0    01/13/22 00:00:00           46.16596                     3.0   \n1    01/14/22 00:00:00           46.45953                     3.0   \n2    01/15/22 00:00:00           45.66477                     3.0   \n3    01/16/22 00:00:00           46.29315                     3.0   \n4    01/17/22 00:00:00           46.18243                     3.0   \n..                 ...                ...                     ...   \n769  03/11/24 00:00:00           39.05311                     3.0   \n770  03/12/24 00:00:00           39.39203                     3.0   \n771  03/13/24 00:00:00           39.95355                     3.0   \n772  03/14/24 00:00:00           39.46535                     3.0   \n773  03/15/24 00:00:00           39.71797                     3.0   \n\n     filteredDemographicVO2Max  filteredDemographicVO2MaxError  \n0                     46.16596                         3.00000  \n1                     46.31396                         1.51239  \n2                     46.09164                         1.02734  \n3                     46.14488                         0.79267  \n4                     46.15311                         0.65787  \n..                         ...                             ...  \n769                   38.96958                         0.36310  \n770                   39.02071                         0.36310  \n771                   39.13361                         0.36310  \n772                   39.17376                         0.36310  \n773                   39.23962                         0.36310  \n\n[774 rows x 5 columns]",
      "text/html": "<div>\n<style scoped>\n    .dataframe tbody tr th:only-of-type {\n        vertical-align: middle;\n    }\n\n    .dataframe tbody tr th {\n        vertical-align: top;\n    }\n\n    .dataframe thead th {\n        text-align: right;\n    }\n</style>\n<table border=\"1\" class=\"dataframe\">\n  <thead>\n    <tr style=\"text-align: right;\">\n      <th></th>\n      <th>dateTime</th>\n      <th>demographicVO2Max</th>\n      <th>demographicVO2MaxError</th>\n      <th>filteredDemographicVO2Max</th>\n      <th>filteredDemographicVO2MaxError</th>\n    </tr>\n  </thead>\n  <tbody>\n    <tr>\n      <th>0</th>\n      <td>01/13/22 00:00:00</td>\n      <td>46.16596</td>\n      <td>3.0</td>\n      <td>46.16596</td>\n      <td>3.00000</td>\n    </tr>\n    <tr>\n      <th>1</th>\n      <td>01/14/22 00:00:00</td>\n      <td>46.45953</td>\n      <td>3.0</td>\n      <td>46.31396</td>\n      <td>1.51239</td>\n    </tr>\n    <tr>\n      <th>2</th>\n      <td>01/15/22 00:00:00</td>\n      <td>45.66477</td>\n      <td>3.0</td>\n      <td>46.09164</td>\n      <td>1.02734</td>\n    </tr>\n    <tr>\n      <th>3</th>\n      <td>01/16/22 00:00:00</td>\n      <td>46.29315</td>\n      <td>3.0</td>\n      <td>46.14488</td>\n      <td>0.79267</td>\n    </tr>\n    <tr>\n      <th>4</th>\n      <td>01/17/22 00:00:00</td>\n      <td>46.18243</td>\n      <td>3.0</td>\n      <td>46.15311</td>\n      <td>0.65787</td>\n    </tr>\n    <tr>\n      <th>...</th>\n      <td>...</td>\n      <td>...</td>\n      <td>...</td>\n      <td>...</td>\n      <td>...</td>\n    </tr>\n    <tr>\n      <th>769</th>\n      <td>03/11/24 00:00:00</td>\n      <td>39.05311</td>\n      <td>3.0</td>\n      <td>38.96958</td>\n      <td>0.36310</td>\n    </tr>\n    <tr>\n      <th>770</th>\n      <td>03/12/24 00:00:00</td>\n      <td>39.39203</td>\n      <td>3.0</td>\n      <td>39.02071</td>\n      <td>0.36310</td>\n    </tr>\n    <tr>\n      <th>771</th>\n      <td>03/13/24 00:00:00</td>\n      <td>39.95355</td>\n      <td>3.0</td>\n      <td>39.13361</td>\n      <td>0.36310</td>\n    </tr>\n    <tr>\n      <th>772</th>\n      <td>03/14/24 00:00:00</td>\n      <td>39.46535</td>\n      <td>3.0</td>\n      <td>39.17376</td>\n      <td>0.36310</td>\n    </tr>\n    <tr>\n      <th>773</th>\n      <td>03/15/24 00:00:00</td>\n      <td>39.71797</td>\n      <td>3.0</td>\n      <td>39.23962</td>\n      <td>0.36310</td>\n    </tr>\n  </tbody>\n</table>\n<p>774 rows × 5 columns</p>\n</div>"
     },
     "execution_count": 25,
     "metadata": {},
     "output_type": "execute_result"
    }
   ],
   "source": [
    "dem_vo2_max"
   ],
   "metadata": {
    "collapsed": false,
    "ExecuteTime": {
     "end_time": "2024-03-16T14:18:41.117560Z",
     "start_time": "2024-03-16T14:18:41.095230Z"
    }
   },
   "id": "727d236d3aa5e917",
   "execution_count": 25
  },
  {
   "cell_type": "markdown",
   "source": [
    "#### Oxygen Variation"
   ],
   "metadata": {
    "collapsed": false
   },
   "id": "1ca9a93ccc15e584"
  },
  {
   "cell_type": "code",
   "outputs": [],
   "source": [
    "file_path = '../data/raw/breath/oxygen_variation/estimated_oxygen_variation-2022-01-13.csv'\n",
    "test = pd.read_csv(file_path)"
   ],
   "metadata": {
    "collapsed": false
   },
   "id": "ba716c678654706b",
   "execution_count": null
  },
  {
   "cell_type": "code",
   "outputs": [],
   "source": [],
   "metadata": {
    "collapsed": false
   },
   "id": "5b9563d92e48082b",
   "execution_count": null
  },
  {
   "cell_type": "code",
   "outputs": [],
   "source": [
    "ox_var = []\n",
    "directory = path_dict['oxygen_variation']\n",
    "for filename in os.listdir(directory):\n",
    "    if filename.endswith('.csv'):\n",
    "        file_path = os.path.join(directory, filename)\n",
    "        temp_df = pd.read_csv(file_path)\n",
    "        ox_var.append(temp_df)\n",
    "ox_var = pd.concat(ox_var,ignore_index=True)"
   ],
   "metadata": {
    "collapsed": false,
    "ExecuteTime": {
     "end_time": "2024-03-16T14:21:32.703129Z",
     "start_time": "2024-03-16T14:21:31.879443Z"
    }
   },
   "id": "f5b349888c44e9b",
   "execution_count": 32
  },
  {
   "cell_type": "code",
   "outputs": [
    {
     "data": {
      "text/plain": "                timestamp  Infrared to Red Signal Ratio\n0       01/12/22 15:09:00                             0\n1       01/12/22 15:10:00                             3\n2       01/12/22 15:11:00                            21\n3       01/12/22 15:12:00                             6\n4       01/12/22 15:13:00                            -3\n...                   ...                           ...\n340348  03/14/24 08:59:34                            27\n340349  03/14/24 09:00:34                            -4\n340350  03/14/24 09:01:34                             0\n340351  03/14/24 09:02:34                             0\n340352  03/14/24 09:03:34                             0\n\n[340353 rows x 2 columns]",
      "text/html": "<div>\n<style scoped>\n    .dataframe tbody tr th:only-of-type {\n        vertical-align: middle;\n    }\n\n    .dataframe tbody tr th {\n        vertical-align: top;\n    }\n\n    .dataframe thead th {\n        text-align: right;\n    }\n</style>\n<table border=\"1\" class=\"dataframe\">\n  <thead>\n    <tr style=\"text-align: right;\">\n      <th></th>\n      <th>timestamp</th>\n      <th>Infrared to Red Signal Ratio</th>\n    </tr>\n  </thead>\n  <tbody>\n    <tr>\n      <th>0</th>\n      <td>01/12/22 15:09:00</td>\n      <td>0</td>\n    </tr>\n    <tr>\n      <th>1</th>\n      <td>01/12/22 15:10:00</td>\n      <td>3</td>\n    </tr>\n    <tr>\n      <th>2</th>\n      <td>01/12/22 15:11:00</td>\n      <td>21</td>\n    </tr>\n    <tr>\n      <th>3</th>\n      <td>01/12/22 15:12:00</td>\n      <td>6</td>\n    </tr>\n    <tr>\n      <th>4</th>\n      <td>01/12/22 15:13:00</td>\n      <td>-3</td>\n    </tr>\n    <tr>\n      <th>...</th>\n      <td>...</td>\n      <td>...</td>\n    </tr>\n    <tr>\n      <th>340348</th>\n      <td>03/14/24 08:59:34</td>\n      <td>27</td>\n    </tr>\n    <tr>\n      <th>340349</th>\n      <td>03/14/24 09:00:34</td>\n      <td>-4</td>\n    </tr>\n    <tr>\n      <th>340350</th>\n      <td>03/14/24 09:01:34</td>\n      <td>0</td>\n    </tr>\n    <tr>\n      <th>340351</th>\n      <td>03/14/24 09:02:34</td>\n      <td>0</td>\n    </tr>\n    <tr>\n      <th>340352</th>\n      <td>03/14/24 09:03:34</td>\n      <td>0</td>\n    </tr>\n  </tbody>\n</table>\n<p>340353 rows × 2 columns</p>\n</div>"
     },
     "execution_count": 33,
     "metadata": {},
     "output_type": "execute_result"
    }
   ],
   "source": [
    "ox_var"
   ],
   "metadata": {
    "collapsed": false,
    "ExecuteTime": {
     "end_time": "2024-03-16T14:21:37.889832Z",
     "start_time": "2024-03-16T14:21:37.866068Z"
    }
   },
   "id": "dfdb0a9bd7f84821",
   "execution_count": 33
  },
  {
   "cell_type": "code",
   "outputs": [],
   "source": [
    "directory_path = '../data/raw/breath/oxygen_variation/'\n",
    "ox_var = pd.DataFrame()\n",
    "for filename in os.listdir(directory_path):\n",
    "    if filename.endswith('.csv'):\n",
    "        file_path = os.path.join(directory_path, filename)\n",
    "        temp_df = pd.read_csv(file_path)\n",
    "        ox_var = pd.concat([ox_var, temp_df])"
   ],
   "metadata": {
    "collapsed": false
   },
   "id": "2b185ffde3293d5",
   "execution_count": null
  },
  {
   "cell_type": "code",
   "outputs": [],
   "source": [
    "ox_var "
   ],
   "metadata": {
    "collapsed": false
   },
   "id": "fef67bc66d5fcf18",
   "execution_count": null
  },
  {
   "cell_type": "markdown",
   "source": [
    "#### SpO2\n",
    "##### SpO2 Daily  "
   ],
   "metadata": {
    "collapsed": false
   },
   "id": "bcdbd2dc41c7050f"
  },
  {
   "cell_type": "code",
   "outputs": [],
   "source": [
    "directory_path = '../data/raw/breath/spo2/daily_spo2/'\n",
    "spo2_daily = pd.DataFrame()\n",
    "for filename in os.listdir(directory_path):\n",
    "    if filename.endswith('.csv'):\n",
    "        file_path = os.path.join(directory_path, filename)\n",
    "        temp_df = pd.read_csv(file_path)\n",
    "        spo2_daily = pd.concat([spo2_daily, temp_df])"
   ],
   "metadata": {
    "collapsed": false,
    "ExecuteTime": {
     "end_time": "2024-03-16T14:22:12.290678Z",
     "start_time": "2024-03-16T14:22:12.259768Z"
    }
   },
   "id": "99da439d2612d897",
   "execution_count": 36
  },
  {
   "cell_type": "code",
   "outputs": [
    {
     "data": {
      "text/plain": "               timestamp  average_value  lower_bound  upper_bound\n0   2022-01-21T00:00:00Z           96.5         93.0         99.6\n1   2022-01-22T00:00:00Z           96.0         93.5         99.5\n2   2022-01-23T00:00:00Z           96.9         94.3         99.9\n3   2022-01-24T00:00:00Z           95.9         93.9         98.8\n4   2022-01-25T00:00:00Z           95.3         91.0         98.0\n..                   ...            ...          ...          ...\n82  2024-03-11T00:00:00Z           96.2         92.4         99.1\n83  2024-03-12T00:00:00Z           96.2         92.4         99.0\n84  2024-03-13T00:00:00Z           95.4         93.6         99.0\n85  2024-03-14T00:00:00Z           96.0         92.0         99.5\n86  2024-03-15T00:00:00Z           96.3         93.8         99.9\n\n[667 rows x 4 columns]",
      "text/html": "<div>\n<style scoped>\n    .dataframe tbody tr th:only-of-type {\n        vertical-align: middle;\n    }\n\n    .dataframe tbody tr th {\n        vertical-align: top;\n    }\n\n    .dataframe thead th {\n        text-align: right;\n    }\n</style>\n<table border=\"1\" class=\"dataframe\">\n  <thead>\n    <tr style=\"text-align: right;\">\n      <th></th>\n      <th>timestamp</th>\n      <th>average_value</th>\n      <th>lower_bound</th>\n      <th>upper_bound</th>\n    </tr>\n  </thead>\n  <tbody>\n    <tr>\n      <th>0</th>\n      <td>2022-01-21T00:00:00Z</td>\n      <td>96.5</td>\n      <td>93.0</td>\n      <td>99.6</td>\n    </tr>\n    <tr>\n      <th>1</th>\n      <td>2022-01-22T00:00:00Z</td>\n      <td>96.0</td>\n      <td>93.5</td>\n      <td>99.5</td>\n    </tr>\n    <tr>\n      <th>2</th>\n      <td>2022-01-23T00:00:00Z</td>\n      <td>96.9</td>\n      <td>94.3</td>\n      <td>99.9</td>\n    </tr>\n    <tr>\n      <th>3</th>\n      <td>2022-01-24T00:00:00Z</td>\n      <td>95.9</td>\n      <td>93.9</td>\n      <td>98.8</td>\n    </tr>\n    <tr>\n      <th>4</th>\n      <td>2022-01-25T00:00:00Z</td>\n      <td>95.3</td>\n      <td>91.0</td>\n      <td>98.0</td>\n    </tr>\n    <tr>\n      <th>...</th>\n      <td>...</td>\n      <td>...</td>\n      <td>...</td>\n      <td>...</td>\n    </tr>\n    <tr>\n      <th>82</th>\n      <td>2024-03-11T00:00:00Z</td>\n      <td>96.2</td>\n      <td>92.4</td>\n      <td>99.1</td>\n    </tr>\n    <tr>\n      <th>83</th>\n      <td>2024-03-12T00:00:00Z</td>\n      <td>96.2</td>\n      <td>92.4</td>\n      <td>99.0</td>\n    </tr>\n    <tr>\n      <th>84</th>\n      <td>2024-03-13T00:00:00Z</td>\n      <td>95.4</td>\n      <td>93.6</td>\n      <td>99.0</td>\n    </tr>\n    <tr>\n      <th>85</th>\n      <td>2024-03-14T00:00:00Z</td>\n      <td>96.0</td>\n      <td>92.0</td>\n      <td>99.5</td>\n    </tr>\n    <tr>\n      <th>86</th>\n      <td>2024-03-15T00:00:00Z</td>\n      <td>96.3</td>\n      <td>93.8</td>\n      <td>99.9</td>\n    </tr>\n  </tbody>\n</table>\n<p>667 rows × 4 columns</p>\n</div>"
     },
     "execution_count": 37,
     "metadata": {},
     "output_type": "execute_result"
    }
   ],
   "source": [
    "spo2_daily"
   ],
   "metadata": {
    "collapsed": false,
    "ExecuteTime": {
     "end_time": "2024-03-16T14:22:12.631347Z",
     "start_time": "2024-03-16T14:22:12.611906Z"
    }
   },
   "id": "90da12b36b2a3bb5",
   "execution_count": 37
  },
  {
   "cell_type": "markdown",
   "source": [
    "##### SpO2 Intraday"
   ],
   "metadata": {
    "collapsed": false
   },
   "id": "1246bc8e73ee8fa6"
  },
  {
   "cell_type": "code",
   "outputs": [],
   "source": [
    "directory_path = '../data/raw/breath/spo2/minute_spo2/'\n",
    "spo2_intraday = pd.DataFrame()\n",
    "for filename in os.listdir(directory_path):\n",
    "    if filename.endswith('.csv'):\n",
    "        file_path = os.path.join(directory_path, filename)\n",
    "        temp_df = pd.read_csv(file_path)\n",
    "        spo2_intraday = pd.concat([spo2_intraday, temp_df])"
   ],
   "metadata": {
    "collapsed": false,
    "ExecuteTime": {
     "end_time": "2024-03-16T14:22:44.070716Z",
     "start_time": "2024-03-16T14:22:40.016812Z"
    }
   },
   "id": "6b295704bfb1e639",
   "execution_count": 40
  },
  {
   "cell_type": "code",
   "outputs": [
    {
     "data": {
      "text/plain": "                timestamp  value\n0    2022-01-20T22:24:00Z   94.6\n1    2022-01-20T22:25:00Z   94.5\n2    2022-01-20T22:26:00Z   94.5\n3    2022-01-20T22:27:00Z   94.4\n4    2022-01-20T22:28:00Z   94.3\n..                    ...    ...\n433  2024-03-15T07:43:36Z   87.0\n434  2024-03-15T07:44:36Z   87.8\n435  2024-03-15T07:45:36Z   88.1\n436  2024-03-15T07:46:36Z   89.9\n437  2024-03-15T07:47:36Z   90.0\n\n[324775 rows x 2 columns]",
      "text/html": "<div>\n<style scoped>\n    .dataframe tbody tr th:only-of-type {\n        vertical-align: middle;\n    }\n\n    .dataframe tbody tr th {\n        vertical-align: top;\n    }\n\n    .dataframe thead th {\n        text-align: right;\n    }\n</style>\n<table border=\"1\" class=\"dataframe\">\n  <thead>\n    <tr style=\"text-align: right;\">\n      <th></th>\n      <th>timestamp</th>\n      <th>value</th>\n    </tr>\n  </thead>\n  <tbody>\n    <tr>\n      <th>0</th>\n      <td>2022-01-20T22:24:00Z</td>\n      <td>94.6</td>\n    </tr>\n    <tr>\n      <th>1</th>\n      <td>2022-01-20T22:25:00Z</td>\n      <td>94.5</td>\n    </tr>\n    <tr>\n      <th>2</th>\n      <td>2022-01-20T22:26:00Z</td>\n      <td>94.5</td>\n    </tr>\n    <tr>\n      <th>3</th>\n      <td>2022-01-20T22:27:00Z</td>\n      <td>94.4</td>\n    </tr>\n    <tr>\n      <th>4</th>\n      <td>2022-01-20T22:28:00Z</td>\n      <td>94.3</td>\n    </tr>\n    <tr>\n      <th>...</th>\n      <td>...</td>\n      <td>...</td>\n    </tr>\n    <tr>\n      <th>433</th>\n      <td>2024-03-15T07:43:36Z</td>\n      <td>87.0</td>\n    </tr>\n    <tr>\n      <th>434</th>\n      <td>2024-03-15T07:44:36Z</td>\n      <td>87.8</td>\n    </tr>\n    <tr>\n      <th>435</th>\n      <td>2024-03-15T07:45:36Z</td>\n      <td>88.1</td>\n    </tr>\n    <tr>\n      <th>436</th>\n      <td>2024-03-15T07:46:36Z</td>\n      <td>89.9</td>\n    </tr>\n    <tr>\n      <th>437</th>\n      <td>2024-03-15T07:47:36Z</td>\n      <td>90.0</td>\n    </tr>\n  </tbody>\n</table>\n<p>324775 rows × 2 columns</p>\n</div>"
     },
     "execution_count": 41,
     "metadata": {},
     "output_type": "execute_result"
    }
   ],
   "source": [
    "spo2_intraday"
   ],
   "metadata": {
    "collapsed": false,
    "ExecuteTime": {
     "end_time": "2024-03-16T14:22:44.085958Z",
     "start_time": "2024-03-16T14:22:44.072874Z"
    }
   },
   "id": "6acbc3228bdde225",
   "execution_count": 41
  },
  {
   "cell_type": "markdown",
   "source": [
    "### Heart\n",
    "#### afib_ecg"
   ],
   "metadata": {
    "collapsed": false
   },
   "id": "722009f35b7c5584"
  },
  {
   "cell_type": "code",
   "outputs": [],
   "source": [
    "file_path = '../data/raw/heart/afib_ecg/afib_ecg_reading_1645266183831.csv'\n",
    "afib_ecg = pd.read_csv(file_path)"
   ],
   "metadata": {
    "collapsed": false,
    "ExecuteTime": {
     "end_time": "2024-03-16T14:23:07.163967Z",
     "start_time": "2024-03-16T14:23:07.153326Z"
    }
   },
   "id": "1743e9ed62532977",
   "execution_count": 44
  },
  {
   "cell_type": "code",
   "outputs": [
    {
     "data": {
      "text/plain": "                             reading_id                  reading_time  \\\n0  ebfcaa70-916d-11ec-8080-808080808080  Sat Feb 19 10:23:03 UTC 2022   \n\n        wire_id result_classification  heart_rate heart_rate_alert  \\\n0  89585e84472c                   NSR          91             NONE   \n\n  firmware_version device_app_version hardware_version  \\\n0         128.6.12              2.9.0            Sense   \n\n                                    waveform_samples  \n0  [-32768  -32768  -32768  -32768  -32768  -3276...  ",
      "text/html": "<div>\n<style scoped>\n    .dataframe tbody tr th:only-of-type {\n        vertical-align: middle;\n    }\n\n    .dataframe tbody tr th {\n        vertical-align: top;\n    }\n\n    .dataframe thead th {\n        text-align: right;\n    }\n</style>\n<table border=\"1\" class=\"dataframe\">\n  <thead>\n    <tr style=\"text-align: right;\">\n      <th></th>\n      <th>reading_id</th>\n      <th>reading_time</th>\n      <th>wire_id</th>\n      <th>result_classification</th>\n      <th>heart_rate</th>\n      <th>heart_rate_alert</th>\n      <th>firmware_version</th>\n      <th>device_app_version</th>\n      <th>hardware_version</th>\n      <th>waveform_samples</th>\n    </tr>\n  </thead>\n  <tbody>\n    <tr>\n      <th>0</th>\n      <td>ebfcaa70-916d-11ec-8080-808080808080</td>\n      <td>Sat Feb 19 10:23:03 UTC 2022</td>\n      <td>89585e84472c</td>\n      <td>NSR</td>\n      <td>91</td>\n      <td>NONE</td>\n      <td>128.6.12</td>\n      <td>2.9.0</td>\n      <td>Sense</td>\n      <td>[-32768  -32768  -32768  -32768  -32768  -3276...</td>\n    </tr>\n  </tbody>\n</table>\n</div>"
     },
     "execution_count": 45,
     "metadata": {},
     "output_type": "execute_result"
    }
   ],
   "source": [
    "afib_ecg"
   ],
   "metadata": {
    "collapsed": false,
    "ExecuteTime": {
     "end_time": "2024-03-16T14:23:07.460822Z",
     "start_time": "2024-03-16T14:23:07.440302Z"
    }
   },
   "id": "e30d94faad18a5cb",
   "execution_count": 45
  },
  {
   "cell_type": "markdown",
   "source": [
    "#### Heart Rate"
   ],
   "metadata": {
    "collapsed": false
   },
   "id": "9e17e830202450c3"
  },
  {
   "cell_type": "code",
   "outputs": [],
   "source": [
    "directory_path = '../data/raw/heart/hr/'\n",
    "hr_dfs = []\n",
    "for filename in os.listdir(directory_path):\n",
    "    if filename.endswith('.json'):\n",
    "        file_path = os.path.join(directory_path, filename)\n",
    "        with open(file_path, 'r') as file:\n",
    "            data = json.load(file)\n",
    "            temp_df = pd.json_normalize(data)\n",
    "            hr_dfs.append(temp_df)\n",
    "\n",
    "hr_df = pd.concat(hr_dfs,ignore_index=True)"
   ],
   "metadata": {
    "collapsed": false,
    "ExecuteTime": {
     "end_time": "2024-03-16T14:24:32.667584Z",
     "start_time": "2024-03-16T14:24:07.642757Z"
    }
   },
   "id": "56301df871b7bf8e",
   "execution_count": 48
  },
  {
   "cell_type": "code",
   "outputs": [],
   "source": [
    "hr_df['dateTime'] = pd.to_datetime(hr_df['dateTime'],format='%m/%d/%y %H:%M:%S')"
   ],
   "metadata": {
    "collapsed": false
   },
   "id": "8ff071d19eb487f8",
   "execution_count": null
  },
  {
   "cell_type": "code",
   "outputs": [],
   "source": [
    "hr_df.drop(columns=['value.confidence'], axis=1, inplace=True)"
   ],
   "metadata": {
    "collapsed": false
   },
   "id": "e8a1371a20625485",
   "execution_count": null
  },
  {
   "cell_type": "code",
   "outputs": [],
   "source": [
    "hr_df.rename(columns={'dateTime':'dateTime', 'value.bpm':'bpm'}, inplace=True)"
   ],
   "metadata": {
    "collapsed": false
   },
   "id": "a031583965b5c66",
   "execution_count": null
  },
  {
   "cell_type": "code",
   "outputs": [],
   "source": [
    "hr_df.set_index('dateTime', inplace=True)"
   ],
   "metadata": {
    "collapsed": false
   },
   "id": "a0043364db2dabb5",
   "execution_count": null
  },
  {
   "cell_type": "code",
   "outputs": [],
   "source": [
    "resampled = hr_df['bpm'].resample('1T').mean()"
   ],
   "metadata": {
    "collapsed": false
   },
   "id": "b12f856aa2cf2750",
   "execution_count": null
  },
  {
   "cell_type": "code",
   "outputs": [],
   "source": [
    "resampled.index.dtype"
   ],
   "metadata": {
    "collapsed": false
   },
   "id": "aa3ca9611edc85fa",
   "execution_count": null
  },
  {
   "cell_type": "code",
   "outputs": [],
   "source": [
    "resampled = pd.DataFrame(resampled)"
   ],
   "metadata": {
    "collapsed": false
   },
   "id": "8b62da8d24ace1b3",
   "execution_count": null
  },
  {
   "cell_type": "code",
   "outputs": [],
   "source": [
    "resampled['time'] = resampled.index.time\n",
    "resampled['date'] = resampled.index.date"
   ],
   "metadata": {
    "collapsed": false
   },
   "id": "db9c22f3af324613",
   "execution_count": null
  },
  {
   "cell_type": "code",
   "outputs": [],
   "source": [
    "resampled.reset_index(inplace=True)"
   ],
   "metadata": {
    "collapsed": false
   },
   "id": "1641235cd5bcef8e",
   "execution_count": null
  },
  {
   "cell_type": "code",
   "outputs": [],
   "source": [
    "resampled.drop(columns='dateTime', inplace=True)"
   ],
   "metadata": {
    "collapsed": false
   },
   "id": "bc53e59412d8c5ef",
   "execution_count": null
  },
  {
   "cell_type": "code",
   "outputs": [],
   "source": [
    "resampled.head()"
   ],
   "metadata": {
    "collapsed": false
   },
   "id": "f179294dabd41d4e",
   "execution_count": null
  },
  {
   "cell_type": "markdown",
   "source": [
    "#### Heart Rate Variability\n",
    "##### Heart Rate Variability Summary"
   ],
   "metadata": {
    "collapsed": false
   },
   "id": "7b9a9fe369fbd06b"
  },
  {
   "cell_type": "code",
   "outputs": [],
   "source": [
    "directory_path = '../data/raw/heart/hrv/hrv_summary/'\n",
    "hrv_summary_dfs = []\n",
    "for filename in os.listdir(directory_path):\n",
    "    if filename.endswith('.csv'):\n",
    "        file_path = os.path.join(directory_path, filename)\n",
    "        temp_df = pd.read_csv(file_path)\n",
    "        hrv_summary_dfs.append(temp_df)\n",
    "\n",
    "hrv_summary_dfs = pd.concat(hrv_summary_dfs,ignore_index=True)"
   ],
   "metadata": {
    "collapsed": false,
    "ExecuteTime": {
     "end_time": "2024-03-16T14:27:22.080341Z",
     "start_time": "2024-03-16T14:27:21.352259Z"
    }
   },
   "id": "bebb07caccb2daeb",
   "execution_count": 58
  },
  {
   "cell_type": "code",
   "outputs": [
    {
     "data": {
      "text/plain": "               timestamp   rmssd  nremhr  entropy\n0    2022-01-13T00:00:00  29.417  64.817    2.503\n1    2022-01-14T00:00:00  30.302  59.501    2.313\n2    2022-01-15T00:00:00  25.009  69.301    2.297\n3    2022-01-16T00:00:00  37.679  62.529    3.064\n4    2022-01-18T00:00:00  36.585  59.704    2.792\n..                   ...     ...     ...      ...\n669  2024-03-10T00:00:00  29.268  62.102    2.637\n670  2024-03-11T00:00:00  32.552  65.019    2.293\n671  2024-03-12T00:00:00  24.510  65.442    2.344\n672  2024-03-13T00:00:00  26.532  62.264    2.564\n673  2024-03-14T00:00:00  12.000  79.192    2.802\n\n[674 rows x 4 columns]",
      "text/html": "<div>\n<style scoped>\n    .dataframe tbody tr th:only-of-type {\n        vertical-align: middle;\n    }\n\n    .dataframe tbody tr th {\n        vertical-align: top;\n    }\n\n    .dataframe thead th {\n        text-align: right;\n    }\n</style>\n<table border=\"1\" class=\"dataframe\">\n  <thead>\n    <tr style=\"text-align: right;\">\n      <th></th>\n      <th>timestamp</th>\n      <th>rmssd</th>\n      <th>nremhr</th>\n      <th>entropy</th>\n    </tr>\n  </thead>\n  <tbody>\n    <tr>\n      <th>0</th>\n      <td>2022-01-13T00:00:00</td>\n      <td>29.417</td>\n      <td>64.817</td>\n      <td>2.503</td>\n    </tr>\n    <tr>\n      <th>1</th>\n      <td>2022-01-14T00:00:00</td>\n      <td>30.302</td>\n      <td>59.501</td>\n      <td>2.313</td>\n    </tr>\n    <tr>\n      <th>2</th>\n      <td>2022-01-15T00:00:00</td>\n      <td>25.009</td>\n      <td>69.301</td>\n      <td>2.297</td>\n    </tr>\n    <tr>\n      <th>3</th>\n      <td>2022-01-16T00:00:00</td>\n      <td>37.679</td>\n      <td>62.529</td>\n      <td>3.064</td>\n    </tr>\n    <tr>\n      <th>4</th>\n      <td>2022-01-18T00:00:00</td>\n      <td>36.585</td>\n      <td>59.704</td>\n      <td>2.792</td>\n    </tr>\n    <tr>\n      <th>...</th>\n      <td>...</td>\n      <td>...</td>\n      <td>...</td>\n      <td>...</td>\n    </tr>\n    <tr>\n      <th>669</th>\n      <td>2024-03-10T00:00:00</td>\n      <td>29.268</td>\n      <td>62.102</td>\n      <td>2.637</td>\n    </tr>\n    <tr>\n      <th>670</th>\n      <td>2024-03-11T00:00:00</td>\n      <td>32.552</td>\n      <td>65.019</td>\n      <td>2.293</td>\n    </tr>\n    <tr>\n      <th>671</th>\n      <td>2024-03-12T00:00:00</td>\n      <td>24.510</td>\n      <td>65.442</td>\n      <td>2.344</td>\n    </tr>\n    <tr>\n      <th>672</th>\n      <td>2024-03-13T00:00:00</td>\n      <td>26.532</td>\n      <td>62.264</td>\n      <td>2.564</td>\n    </tr>\n    <tr>\n      <th>673</th>\n      <td>2024-03-14T00:00:00</td>\n      <td>12.000</td>\n      <td>79.192</td>\n      <td>2.802</td>\n    </tr>\n  </tbody>\n</table>\n<p>674 rows × 4 columns</p>\n</div>"
     },
     "execution_count": 59,
     "metadata": {},
     "output_type": "execute_result"
    }
   ],
   "source": [
    "hrv_summary_dfs"
   ],
   "metadata": {
    "collapsed": false,
    "ExecuteTime": {
     "end_time": "2024-03-16T14:27:22.363928Z",
     "start_time": "2024-03-16T14:27:22.344765Z"
    }
   },
   "id": "bc5f91a9bc77d372",
   "execution_count": 59
  },
  {
   "cell_type": "markdown",
   "source": [
    "##### Heart Rate Variability histogram"
   ],
   "metadata": {
    "collapsed": false
   },
   "id": "b04e99cfa8b050d2"
  },
  {
   "cell_type": "code",
   "outputs": [],
   "source": [
    "directory_path = '../data/raw/heart/hrv/hrv_histogram/'\n",
    "hrv_histogram_dfs = []\n",
    "for filename in os.listdir(directory_path):\n",
    "    if filename.endswith('.csv'):\n",
    "        file_path = os.path.join(directory_path, filename)\n",
    "        temp_df = pd.read_csv(file_path)\n",
    "        hrv_histogram_dfs.append(temp_df)\n",
    "\n",
    "hrv_histogram_dfs = pd.concat(hrv_histogram_dfs,ignore_index=True)"
   ],
   "metadata": {
    "collapsed": false,
    "ExecuteTime": {
     "end_time": "2024-03-16T14:27:50.275679Z",
     "start_time": "2024-03-16T14:27:50.224779Z"
    }
   },
   "id": "e7ab617bc13e922e",
   "execution_count": 62
  },
  {
   "cell_type": "code",
   "outputs": [
    {
     "data": {
      "text/plain": "               timestamp                                      bucket_values\n0    2022-01-13T06:43:00  [0.0, 0.0, 0.0, 0.0, 0.0, 0.0, 0.0, 0.001, 0.0...\n1    2022-01-14T06:07:00  [0.0, 0.0, 0.0, 0.0, 0.0, 0.0, 0.0, 0.0, 0.002...\n2    2022-01-15T08:59:00  [0.0, 0.0, 0.0, 0.0, 0.0, 0.0, 0.001, 0.003, 0...\n3    2022-01-16T08:57:00  [0.0, 0.0, 0.0, 0.0, 0.0, 0.0, 0.0, 0.001, 0.0...\n4    2022-01-18T06:27:00  [0.0, 0.0, 0.0, 0.0, 0.0, 0.0, 0.0, 0.0, 0.003...\n..                   ...                                                ...\n692  2024-03-11T06:24:30  [0.0, 0.0, 0.0, 0.0, 0.0, 0.0, 0.0, 0.002, 0.0...\n693  2024-03-12T09:01:30  [0.0, 0.0, 0.0, 0.0, 0.0, 0.0, 0.0, 0.003, 0.0...\n694  2024-03-13T08:24:30  [0.0, 0.0, 0.0, 0.0, 0.0, 0.0, 0.0, 0.001, 0.0...\n695  2024-03-14T08:27:30  [0.0, 0.0, 0.0, 0.0, 0.0, 0.003, 0.15, 0.183, ...\n696  2024-03-15T07:11:00  [0.0, 0.0, 0.0, 0.0, 0.0, 0.0, 0.001, 0.004, 0...\n\n[697 rows x 2 columns]",
      "text/html": "<div>\n<style scoped>\n    .dataframe tbody tr th:only-of-type {\n        vertical-align: middle;\n    }\n\n    .dataframe tbody tr th {\n        vertical-align: top;\n    }\n\n    .dataframe thead th {\n        text-align: right;\n    }\n</style>\n<table border=\"1\" class=\"dataframe\">\n  <thead>\n    <tr style=\"text-align: right;\">\n      <th></th>\n      <th>timestamp</th>\n      <th>bucket_values</th>\n    </tr>\n  </thead>\n  <tbody>\n    <tr>\n      <th>0</th>\n      <td>2022-01-13T06:43:00</td>\n      <td>[0.0, 0.0, 0.0, 0.0, 0.0, 0.0, 0.0, 0.001, 0.0...</td>\n    </tr>\n    <tr>\n      <th>1</th>\n      <td>2022-01-14T06:07:00</td>\n      <td>[0.0, 0.0, 0.0, 0.0, 0.0, 0.0, 0.0, 0.0, 0.002...</td>\n    </tr>\n    <tr>\n      <th>2</th>\n      <td>2022-01-15T08:59:00</td>\n      <td>[0.0, 0.0, 0.0, 0.0, 0.0, 0.0, 0.001, 0.003, 0...</td>\n    </tr>\n    <tr>\n      <th>3</th>\n      <td>2022-01-16T08:57:00</td>\n      <td>[0.0, 0.0, 0.0, 0.0, 0.0, 0.0, 0.0, 0.001, 0.0...</td>\n    </tr>\n    <tr>\n      <th>4</th>\n      <td>2022-01-18T06:27:00</td>\n      <td>[0.0, 0.0, 0.0, 0.0, 0.0, 0.0, 0.0, 0.0, 0.003...</td>\n    </tr>\n    <tr>\n      <th>...</th>\n      <td>...</td>\n      <td>...</td>\n    </tr>\n    <tr>\n      <th>692</th>\n      <td>2024-03-11T06:24:30</td>\n      <td>[0.0, 0.0, 0.0, 0.0, 0.0, 0.0, 0.0, 0.002, 0.0...</td>\n    </tr>\n    <tr>\n      <th>693</th>\n      <td>2024-03-12T09:01:30</td>\n      <td>[0.0, 0.0, 0.0, 0.0, 0.0, 0.0, 0.0, 0.003, 0.0...</td>\n    </tr>\n    <tr>\n      <th>694</th>\n      <td>2024-03-13T08:24:30</td>\n      <td>[0.0, 0.0, 0.0, 0.0, 0.0, 0.0, 0.0, 0.001, 0.0...</td>\n    </tr>\n    <tr>\n      <th>695</th>\n      <td>2024-03-14T08:27:30</td>\n      <td>[0.0, 0.0, 0.0, 0.0, 0.0, 0.003, 0.15, 0.183, ...</td>\n    </tr>\n    <tr>\n      <th>696</th>\n      <td>2024-03-15T07:11:00</td>\n      <td>[0.0, 0.0, 0.0, 0.0, 0.0, 0.0, 0.001, 0.004, 0...</td>\n    </tr>\n  </tbody>\n</table>\n<p>697 rows × 2 columns</p>\n</div>"
     },
     "execution_count": 63,
     "metadata": {},
     "output_type": "execute_result"
    }
   ],
   "source": [
    "hrv_histogram_dfs"
   ],
   "metadata": {
    "collapsed": false,
    "ExecuteTime": {
     "end_time": "2024-03-16T14:27:50.852212Z",
     "start_time": "2024-03-16T14:27:50.832496Z"
    }
   },
   "id": "7086adb997ff4c85",
   "execution_count": 63
  },
  {
   "cell_type": "markdown",
   "source": [
    "##### Heart Rate Variability Details"
   ],
   "metadata": {
    "collapsed": false
   },
   "id": "503408b5d782d4b"
  },
  {
   "cell_type": "code",
   "outputs": [],
   "source": [
    "directory_path = '../data/raw/heart/hrv/hrv_details/'\n",
    "hrv_details_dfs = []\n",
    "for filename in os.listdir(directory_path):\n",
    "    if filename.endswith('.csv'):\n",
    "        file_path = os.path.join(directory_path, filename)\n",
    "        temp_df = pd.read_csv(file_path)\n",
    "        hrv_details_dfs.append(temp_df)\n",
    "\n",
    "hrv_details_dfs = pd.concat(hrv_details_dfs,ignore_index=True)"
   ],
   "metadata": {
    "collapsed": false,
    "ExecuteTime": {
     "end_time": "2024-03-16T14:28:14.435482Z",
     "start_time": "2024-03-16T14:28:13.609140Z"
    }
   },
   "id": "e99b68451eaf3dad",
   "execution_count": 66
  },
  {
   "cell_type": "code",
   "outputs": [
    {
     "data": {
      "text/plain": "                 timestamp   rmssd  coverage  low_frequency  high_frequency\n0      2022-01-12T22:20:00  20.969     0.846        261.484         179.967\n1      2022-01-12T22:30:00  16.478     0.889        162.982          95.460\n2      2022-01-12T22:35:00  21.236     0.733        405.093         242.995\n3      2022-01-12T22:40:00  22.396     0.844        231.611         228.679\n4      2022-01-12T22:45:00  22.470     0.890        206.510         159.706\n...                    ...     ...       ...            ...             ...\n59010  2024-03-14T08:00:00  30.652     0.919       1842.988         296.743\n59011  2024-03-14T08:05:00  34.249     1.002        558.913         514.269\n59012  2024-03-14T08:10:00  34.639     0.994       1906.109         444.621\n59013  2024-03-14T08:15:00  31.669     1.005        624.755         365.327\n59014  2024-03-14T08:20:00  29.903     1.002        686.503         371.693\n\n[59015 rows x 5 columns]",
      "text/html": "<div>\n<style scoped>\n    .dataframe tbody tr th:only-of-type {\n        vertical-align: middle;\n    }\n\n    .dataframe tbody tr th {\n        vertical-align: top;\n    }\n\n    .dataframe thead th {\n        text-align: right;\n    }\n</style>\n<table border=\"1\" class=\"dataframe\">\n  <thead>\n    <tr style=\"text-align: right;\">\n      <th></th>\n      <th>timestamp</th>\n      <th>rmssd</th>\n      <th>coverage</th>\n      <th>low_frequency</th>\n      <th>high_frequency</th>\n    </tr>\n  </thead>\n  <tbody>\n    <tr>\n      <th>0</th>\n      <td>2022-01-12T22:20:00</td>\n      <td>20.969</td>\n      <td>0.846</td>\n      <td>261.484</td>\n      <td>179.967</td>\n    </tr>\n    <tr>\n      <th>1</th>\n      <td>2022-01-12T22:30:00</td>\n      <td>16.478</td>\n      <td>0.889</td>\n      <td>162.982</td>\n      <td>95.460</td>\n    </tr>\n    <tr>\n      <th>2</th>\n      <td>2022-01-12T22:35:00</td>\n      <td>21.236</td>\n      <td>0.733</td>\n      <td>405.093</td>\n      <td>242.995</td>\n    </tr>\n    <tr>\n      <th>3</th>\n      <td>2022-01-12T22:40:00</td>\n      <td>22.396</td>\n      <td>0.844</td>\n      <td>231.611</td>\n      <td>228.679</td>\n    </tr>\n    <tr>\n      <th>4</th>\n      <td>2022-01-12T22:45:00</td>\n      <td>22.470</td>\n      <td>0.890</td>\n      <td>206.510</td>\n      <td>159.706</td>\n    </tr>\n    <tr>\n      <th>...</th>\n      <td>...</td>\n      <td>...</td>\n      <td>...</td>\n      <td>...</td>\n      <td>...</td>\n    </tr>\n    <tr>\n      <th>59010</th>\n      <td>2024-03-14T08:00:00</td>\n      <td>30.652</td>\n      <td>0.919</td>\n      <td>1842.988</td>\n      <td>296.743</td>\n    </tr>\n    <tr>\n      <th>59011</th>\n      <td>2024-03-14T08:05:00</td>\n      <td>34.249</td>\n      <td>1.002</td>\n      <td>558.913</td>\n      <td>514.269</td>\n    </tr>\n    <tr>\n      <th>59012</th>\n      <td>2024-03-14T08:10:00</td>\n      <td>34.639</td>\n      <td>0.994</td>\n      <td>1906.109</td>\n      <td>444.621</td>\n    </tr>\n    <tr>\n      <th>59013</th>\n      <td>2024-03-14T08:15:00</td>\n      <td>31.669</td>\n      <td>1.005</td>\n      <td>624.755</td>\n      <td>365.327</td>\n    </tr>\n    <tr>\n      <th>59014</th>\n      <td>2024-03-14T08:20:00</td>\n      <td>29.903</td>\n      <td>1.002</td>\n      <td>686.503</td>\n      <td>371.693</td>\n    </tr>\n  </tbody>\n</table>\n<p>59015 rows × 5 columns</p>\n</div>"
     },
     "execution_count": 67,
     "metadata": {},
     "output_type": "execute_result"
    }
   ],
   "source": [
    "hrv_details_dfs"
   ],
   "metadata": {
    "collapsed": false,
    "ExecuteTime": {
     "end_time": "2024-03-16T14:28:14.450913Z",
     "start_time": "2024-03-16T14:28:14.437811Z"
    }
   },
   "id": "202477bdd34ecc6e",
   "execution_count": 67
  },
  {
   "cell_type": "code",
   "outputs": [],
   "source": [
    "hrv_details_dfs['timestamp'] = pd.to_datetime(hrv_details_dfs['timestamp'], format='%Y-%m-%dT%H:%M:%S')"
   ],
   "metadata": {
    "collapsed": false
   },
   "id": "2391d3e8b7dc9685",
   "execution_count": null
  },
  {
   "cell_type": "code",
   "outputs": [],
   "source": [
    "hrv_details_dfs['date'] = hrv_details_dfs['timestamp'].dt.date"
   ],
   "metadata": {
    "collapsed": false
   },
   "id": "bc6eefe382227bf8",
   "execution_count": null
  },
  {
   "cell_type": "code",
   "outputs": [],
   "source": [
    "hrv_details_dfs.groupby('date').count()"
   ],
   "metadata": {
    "collapsed": false
   },
   "id": "d8a377fa08bcec52",
   "execution_count": null
  },
  {
   "cell_type": "markdown",
   "source": [
    "##### Time in HR Zones"
   ],
   "metadata": {
    "collapsed": false
   },
   "id": "5c8cdf7e194db5e7"
  },
  {
   "cell_type": "code",
   "outputs": [],
   "source": [
    "directory_path = '../data/raw/heart/time_in_hr_zones/'\n",
    "time_in_hr_zones = []\n",
    "for filename in os.listdir(directory_path):\n",
    "    if filename.endswith('.json'):\n",
    "        example = os.path.join(directory_path, filename)\n",
    "    with open(example, 'r') as file:\n",
    "        data = json.load(file)\n",
    "        temp_df = pd.json_normalize(data)\n",
    "        time_in_hr_zones.append(temp_df)\n",
    "    \n",
    "time_in_hr_zones = pd.concat(time_in_hr_zones,ignore_index=True)"
   ],
   "metadata": {
    "collapsed": false,
    "ExecuteTime": {
     "end_time": "2024-03-16T14:28:32.801250Z",
     "start_time": "2024-03-16T14:28:32.380534Z"
    }
   },
   "id": "2bc8eaceed3d8ba6",
   "execution_count": 70
  },
  {
   "cell_type": "code",
   "outputs": [
    {
     "data": {
      "text/plain": "              dateTime  value.valuesInZones.IN_DEFAULT_ZONE_2  \\\n0    06/11/22 00:00:00                                    0.0   \n1    06/12/22 00:00:00                                    0.0   \n2    06/13/22 00:00:00                                    1.0   \n3    06/14/22 00:00:00                                    7.0   \n4    06/15/22 00:00:00                                    1.0   \n..                 ...                                    ...   \n610  03/10/24 00:00:00                                    0.0   \n611  03/11/24 00:00:00                                    0.0   \n612  03/12/24 00:00:00                                    0.0   \n613  03/13/24 00:00:00                                    4.0   \n614  03/14/24 00:00:00                                    0.0   \n\n     value.valuesInZones.IN_DEFAULT_ZONE_1  \\\n0                                    343.0   \n1                                    182.0   \n2                                    533.0   \n3                                    622.0   \n4                                    398.0   \n..                                     ...   \n610                                  156.0   \n611                                  356.0   \n612                                   47.0   \n613                                  753.0   \n614                                  605.0   \n\n     value.valuesInZones.IN_DEFAULT_ZONE_3  \\\n0                                      0.0   \n1                                      0.0   \n2                                      0.0   \n3                                      0.0   \n4                                      0.0   \n..                                     ...   \n610                                    0.0   \n611                                    0.0   \n612                                    0.0   \n613                                    0.0   \n614                                    0.0   \n\n     value.valuesInZones.BELOW_DEFAULT_ZONE_1  \n0                                      1082.0  \n1                                      1241.0  \n2                                       749.0  \n3                                       811.0  \n4                                      1032.0  \n..                                        ...  \n610                                    1284.0  \n611                                    1084.0  \n612                                    1393.0  \n613                                     609.0  \n614                                     834.0  \n\n[615 rows x 5 columns]",
      "text/html": "<div>\n<style scoped>\n    .dataframe tbody tr th:only-of-type {\n        vertical-align: middle;\n    }\n\n    .dataframe tbody tr th {\n        vertical-align: top;\n    }\n\n    .dataframe thead th {\n        text-align: right;\n    }\n</style>\n<table border=\"1\" class=\"dataframe\">\n  <thead>\n    <tr style=\"text-align: right;\">\n      <th></th>\n      <th>dateTime</th>\n      <th>value.valuesInZones.IN_DEFAULT_ZONE_2</th>\n      <th>value.valuesInZones.IN_DEFAULT_ZONE_1</th>\n      <th>value.valuesInZones.IN_DEFAULT_ZONE_3</th>\n      <th>value.valuesInZones.BELOW_DEFAULT_ZONE_1</th>\n    </tr>\n  </thead>\n  <tbody>\n    <tr>\n      <th>0</th>\n      <td>06/11/22 00:00:00</td>\n      <td>0.0</td>\n      <td>343.0</td>\n      <td>0.0</td>\n      <td>1082.0</td>\n    </tr>\n    <tr>\n      <th>1</th>\n      <td>06/12/22 00:00:00</td>\n      <td>0.0</td>\n      <td>182.0</td>\n      <td>0.0</td>\n      <td>1241.0</td>\n    </tr>\n    <tr>\n      <th>2</th>\n      <td>06/13/22 00:00:00</td>\n      <td>1.0</td>\n      <td>533.0</td>\n      <td>0.0</td>\n      <td>749.0</td>\n    </tr>\n    <tr>\n      <th>3</th>\n      <td>06/14/22 00:00:00</td>\n      <td>7.0</td>\n      <td>622.0</td>\n      <td>0.0</td>\n      <td>811.0</td>\n    </tr>\n    <tr>\n      <th>4</th>\n      <td>06/15/22 00:00:00</td>\n      <td>1.0</td>\n      <td>398.0</td>\n      <td>0.0</td>\n      <td>1032.0</td>\n    </tr>\n    <tr>\n      <th>...</th>\n      <td>...</td>\n      <td>...</td>\n      <td>...</td>\n      <td>...</td>\n      <td>...</td>\n    </tr>\n    <tr>\n      <th>610</th>\n      <td>03/10/24 00:00:00</td>\n      <td>0.0</td>\n      <td>156.0</td>\n      <td>0.0</td>\n      <td>1284.0</td>\n    </tr>\n    <tr>\n      <th>611</th>\n      <td>03/11/24 00:00:00</td>\n      <td>0.0</td>\n      <td>356.0</td>\n      <td>0.0</td>\n      <td>1084.0</td>\n    </tr>\n    <tr>\n      <th>612</th>\n      <td>03/12/24 00:00:00</td>\n      <td>0.0</td>\n      <td>47.0</td>\n      <td>0.0</td>\n      <td>1393.0</td>\n    </tr>\n    <tr>\n      <th>613</th>\n      <td>03/13/24 00:00:00</td>\n      <td>4.0</td>\n      <td>753.0</td>\n      <td>0.0</td>\n      <td>609.0</td>\n    </tr>\n    <tr>\n      <th>614</th>\n      <td>03/14/24 00:00:00</td>\n      <td>0.0</td>\n      <td>605.0</td>\n      <td>0.0</td>\n      <td>834.0</td>\n    </tr>\n  </tbody>\n</table>\n<p>615 rows × 5 columns</p>\n</div>"
     },
     "execution_count": 71,
     "metadata": {},
     "output_type": "execute_result"
    }
   ],
   "source": [
    "time_in_hr_zones"
   ],
   "metadata": {
    "collapsed": false,
    "ExecuteTime": {
     "end_time": "2024-03-16T14:28:32.832069Z",
     "start_time": "2024-03-16T14:28:32.808326Z"
    }
   },
   "id": "e8801d3989915bf3",
   "execution_count": 71
  },
  {
   "cell_type": "code",
   "outputs": [],
   "source": [
    "time_in_hr_zones.columns = [col.replace('value.valuesInZones.', '') for col in time_in_hr_zones.columns]"
   ],
   "metadata": {
    "collapsed": false
   },
   "id": "1f2a04bdc9ddd8ba",
   "execution_count": null
  },
  {
   "cell_type": "code",
   "outputs": [],
   "source": [
    "time_in_hr_zones['time'] = pd.to_datetime(time_in_hr_zones['dateTime']).dt.time"
   ],
   "metadata": {
    "collapsed": false
   },
   "id": "47e76d06835005d5",
   "execution_count": null
  },
  {
   "cell_type": "code",
   "outputs": [],
   "source": [
    "time_in_hr_zones['time'].unique()"
   ],
   "metadata": {
    "collapsed": false
   },
   "id": "4e5eb50e9338b2c8",
   "execution_count": null
  },
  {
   "cell_type": "markdown",
   "source": [
    "### Sleep\n",
    "#### Sleep Profile"
   ],
   "metadata": {
    "collapsed": false
   },
   "id": "ca608dec763af573"
  },
  {
   "cell_type": "code",
   "outputs": [],
   "source": [
    "sleep_profile = pd.read_csv('../data/raw/sleep/Sleep Profile.csv')"
   ],
   "metadata": {
    "collapsed": false,
    "ExecuteTime": {
     "end_time": "2024-03-16T14:29:12.850880Z",
     "start_time": "2024-03-16T14:29:12.829751Z"
    }
   },
   "id": "20bb36c90a99050c",
   "execution_count": 76
  },
  {
   "cell_type": "code",
   "outputs": [
    {
     "data": {
      "text/plain": "  creation_date       sleep_type  deep_sleep  rem_sleep  sleep_duration  \\\n0    2022-07-05             Bear       97.07      20.77            7.27   \n1    2024-01-18  Not enough data         NaN        NaN             NaN   \n2    2024-02-01  Not enough data         NaN        NaN             NaN   \n3    2024-03-01             Bear       87.96      23.23            6.63   \n\n   sleep_start_time  schedule_variability  restorative_sleep  \\\n0             23.20                 86.14              81.83   \n1               NaN                   NaN                NaN   \n2               NaN                   NaN                NaN   \n3             24.45                 65.99              82.30   \n\n   time_before_sound_sleep  sleep_stability  nights_with_long_awakenings  \\\n0                    24.68             3.61                        10.71   \n1                      NaN              NaN                          NaN   \n2                      NaN              NaN                          NaN   \n3                    22.61             3.64                         7.14   \n\n   days_with_naps  \n0             0.0  \n1             NaN  \n2             NaN  \n3             0.0  ",
      "text/html": "<div>\n<style scoped>\n    .dataframe tbody tr th:only-of-type {\n        vertical-align: middle;\n    }\n\n    .dataframe tbody tr th {\n        vertical-align: top;\n    }\n\n    .dataframe thead th {\n        text-align: right;\n    }\n</style>\n<table border=\"1\" class=\"dataframe\">\n  <thead>\n    <tr style=\"text-align: right;\">\n      <th></th>\n      <th>creation_date</th>\n      <th>sleep_type</th>\n      <th>deep_sleep</th>\n      <th>rem_sleep</th>\n      <th>sleep_duration</th>\n      <th>sleep_start_time</th>\n      <th>schedule_variability</th>\n      <th>restorative_sleep</th>\n      <th>time_before_sound_sleep</th>\n      <th>sleep_stability</th>\n      <th>nights_with_long_awakenings</th>\n      <th>days_with_naps</th>\n    </tr>\n  </thead>\n  <tbody>\n    <tr>\n      <th>0</th>\n      <td>2022-07-05</td>\n      <td>Bear</td>\n      <td>97.07</td>\n      <td>20.77</td>\n      <td>7.27</td>\n      <td>23.20</td>\n      <td>86.14</td>\n      <td>81.83</td>\n      <td>24.68</td>\n      <td>3.61</td>\n      <td>10.71</td>\n      <td>0.0</td>\n    </tr>\n    <tr>\n      <th>1</th>\n      <td>2024-01-18</td>\n      <td>Not enough data</td>\n      <td>NaN</td>\n      <td>NaN</td>\n      <td>NaN</td>\n      <td>NaN</td>\n      <td>NaN</td>\n      <td>NaN</td>\n      <td>NaN</td>\n      <td>NaN</td>\n      <td>NaN</td>\n      <td>NaN</td>\n    </tr>\n    <tr>\n      <th>2</th>\n      <td>2024-02-01</td>\n      <td>Not enough data</td>\n      <td>NaN</td>\n      <td>NaN</td>\n      <td>NaN</td>\n      <td>NaN</td>\n      <td>NaN</td>\n      <td>NaN</td>\n      <td>NaN</td>\n      <td>NaN</td>\n      <td>NaN</td>\n      <td>NaN</td>\n    </tr>\n    <tr>\n      <th>3</th>\n      <td>2024-03-01</td>\n      <td>Bear</td>\n      <td>87.96</td>\n      <td>23.23</td>\n      <td>6.63</td>\n      <td>24.45</td>\n      <td>65.99</td>\n      <td>82.30</td>\n      <td>22.61</td>\n      <td>3.64</td>\n      <td>7.14</td>\n      <td>0.0</td>\n    </tr>\n  </tbody>\n</table>\n</div>"
     },
     "execution_count": 77,
     "metadata": {},
     "output_type": "execute_result"
    }
   ],
   "source": [
    "sleep_profile"
   ],
   "metadata": {
    "collapsed": false,
    "ExecuteTime": {
     "end_time": "2024-03-16T14:29:13.131919Z",
     "start_time": "2024-03-16T14:29:13.102889Z"
    }
   },
   "id": "25822b082e0c494",
   "execution_count": 77
  },
  {
   "cell_type": "markdown",
   "source": [
    "#### Sleep Score"
   ],
   "metadata": {
    "collapsed": false
   },
   "id": "591c4f64005520b7"
  },
  {
   "cell_type": "code",
   "outputs": [],
   "source": [
    "sleep_score = pd.read_csv('../data/raw/sleep/sleep_score.csv')"
   ],
   "metadata": {
    "collapsed": false
   },
   "id": "5595edb075a6e223",
   "execution_count": null
  },
  {
   "cell_type": "code",
   "outputs": [],
   "source": [
    "sleep_score"
   ],
   "metadata": {
    "collapsed": false
   },
   "id": "9810ea03889d548f",
   "execution_count": null
  },
  {
   "cell_type": "markdown",
   "source": [
    "#### Sleep JSON objects"
   ],
   "metadata": {
    "collapsed": false
   },
   "id": "927883917b0ba6f7"
  },
  {
   "cell_type": "code",
   "outputs": [],
   "source": [
    "directory_path = '../data/raw/sleep/json/'\n",
    "sleep_list = []\n",
    "for filename in os.listdir(directory_path):\n",
    "    if filename.endswith('.json'):\n",
    "        filepath = os.path.join(directory_path, filename)\n",
    "    with open(filepath, 'r') as file:\n",
    "        data = json.load(file)\n",
    "        temp_df = pd.json_normalize(data)\n",
    "        sleep_list.append(temp_df)\n",
    "\n",
    "sleep_df = pd.concat(sleep_list,ignore_index=True)"
   ],
   "metadata": {
    "collapsed": false,
    "ExecuteTime": {
     "end_time": "2024-03-16T14:38:27.950541Z",
     "start_time": "2024-03-16T14:38:27.848040Z"
    }
   },
   "id": "917bf41ee99b9c74",
   "execution_count": 114
  },
  {
   "cell_type": "code",
   "outputs": [
    {
     "data": {
      "text/plain": "           logId dateOfSleep                startTime  \\\n0    35664860139  2022-02-10  2022-02-09T22:20:30.000   \n1    35651816563  2022-02-09  2022-02-08T21:42:30.000   \n2    35636525093  2022-02-08  2022-02-07T21:59:30.000   \n3    35635587864  2022-02-07  2022-02-06T22:28:30.000   \n4    35635587863  2022-02-06  2022-02-06T03:09:00.000   \n..           ...         ...                      ...   \n709  44760086952  2024-03-05  2024-03-05T00:19:30.000   \n710  44760086951  2024-03-04  2024-03-04T02:10:00.000   \n711  44740786190  2024-03-03  2024-03-03T03:09:30.000   \n712  44727012339  2024-03-02  2024-03-02T00:30:00.000   \n713  44714825716  2024-03-01  2024-03-01T00:03:30.000   \n\n                     endTime  duration  minutesToFallAsleep  minutesAsleep  \\\n0    2022-02-10T06:08:00.000  28020000                    0            415   \n1    2022-02-09T06:00:00.000  29820000                    0            451   \n2    2022-02-08T06:39:30.000  31200000                    0            459   \n3    2022-02-07T06:01:30.000  27180000                    0            396   \n4    2022-02-06T09:27:30.000  22680000                    0            343   \n..                       ...       ...                  ...            ...   \n709  2024-03-05T06:25:30.000  21960000                    0            322   \n710  2024-03-04T07:49:00.000  20340000                    0            281   \n711  2024-03-03T09:11:30.000  21720000                    0            301   \n712  2024-03-02T07:43:30.000  25980000                    0            383   \n713  2024-03-01T08:37:30.000  30840000                    0            453   \n\n     minutesAwake  minutesAfterWakeup  timeInBed  ...  \\\n0              52                   0        467  ...   \n1              46                   0        497  ...   \n2              61                  15        520  ...   \n3              57                   0        453  ...   \n4              35                   0        378  ...   \n..            ...                 ...        ...  ...   \n709            44                   0        366  ...   \n710            58                   0        339  ...   \n711            61                   0        362  ...   \n712            50                   0        433  ...   \n713            61                   0        514  ...   \n\n     levels.summary.rem.minutes levels.summary.rem.thirtyDayAvgMinutes  \\\n0                          95.0                                   97.0   \n1                         121.0                                   96.0   \n2                         119.0                                   95.0   \n3                          92.0                                   96.0   \n4                          75.0                                   96.0   \n..                          ...                                    ...   \n709                        78.0                                   79.0   \n710                        56.0                                   87.0   \n711                        82.0                                   90.0   \n712                        78.0                                  101.0   \n713                       101.0                                    0.0   \n\n                                           levels.data  \\\n0    [{'dateTime': '2022-02-09T22:20:30.000', 'leve...   \n1    [{'dateTime': '2022-02-08T21:42:30.000', 'leve...   \n2    [{'dateTime': '2022-02-07T21:59:30.000', 'leve...   \n3    [{'dateTime': '2022-02-06T22:28:30.000', 'leve...   \n4    [{'dateTime': '2022-02-06T03:09:00.000', 'leve...   \n..                                                 ...   \n709  [{'dateTime': '2024-03-05T00:19:30.000', 'leve...   \n710  [{'dateTime': '2024-03-04T02:10:00.000', 'leve...   \n711  [{'dateTime': '2024-03-03T03:09:30.000', 'leve...   \n712  [{'dateTime': '2024-03-02T00:30:00.000', 'leve...   \n713  [{'dateTime': '2024-03-01T00:03:30.000', 'leve...   \n\n                                      levels.shortData  \\\n0    [{'dateTime': '2022-02-09T22:32:00.000', 'leve...   \n1    [{'dateTime': '2022-02-08T23:21:30.000', 'leve...   \n2    [{'dateTime': '2022-02-07T22:36:00.000', 'leve...   \n3    [{'dateTime': '2022-02-06T23:18:00.000', 'leve...   \n4    [{'dateTime': '2022-02-06T04:20:30.000', 'leve...   \n..                                                 ...   \n709  [{'dateTime': '2024-03-05T01:59:00.000', 'leve...   \n710  [{'dateTime': '2024-03-04T02:36:30.000', 'leve...   \n711  [{'dateTime': '2024-03-03T04:57:30.000', 'leve...   \n712  [{'dateTime': '2024-03-02T01:05:00.000', 'leve...   \n713  [{'dateTime': '2024-03-01T00:03:30.000', 'leve...   \n\n     levels.summary.restless.count  levels.summary.restless.minutes  \\\n0                              NaN                              NaN   \n1                              NaN                              NaN   \n2                              NaN                              NaN   \n3                              NaN                              NaN   \n4                              NaN                              NaN   \n..                             ...                              ...   \n709                            NaN                              NaN   \n710                            NaN                              NaN   \n711                            NaN                              NaN   \n712                            NaN                              NaN   \n713                            NaN                              NaN   \n\n     levels.summary.awake.count  levels.summary.awake.minutes  \\\n0                           NaN                           NaN   \n1                           NaN                           NaN   \n2                           NaN                           NaN   \n3                           NaN                           NaN   \n4                           NaN                           NaN   \n..                          ...                           ...   \n709                         NaN                           NaN   \n710                         NaN                           NaN   \n711                         NaN                           NaN   \n712                         NaN                           NaN   \n713                         NaN                           NaN   \n\n     levels.summary.asleep.count  levels.summary.asleep.minutes  \n0                            NaN                            NaN  \n1                            NaN                            NaN  \n2                            NaN                            NaN  \n3                            NaN                            NaN  \n4                            NaN                            NaN  \n..                           ...                            ...  \n709                          NaN                            NaN  \n710                          NaN                            NaN  \n711                          NaN                            NaN  \n712                          NaN                            NaN  \n713                          NaN                            NaN  \n\n[714 rows x 35 columns]",
      "text/html": "<div>\n<style scoped>\n    .dataframe tbody tr th:only-of-type {\n        vertical-align: middle;\n    }\n\n    .dataframe tbody tr th {\n        vertical-align: top;\n    }\n\n    .dataframe thead th {\n        text-align: right;\n    }\n</style>\n<table border=\"1\" class=\"dataframe\">\n  <thead>\n    <tr style=\"text-align: right;\">\n      <th></th>\n      <th>logId</th>\n      <th>dateOfSleep</th>\n      <th>startTime</th>\n      <th>endTime</th>\n      <th>duration</th>\n      <th>minutesToFallAsleep</th>\n      <th>minutesAsleep</th>\n      <th>minutesAwake</th>\n      <th>minutesAfterWakeup</th>\n      <th>timeInBed</th>\n      <th>...</th>\n      <th>levels.summary.rem.minutes</th>\n      <th>levels.summary.rem.thirtyDayAvgMinutes</th>\n      <th>levels.data</th>\n      <th>levels.shortData</th>\n      <th>levels.summary.restless.count</th>\n      <th>levels.summary.restless.minutes</th>\n      <th>levels.summary.awake.count</th>\n      <th>levels.summary.awake.minutes</th>\n      <th>levels.summary.asleep.count</th>\n      <th>levels.summary.asleep.minutes</th>\n    </tr>\n  </thead>\n  <tbody>\n    <tr>\n      <th>0</th>\n      <td>35664860139</td>\n      <td>2022-02-10</td>\n      <td>2022-02-09T22:20:30.000</td>\n      <td>2022-02-10T06:08:00.000</td>\n      <td>28020000</td>\n      <td>0</td>\n      <td>415</td>\n      <td>52</td>\n      <td>0</td>\n      <td>467</td>\n      <td>...</td>\n      <td>95.0</td>\n      <td>97.0</td>\n      <td>[{'dateTime': '2022-02-09T22:20:30.000', 'leve...</td>\n      <td>[{'dateTime': '2022-02-09T22:32:00.000', 'leve...</td>\n      <td>NaN</td>\n      <td>NaN</td>\n      <td>NaN</td>\n      <td>NaN</td>\n      <td>NaN</td>\n      <td>NaN</td>\n    </tr>\n    <tr>\n      <th>1</th>\n      <td>35651816563</td>\n      <td>2022-02-09</td>\n      <td>2022-02-08T21:42:30.000</td>\n      <td>2022-02-09T06:00:00.000</td>\n      <td>29820000</td>\n      <td>0</td>\n      <td>451</td>\n      <td>46</td>\n      <td>0</td>\n      <td>497</td>\n      <td>...</td>\n      <td>121.0</td>\n      <td>96.0</td>\n      <td>[{'dateTime': '2022-02-08T21:42:30.000', 'leve...</td>\n      <td>[{'dateTime': '2022-02-08T23:21:30.000', 'leve...</td>\n      <td>NaN</td>\n      <td>NaN</td>\n      <td>NaN</td>\n      <td>NaN</td>\n      <td>NaN</td>\n      <td>NaN</td>\n    </tr>\n    <tr>\n      <th>2</th>\n      <td>35636525093</td>\n      <td>2022-02-08</td>\n      <td>2022-02-07T21:59:30.000</td>\n      <td>2022-02-08T06:39:30.000</td>\n      <td>31200000</td>\n      <td>0</td>\n      <td>459</td>\n      <td>61</td>\n      <td>15</td>\n      <td>520</td>\n      <td>...</td>\n      <td>119.0</td>\n      <td>95.0</td>\n      <td>[{'dateTime': '2022-02-07T21:59:30.000', 'leve...</td>\n      <td>[{'dateTime': '2022-02-07T22:36:00.000', 'leve...</td>\n      <td>NaN</td>\n      <td>NaN</td>\n      <td>NaN</td>\n      <td>NaN</td>\n      <td>NaN</td>\n      <td>NaN</td>\n    </tr>\n    <tr>\n      <th>3</th>\n      <td>35635587864</td>\n      <td>2022-02-07</td>\n      <td>2022-02-06T22:28:30.000</td>\n      <td>2022-02-07T06:01:30.000</td>\n      <td>27180000</td>\n      <td>0</td>\n      <td>396</td>\n      <td>57</td>\n      <td>0</td>\n      <td>453</td>\n      <td>...</td>\n      <td>92.0</td>\n      <td>96.0</td>\n      <td>[{'dateTime': '2022-02-06T22:28:30.000', 'leve...</td>\n      <td>[{'dateTime': '2022-02-06T23:18:00.000', 'leve...</td>\n      <td>NaN</td>\n      <td>NaN</td>\n      <td>NaN</td>\n      <td>NaN</td>\n      <td>NaN</td>\n      <td>NaN</td>\n    </tr>\n    <tr>\n      <th>4</th>\n      <td>35635587863</td>\n      <td>2022-02-06</td>\n      <td>2022-02-06T03:09:00.000</td>\n      <td>2022-02-06T09:27:30.000</td>\n      <td>22680000</td>\n      <td>0</td>\n      <td>343</td>\n      <td>35</td>\n      <td>0</td>\n      <td>378</td>\n      <td>...</td>\n      <td>75.0</td>\n      <td>96.0</td>\n      <td>[{'dateTime': '2022-02-06T03:09:00.000', 'leve...</td>\n      <td>[{'dateTime': '2022-02-06T04:20:30.000', 'leve...</td>\n      <td>NaN</td>\n      <td>NaN</td>\n      <td>NaN</td>\n      <td>NaN</td>\n      <td>NaN</td>\n      <td>NaN</td>\n    </tr>\n    <tr>\n      <th>...</th>\n      <td>...</td>\n      <td>...</td>\n      <td>...</td>\n      <td>...</td>\n      <td>...</td>\n      <td>...</td>\n      <td>...</td>\n      <td>...</td>\n      <td>...</td>\n      <td>...</td>\n      <td>...</td>\n      <td>...</td>\n      <td>...</td>\n      <td>...</td>\n      <td>...</td>\n      <td>...</td>\n      <td>...</td>\n      <td>...</td>\n      <td>...</td>\n      <td>...</td>\n      <td>...</td>\n    </tr>\n    <tr>\n      <th>709</th>\n      <td>44760086952</td>\n      <td>2024-03-05</td>\n      <td>2024-03-05T00:19:30.000</td>\n      <td>2024-03-05T06:25:30.000</td>\n      <td>21960000</td>\n      <td>0</td>\n      <td>322</td>\n      <td>44</td>\n      <td>0</td>\n      <td>366</td>\n      <td>...</td>\n      <td>78.0</td>\n      <td>79.0</td>\n      <td>[{'dateTime': '2024-03-05T00:19:30.000', 'leve...</td>\n      <td>[{'dateTime': '2024-03-05T01:59:00.000', 'leve...</td>\n      <td>NaN</td>\n      <td>NaN</td>\n      <td>NaN</td>\n      <td>NaN</td>\n      <td>NaN</td>\n      <td>NaN</td>\n    </tr>\n    <tr>\n      <th>710</th>\n      <td>44760086951</td>\n      <td>2024-03-04</td>\n      <td>2024-03-04T02:10:00.000</td>\n      <td>2024-03-04T07:49:00.000</td>\n      <td>20340000</td>\n      <td>0</td>\n      <td>281</td>\n      <td>58</td>\n      <td>0</td>\n      <td>339</td>\n      <td>...</td>\n      <td>56.0</td>\n      <td>87.0</td>\n      <td>[{'dateTime': '2024-03-04T02:10:00.000', 'leve...</td>\n      <td>[{'dateTime': '2024-03-04T02:36:30.000', 'leve...</td>\n      <td>NaN</td>\n      <td>NaN</td>\n      <td>NaN</td>\n      <td>NaN</td>\n      <td>NaN</td>\n      <td>NaN</td>\n    </tr>\n    <tr>\n      <th>711</th>\n      <td>44740786190</td>\n      <td>2024-03-03</td>\n      <td>2024-03-03T03:09:30.000</td>\n      <td>2024-03-03T09:11:30.000</td>\n      <td>21720000</td>\n      <td>0</td>\n      <td>301</td>\n      <td>61</td>\n      <td>0</td>\n      <td>362</td>\n      <td>...</td>\n      <td>82.0</td>\n      <td>90.0</td>\n      <td>[{'dateTime': '2024-03-03T03:09:30.000', 'leve...</td>\n      <td>[{'dateTime': '2024-03-03T04:57:30.000', 'leve...</td>\n      <td>NaN</td>\n      <td>NaN</td>\n      <td>NaN</td>\n      <td>NaN</td>\n      <td>NaN</td>\n      <td>NaN</td>\n    </tr>\n    <tr>\n      <th>712</th>\n      <td>44727012339</td>\n      <td>2024-03-02</td>\n      <td>2024-03-02T00:30:00.000</td>\n      <td>2024-03-02T07:43:30.000</td>\n      <td>25980000</td>\n      <td>0</td>\n      <td>383</td>\n      <td>50</td>\n      <td>0</td>\n      <td>433</td>\n      <td>...</td>\n      <td>78.0</td>\n      <td>101.0</td>\n      <td>[{'dateTime': '2024-03-02T00:30:00.000', 'leve...</td>\n      <td>[{'dateTime': '2024-03-02T01:05:00.000', 'leve...</td>\n      <td>NaN</td>\n      <td>NaN</td>\n      <td>NaN</td>\n      <td>NaN</td>\n      <td>NaN</td>\n      <td>NaN</td>\n    </tr>\n    <tr>\n      <th>713</th>\n      <td>44714825716</td>\n      <td>2024-03-01</td>\n      <td>2024-03-01T00:03:30.000</td>\n      <td>2024-03-01T08:37:30.000</td>\n      <td>30840000</td>\n      <td>0</td>\n      <td>453</td>\n      <td>61</td>\n      <td>0</td>\n      <td>514</td>\n      <td>...</td>\n      <td>101.0</td>\n      <td>0.0</td>\n      <td>[{'dateTime': '2024-03-01T00:03:30.000', 'leve...</td>\n      <td>[{'dateTime': '2024-03-01T00:03:30.000', 'leve...</td>\n      <td>NaN</td>\n      <td>NaN</td>\n      <td>NaN</td>\n      <td>NaN</td>\n      <td>NaN</td>\n      <td>NaN</td>\n    </tr>\n  </tbody>\n</table>\n<p>714 rows × 35 columns</p>\n</div>"
     },
     "execution_count": 115,
     "metadata": {},
     "output_type": "execute_result"
    }
   ],
   "source": [
    "sleep_df"
   ],
   "metadata": {
    "collapsed": false,
    "ExecuteTime": {
     "end_time": "2024-03-16T14:38:29.394733Z",
     "start_time": "2024-03-16T14:38:29.278013Z"
    }
   },
   "id": "dfbd0ec8686d9ece",
   "execution_count": 115
  },
  {
   "cell_type": "markdown",
   "source": [
    "### Stress"
   ],
   "metadata": {
    "collapsed": false
   },
   "id": "b86c73614143facd"
  },
  {
   "cell_type": "code",
   "outputs": [],
   "source": [
    "stress = pd.read_csv('../data/raw/stress/Stress Score.csv')"
   ],
   "metadata": {
    "collapsed": false,
    "ExecuteTime": {
     "end_time": "2024-03-16T14:38:55.068592Z",
     "start_time": "2024-03-16T14:38:55.054601Z"
    }
   },
   "id": "e881e4980edd9660",
   "execution_count": 118
  },
  {
   "cell_type": "code",
   "outputs": [
    {
     "data": {
      "text/plain": "                    DATE               UPDATED_AT  STRESS_SCORE  SLEEP_POINTS  \\\n0    2022-01-14T00:00:00  2022-01-14T06:29:35.631            82             0   \n1    2022-01-15T00:00:00  2022-01-15T10:08:45.675            73             0   \n2    2022-01-16T00:00:00   2022-01-16T09:18:37.96            88             0   \n3    2022-01-18T00:00:00  2022-01-18T06:59:11.594            84             0   \n4    2022-01-19T00:00:00  2022-01-19T06:20:48.915            83             0   \n..                   ...                      ...           ...           ...   \n676  2024-03-11T00:00:00  2024-03-12T09:03:07.685            73            19   \n677  2024-03-12T00:00:00  2024-03-12T09:03:08.198            76            27   \n678  2024-03-13T00:00:00  2024-03-13T08:25:54.156            71            27   \n679  2024-03-14T00:00:00  2024-03-14T08:28:46.149            81            30   \n680  2024-03-15T00:00:00  2024-03-15T07:30:34.296            78            26   \n\n     MAX_SLEEP_POINTS  RESPONSIVENESS_POINTS  MAX_RESPONSIVENESS_POINTS  \\\n0                   0                      0                          0   \n1                   0                      0                          0   \n2                   0                      0                          0   \n3                   0                      0                          0   \n4                   0                      0                          0   \n..                ...                    ...                        ...   \n676                30                     28                         30   \n677                30                     23                         30   \n678                30                     23                         30   \n679                30                     20                         30   \n680                30                     23                         30   \n\n     EXERTION_POINTS  MAX_EXERTION_POINTS             STATUS  \\\n0                  0                    0  READY_NOT_PREMIUM   \n1                  0                    0  READY_NOT_PREMIUM   \n2                  0                    0  READY_NOT_PREMIUM   \n3                  0                    0  READY_NOT_PREMIUM   \n4                  0                    0  READY_NOT_PREMIUM   \n..               ...                  ...                ...   \n676               26                   40              READY   \n677               26                   40              READY   \n678               21                   40              READY   \n679               31                   40              READY   \n680               29                   40              READY   \n\n     CALCULATION_FAILED  \n0                 False  \n1                 False  \n2                 False  \n3                 False  \n4                 False  \n..                  ...  \n676               False  \n677               False  \n678               False  \n679               False  \n680               False  \n\n[681 rows x 11 columns]",
      "text/html": "<div>\n<style scoped>\n    .dataframe tbody tr th:only-of-type {\n        vertical-align: middle;\n    }\n\n    .dataframe tbody tr th {\n        vertical-align: top;\n    }\n\n    .dataframe thead th {\n        text-align: right;\n    }\n</style>\n<table border=\"1\" class=\"dataframe\">\n  <thead>\n    <tr style=\"text-align: right;\">\n      <th></th>\n      <th>DATE</th>\n      <th>UPDATED_AT</th>\n      <th>STRESS_SCORE</th>\n      <th>SLEEP_POINTS</th>\n      <th>MAX_SLEEP_POINTS</th>\n      <th>RESPONSIVENESS_POINTS</th>\n      <th>MAX_RESPONSIVENESS_POINTS</th>\n      <th>EXERTION_POINTS</th>\n      <th>MAX_EXERTION_POINTS</th>\n      <th>STATUS</th>\n      <th>CALCULATION_FAILED</th>\n    </tr>\n  </thead>\n  <tbody>\n    <tr>\n      <th>0</th>\n      <td>2022-01-14T00:00:00</td>\n      <td>2022-01-14T06:29:35.631</td>\n      <td>82</td>\n      <td>0</td>\n      <td>0</td>\n      <td>0</td>\n      <td>0</td>\n      <td>0</td>\n      <td>0</td>\n      <td>READY_NOT_PREMIUM</td>\n      <td>False</td>\n    </tr>\n    <tr>\n      <th>1</th>\n      <td>2022-01-15T00:00:00</td>\n      <td>2022-01-15T10:08:45.675</td>\n      <td>73</td>\n      <td>0</td>\n      <td>0</td>\n      <td>0</td>\n      <td>0</td>\n      <td>0</td>\n      <td>0</td>\n      <td>READY_NOT_PREMIUM</td>\n      <td>False</td>\n    </tr>\n    <tr>\n      <th>2</th>\n      <td>2022-01-16T00:00:00</td>\n      <td>2022-01-16T09:18:37.96</td>\n      <td>88</td>\n      <td>0</td>\n      <td>0</td>\n      <td>0</td>\n      <td>0</td>\n      <td>0</td>\n      <td>0</td>\n      <td>READY_NOT_PREMIUM</td>\n      <td>False</td>\n    </tr>\n    <tr>\n      <th>3</th>\n      <td>2022-01-18T00:00:00</td>\n      <td>2022-01-18T06:59:11.594</td>\n      <td>84</td>\n      <td>0</td>\n      <td>0</td>\n      <td>0</td>\n      <td>0</td>\n      <td>0</td>\n      <td>0</td>\n      <td>READY_NOT_PREMIUM</td>\n      <td>False</td>\n    </tr>\n    <tr>\n      <th>4</th>\n      <td>2022-01-19T00:00:00</td>\n      <td>2022-01-19T06:20:48.915</td>\n      <td>83</td>\n      <td>0</td>\n      <td>0</td>\n      <td>0</td>\n      <td>0</td>\n      <td>0</td>\n      <td>0</td>\n      <td>READY_NOT_PREMIUM</td>\n      <td>False</td>\n    </tr>\n    <tr>\n      <th>...</th>\n      <td>...</td>\n      <td>...</td>\n      <td>...</td>\n      <td>...</td>\n      <td>...</td>\n      <td>...</td>\n      <td>...</td>\n      <td>...</td>\n      <td>...</td>\n      <td>...</td>\n      <td>...</td>\n    </tr>\n    <tr>\n      <th>676</th>\n      <td>2024-03-11T00:00:00</td>\n      <td>2024-03-12T09:03:07.685</td>\n      <td>73</td>\n      <td>19</td>\n      <td>30</td>\n      <td>28</td>\n      <td>30</td>\n      <td>26</td>\n      <td>40</td>\n      <td>READY</td>\n      <td>False</td>\n    </tr>\n    <tr>\n      <th>677</th>\n      <td>2024-03-12T00:00:00</td>\n      <td>2024-03-12T09:03:08.198</td>\n      <td>76</td>\n      <td>27</td>\n      <td>30</td>\n      <td>23</td>\n      <td>30</td>\n      <td>26</td>\n      <td>40</td>\n      <td>READY</td>\n      <td>False</td>\n    </tr>\n    <tr>\n      <th>678</th>\n      <td>2024-03-13T00:00:00</td>\n      <td>2024-03-13T08:25:54.156</td>\n      <td>71</td>\n      <td>27</td>\n      <td>30</td>\n      <td>23</td>\n      <td>30</td>\n      <td>21</td>\n      <td>40</td>\n      <td>READY</td>\n      <td>False</td>\n    </tr>\n    <tr>\n      <th>679</th>\n      <td>2024-03-14T00:00:00</td>\n      <td>2024-03-14T08:28:46.149</td>\n      <td>81</td>\n      <td>30</td>\n      <td>30</td>\n      <td>20</td>\n      <td>30</td>\n      <td>31</td>\n      <td>40</td>\n      <td>READY</td>\n      <td>False</td>\n    </tr>\n    <tr>\n      <th>680</th>\n      <td>2024-03-15T00:00:00</td>\n      <td>2024-03-15T07:30:34.296</td>\n      <td>78</td>\n      <td>26</td>\n      <td>30</td>\n      <td>23</td>\n      <td>30</td>\n      <td>29</td>\n      <td>40</td>\n      <td>READY</td>\n      <td>False</td>\n    </tr>\n  </tbody>\n</table>\n<p>681 rows × 11 columns</p>\n</div>"
     },
     "execution_count": 119,
     "metadata": {},
     "output_type": "execute_result"
    }
   ],
   "source": [
    "stress"
   ],
   "metadata": {
    "collapsed": false,
    "ExecuteTime": {
     "end_time": "2024-03-16T14:38:55.641574Z",
     "start_time": "2024-03-16T14:38:55.627256Z"
    }
   },
   "id": "9fac6dfa87d4d1c9",
   "execution_count": 119
  },
  {
   "cell_type": "markdown",
   "source": [
    "### Weight"
   ],
   "metadata": {
    "collapsed": false
   },
   "id": "671ccbfee6521fa4"
  },
  {
   "cell_type": "code",
   "outputs": [],
   "source": [
    "file_path = '../data/raw/weight/weight-2022-01-11.json'"
   ],
   "metadata": {
    "collapsed": false,
    "ExecuteTime": {
     "end_time": "2024-03-16T14:39:30.300400Z",
     "start_time": "2024-03-16T14:39:30.293783Z"
    }
   },
   "id": "2198cf1ebebf6ede",
   "execution_count": 122
  },
  {
   "cell_type": "code",
   "outputs": [],
   "source": [
    "with open(file_path, 'r') as file:\n",
    "    weight = json.load(file)\n",
    "    weight_df = pd.DataFrame(weight)"
   ],
   "metadata": {
    "collapsed": false,
    "ExecuteTime": {
     "end_time": "2024-03-16T14:39:31.115114Z",
     "start_time": "2024-03-16T14:39:31.107654Z"
    }
   },
   "id": "bbf8849a060fec1e",
   "execution_count": 123
  },
  {
   "cell_type": "code",
   "outputs": [
    {
     "data": {
      "text/plain": "           logId  weight    bmi      date      time source   fat\n0  1642031999000   197.7  23.35  01/12/22  23:59:59    API   NaN\n1  1642118399000   197.9  23.38  01/13/22  23:59:59    API  20.0\n2  1642671555000   197.7  23.35  01/20/22  09:39:15    API   NaN\n3  1642809599000   200.4  23.66  01/21/22  23:59:59    API  20.0\n4  1643155199000   197.5  23.32  01/25/22  23:59:59    API  20.0\n5  1643414399000   195.5  23.09  01/28/22  23:59:59    API  20.0\n6  1643500799000   198.6  23.45  01/29/22  23:59:59    API  20.0\n7  1643587199000   197.5  23.32  01/30/22  23:59:59    API  20.0\n8  1644019199000   195.9  23.14  02/04/22  23:59:59    API  20.0",
      "text/html": "<div>\n<style scoped>\n    .dataframe tbody tr th:only-of-type {\n        vertical-align: middle;\n    }\n\n    .dataframe tbody tr th {\n        vertical-align: top;\n    }\n\n    .dataframe thead th {\n        text-align: right;\n    }\n</style>\n<table border=\"1\" class=\"dataframe\">\n  <thead>\n    <tr style=\"text-align: right;\">\n      <th></th>\n      <th>logId</th>\n      <th>weight</th>\n      <th>bmi</th>\n      <th>date</th>\n      <th>time</th>\n      <th>source</th>\n      <th>fat</th>\n    </tr>\n  </thead>\n  <tbody>\n    <tr>\n      <th>0</th>\n      <td>1642031999000</td>\n      <td>197.7</td>\n      <td>23.35</td>\n      <td>01/12/22</td>\n      <td>23:59:59</td>\n      <td>API</td>\n      <td>NaN</td>\n    </tr>\n    <tr>\n      <th>1</th>\n      <td>1642118399000</td>\n      <td>197.9</td>\n      <td>23.38</td>\n      <td>01/13/22</td>\n      <td>23:59:59</td>\n      <td>API</td>\n      <td>20.0</td>\n    </tr>\n    <tr>\n      <th>2</th>\n      <td>1642671555000</td>\n      <td>197.7</td>\n      <td>23.35</td>\n      <td>01/20/22</td>\n      <td>09:39:15</td>\n      <td>API</td>\n      <td>NaN</td>\n    </tr>\n    <tr>\n      <th>3</th>\n      <td>1642809599000</td>\n      <td>200.4</td>\n      <td>23.66</td>\n      <td>01/21/22</td>\n      <td>23:59:59</td>\n      <td>API</td>\n      <td>20.0</td>\n    </tr>\n    <tr>\n      <th>4</th>\n      <td>1643155199000</td>\n      <td>197.5</td>\n      <td>23.32</td>\n      <td>01/25/22</td>\n      <td>23:59:59</td>\n      <td>API</td>\n      <td>20.0</td>\n    </tr>\n    <tr>\n      <th>5</th>\n      <td>1643414399000</td>\n      <td>195.5</td>\n      <td>23.09</td>\n      <td>01/28/22</td>\n      <td>23:59:59</td>\n      <td>API</td>\n      <td>20.0</td>\n    </tr>\n    <tr>\n      <th>6</th>\n      <td>1643500799000</td>\n      <td>198.6</td>\n      <td>23.45</td>\n      <td>01/29/22</td>\n      <td>23:59:59</td>\n      <td>API</td>\n      <td>20.0</td>\n    </tr>\n    <tr>\n      <th>7</th>\n      <td>1643587199000</td>\n      <td>197.5</td>\n      <td>23.32</td>\n      <td>01/30/22</td>\n      <td>23:59:59</td>\n      <td>API</td>\n      <td>20.0</td>\n    </tr>\n    <tr>\n      <th>8</th>\n      <td>1644019199000</td>\n      <td>195.9</td>\n      <td>23.14</td>\n      <td>02/04/22</td>\n      <td>23:59:59</td>\n      <td>API</td>\n      <td>20.0</td>\n    </tr>\n  </tbody>\n</table>\n</div>"
     },
     "execution_count": 124,
     "metadata": {},
     "output_type": "execute_result"
    }
   ],
   "source": [
    "weight_df"
   ],
   "metadata": {
    "collapsed": false,
    "ExecuteTime": {
     "end_time": "2024-03-16T14:39:31.929021Z",
     "start_time": "2024-03-16T14:39:31.917181Z"
    }
   },
   "id": "f94aefb7290e88bb",
   "execution_count": 124
  },
  {
   "cell_type": "code",
   "outputs": [],
   "source": [
    "directory_path = '../data/raw/weight/'\n",
    "weight_list = []\n",
    "for filename in os.listdir(directory_path):\n",
    "    if filename.endswith('.json'):\n",
    "        filepath = os.path.join(directory_path, filename)\n",
    "    with open(filepath, 'r') as file:\n",
    "        weight = json.load(file)\n",
    "        temp_df = pd.json_normalize(weight)\n",
    "        weight_list.append(temp_df)\n",
    "\n",
    "weight_df = pd.concat(weight_list,ignore_index=True)"
   ],
   "metadata": {
    "collapsed": false,
    "ExecuteTime": {
     "end_time": "2024-03-16T14:39:45.397542Z",
     "start_time": "2024-03-16T14:39:45.363361Z"
    }
   },
   "id": "b9c3eaae0742db21",
   "execution_count": 125
  },
  {
   "cell_type": "code",
   "outputs": [
    {
     "data": {
      "text/plain": "             logId  weight    bmi      date      time    source        fat\n0    1642031999000   197.7  23.35  01/12/22  23:59:59       API        NaN\n1    1642118399000   197.9  23.38  01/13/22  23:59:59       API  20.000000\n2    1642671555000   197.7  23.35  01/20/22  09:39:15       API        NaN\n3    1642809599000   200.4  23.66  01/21/22  23:59:59       API  20.000000\n4    1643155199000   197.5  23.32  01/25/22  23:59:59       API  20.000000\n..             ...     ...    ...       ...       ...       ...        ...\n121  1706864975000   224.3  26.49  02/02/24  09:09:35  Withings  21.283001\n122  1706939353000   222.5  26.28  02/03/24  05:49:13  Withings  22.989000\n123  1707993167000   224.2  26.47  02/15/24  10:32:47  Withings  23.756001\n124  1708868398000   224.8  26.55  02/25/24  13:39:58  Withings  24.077000\n125  1709472516000   222.5  26.28  03/03/24  13:28:36  Withings  22.624001\n\n[126 rows x 7 columns]",
      "text/html": "<div>\n<style scoped>\n    .dataframe tbody tr th:only-of-type {\n        vertical-align: middle;\n    }\n\n    .dataframe tbody tr th {\n        vertical-align: top;\n    }\n\n    .dataframe thead th {\n        text-align: right;\n    }\n</style>\n<table border=\"1\" class=\"dataframe\">\n  <thead>\n    <tr style=\"text-align: right;\">\n      <th></th>\n      <th>logId</th>\n      <th>weight</th>\n      <th>bmi</th>\n      <th>date</th>\n      <th>time</th>\n      <th>source</th>\n      <th>fat</th>\n    </tr>\n  </thead>\n  <tbody>\n    <tr>\n      <th>0</th>\n      <td>1642031999000</td>\n      <td>197.7</td>\n      <td>23.35</td>\n      <td>01/12/22</td>\n      <td>23:59:59</td>\n      <td>API</td>\n      <td>NaN</td>\n    </tr>\n    <tr>\n      <th>1</th>\n      <td>1642118399000</td>\n      <td>197.9</td>\n      <td>23.38</td>\n      <td>01/13/22</td>\n      <td>23:59:59</td>\n      <td>API</td>\n      <td>20.000000</td>\n    </tr>\n    <tr>\n      <th>2</th>\n      <td>1642671555000</td>\n      <td>197.7</td>\n      <td>23.35</td>\n      <td>01/20/22</td>\n      <td>09:39:15</td>\n      <td>API</td>\n      <td>NaN</td>\n    </tr>\n    <tr>\n      <th>3</th>\n      <td>1642809599000</td>\n      <td>200.4</td>\n      <td>23.66</td>\n      <td>01/21/22</td>\n      <td>23:59:59</td>\n      <td>API</td>\n      <td>20.000000</td>\n    </tr>\n    <tr>\n      <th>4</th>\n      <td>1643155199000</td>\n      <td>197.5</td>\n      <td>23.32</td>\n      <td>01/25/22</td>\n      <td>23:59:59</td>\n      <td>API</td>\n      <td>20.000000</td>\n    </tr>\n    <tr>\n      <th>...</th>\n      <td>...</td>\n      <td>...</td>\n      <td>...</td>\n      <td>...</td>\n      <td>...</td>\n      <td>...</td>\n      <td>...</td>\n    </tr>\n    <tr>\n      <th>121</th>\n      <td>1706864975000</td>\n      <td>224.3</td>\n      <td>26.49</td>\n      <td>02/02/24</td>\n      <td>09:09:35</td>\n      <td>Withings</td>\n      <td>21.283001</td>\n    </tr>\n    <tr>\n      <th>122</th>\n      <td>1706939353000</td>\n      <td>222.5</td>\n      <td>26.28</td>\n      <td>02/03/24</td>\n      <td>05:49:13</td>\n      <td>Withings</td>\n      <td>22.989000</td>\n    </tr>\n    <tr>\n      <th>123</th>\n      <td>1707993167000</td>\n      <td>224.2</td>\n      <td>26.47</td>\n      <td>02/15/24</td>\n      <td>10:32:47</td>\n      <td>Withings</td>\n      <td>23.756001</td>\n    </tr>\n    <tr>\n      <th>124</th>\n      <td>1708868398000</td>\n      <td>224.8</td>\n      <td>26.55</td>\n      <td>02/25/24</td>\n      <td>13:39:58</td>\n      <td>Withings</td>\n      <td>24.077000</td>\n    </tr>\n    <tr>\n      <th>125</th>\n      <td>1709472516000</td>\n      <td>222.5</td>\n      <td>26.28</td>\n      <td>03/03/24</td>\n      <td>13:28:36</td>\n      <td>Withings</td>\n      <td>22.624001</td>\n    </tr>\n  </tbody>\n</table>\n<p>126 rows × 7 columns</p>\n</div>"
     },
     "execution_count": 126,
     "metadata": {},
     "output_type": "execute_result"
    }
   ],
   "source": [
    "weight_df"
   ],
   "metadata": {
    "collapsed": false,
    "ExecuteTime": {
     "end_time": "2024-03-16T14:39:46.191671Z",
     "start_time": "2024-03-16T14:39:46.176114Z"
    }
   },
   "id": "fc3950b895b743ae",
   "execution_count": 126
  },
  {
   "cell_type": "markdown",
   "source": [
    "Would be better to get weight data from withings as it seems more comprehensive"
   ],
   "metadata": {
    "collapsed": false
   },
   "id": "dfbc56f6565dbb9d"
  },
  {
   "cell_type": "code",
   "outputs": [],
   "source": [],
   "metadata": {
    "collapsed": false
   },
   "id": "f3a621cb7a52aa2"
  }
 ],
 "metadata": {
  "kernelspec": {
   "display_name": "Python 3",
   "language": "python",
   "name": "python3"
  },
  "language_info": {
   "codemirror_mode": {
    "name": "ipython",
    "version": 2
   },
   "file_extension": ".py",
   "mimetype": "text/x-python",
   "name": "python",
   "nbconvert_exporter": "python",
   "pygments_lexer": "ipython2",
   "version": "2.7.6"
  }
 },
 "nbformat": 4,
 "nbformat_minor": 5
}
